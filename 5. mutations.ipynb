{
 "cells": [
  {
   "cell_type": "code",
   "execution_count": 1,
   "id": "3182aa70-b3c0-4080-9034-ba2887a88a61",
   "metadata": {},
   "outputs": [
    {
     "name": "stderr",
     "output_type": "stream",
     "text": [
      "/data/nasif12/home_if12/l_schewinski/.conda/envs/l-schewinski-tp-4/lib/python3.7/site-packages/tqdm/auto.py:21: TqdmWarning: IProgress not found. Please update jupyter and ipywidgets. See https://ipywidgets.readthedocs.io/en/stable/user_install.html\n",
      "  from .autonotebook import tqdm as notebook_tqdm\n"
     ]
    }
   ],
   "source": [
    "import pickle\n",
    "import pandas as pd\n",
    "import numpy as np\n",
    "import torch\n",
    "import torch.nn as nn\n",
    "from torch.utils.data import DataLoader, TensorDataset\n",
    "import ast"
   ]
  },
  {
   "cell_type": "code",
   "execution_count": 2,
   "id": "0c6172b4-c796-4601-a48e-af749f6eafab",
   "metadata": {},
   "outputs": [
    {
     "name": "stdout",
     "output_type": "stream",
     "text": [
      "435\n",
      "13\n",
      "435\n"
     ]
    },
    {
     "name": "stderr",
     "output_type": "stream",
     "text": [
      "/data/nasif12/home_if12/l_schewinski/.conda/envs/l-schewinski-tp-4/lib/python3.7/site-packages/ipykernel_launcher.py:8: SettingWithCopyWarning: \n",
      "A value is trying to be set on a copy of a slice from a DataFrame.\n",
      "Try using .loc[row_indexer,col_indexer] = value instead\n",
      "\n",
      "See the caveats in the documentation: https://pandas.pydata.org/pandas-docs/stable/user_guide/indexing.html#returning-a-view-versus-a-copy\n",
      "  \n"
     ]
    }
   ],
   "source": [
    "# Get protein sequence, peptide sequence, and binary positions from file for specific protein/peptide\n",
    "df_2 = pd.read_csv('data/OsmoticStress_with_binary_positions_padded.csv')\n",
    "df_2 = df_2.drop(columns=[ 'Padded_Binary_Positions'])\n",
    "df_2_P32485 = df_2[df_2[\"Uniprot_ID\"] == \"P32485\"]\n",
    "df_2_P32485['full_sequence_len'] = df_2_P32485['full_sequence'].apply(len)\n",
    "df_2_P32485_HOG1 = df_2_P32485.iloc[:1]\n",
    "df_2_P32485_HOG1\n",
    "\n",
    "protein_sequence = df_2_P32485_HOG1.iloc[0,3]\n",
    "print(len(protein_sequence))\n",
    "peptide_sequence = df_2_P32485_HOG1.iloc[0,1]\n",
    "print(len(peptide_sequence))\n",
    "\n",
    "binary_position_extracted = df_2_P32485_HOG1.iloc[0, 4]\n",
    "binary_position_list = ast.literal_eval(binary_position_extracted)\n",
    "print(len(binary_position_list))"
   ]
  },
  {
   "cell_type": "code",
   "execution_count": 3,
   "id": "138e8afe-9ac3-4481-85df-bb3d1247b189",
   "metadata": {},
   "outputs": [
    {
     "name": "stderr",
     "output_type": "stream",
     "text": [
      "/data/nasif12/home_if12/l_schewinski/.conda/envs/l-schewinski-tp-4/lib/python3.7/site-packages/ipykernel_launcher.py:85: UserWarning: Creating a tensor from a list of numpy.ndarrays is extremely slow. Please consider converting the list to a single numpy.ndarray with numpy.array() before converting to a tensor. (Triggered internally at ../torch/csrc/utils/tensor_new.cpp:230.)\n"
     ]
    },
    {
     "name": "stdout",
     "output_type": "stream",
     "text": [
      "   Position Substituted_AA                                    trim_embeddings  \\\n",
      "0       117              A  [[-0.0061233495362102985, 0.015098839066922665...   \n",
      "1       117              C  [[-0.006464079022407532, 0.01264792401343584, ...   \n",
      "2       117              D  [[-0.008026347495615482, 0.014585660770535469,...   \n",
      "3       117              E  [[-0.006358207669109106, 0.015390974469482899,...   \n",
      "4       117              F  [[-0.00521319592371583, 0.015620307996869087, ...   \n",
      "\n",
      "                                    Binary_Positions  Lipnorm_Predicted  \n",
      "0  [0, 0, 0, 0, 0, 0, 0, 0, 0, 0, 0, 0, 0, 0, 0, ...           0.541455  \n",
      "1  [0, 0, 0, 0, 0, 0, 0, 0, 0, 0, 0, 0, 0, 0, 0, ...           0.541224  \n",
      "2  [0, 0, 0, 0, 0, 0, 0, 0, 0, 0, 0, 0, 0, 0, 0, ...           0.541377  \n",
      "3  [0, 0, 0, 0, 0, 0, 0, 0, 0, 0, 0, 0, 0, 0, 0, ...           0.541402  \n",
      "4  [0, 0, 0, 0, 0, 0, 0, 0, 0, 0, 0, 0, 0, 0, 0, ...           0.541459  \n"
     ]
    }
   ],
   "source": [
    "# Define device for computation\n",
    "device = torch.device(\"cuda\" if torch.cuda.is_available() else \"CPU\")\n",
    "\n",
    "# Load specific embeddings for mutatate proteins\n",
    "def load_and_process_embedding(file_path):\n",
    "    \"\"\"\n",
    "    Loads the embeddings from a file and returns a DataFrame.\n",
    "    \"\"\"\n",
    "    with open(file_path, 'rb') as file:\n",
    "        embeddings = pickle.load(file)\n",
    "    return pd.DataFrame(embeddings)\n",
    "\n",
    "embedding_files = [\n",
    "    'data/mutant_sequences_50_context_fix_1.pkl',\n",
    "    'data/mutant_sequences_50_context_fix_2.pkl'\n",
    "]\n",
    "\n",
    "mutant_embeddings = pd.DataFrame()\n",
    "\n",
    "for file_path in embedding_files:\n",
    "    current_mutant_embeddings = load_and_process_embedding(file_path)\n",
    "    mutant_embeddings = pd.concat([mutant_embeddings, current_mutant_embeddings])\n",
    "\n",
    "# Trim embeddings first and last token\n",
    "mutant_embeddings['trim_embeddings'] = mutant_embeddings['embeddings'].apply(lambda x: np.array(x)[1:-1, :])\n",
    "\n",
    "mutant_embeddings = mutant_embeddings[['Position', 'Substituted_AA', 'trim_embeddings']]\n",
    "\n",
    "# Model definition\n",
    "class PeptideRegressor(nn.Module):\n",
    "    def __init__(self, input_dim, num_heads, dropout_rate):\n",
    "        super(PeptideRegressor, self).__init__()\n",
    "        \n",
    "        self.seq_pos_embed = nn.Embedding(1000, 1280)\n",
    "        self.pept_pos_embed = nn.Embedding(2, 1280)\n",
    "                \n",
    "        encoder_layer = nn.TransformerEncoderLayer(\n",
    "            d_model=256, \n",
    "            nhead=num_heads, \n",
    "            dropout=dropout_rate\n",
    "        )\n",
    "        self.transformer_encoder = nn.TransformerEncoder(encoder_layer, num_layers=1)\n",
    "        \n",
    "        self.fc = nn.Linear(256, 1)\n",
    "\n",
    "    def forward(self, x):\n",
    "        positions = x[\"position\"]\n",
    "        x = x[\"embeddings\"] + self.seq_pos_embed(torch.arange(x[\"position\"].size(1), device=device)) + self.pept_pos_embed(x[\"position\"])\n",
    "        x = x.permute(1, 0, 2) \n",
    "\n",
    "        embed = self.fc_embed(x)\n",
    "        transformer_output = self.transformer_encoder(embed)\n",
    "        transformer_output = transformer_output.permute(1, 2, 0)\n",
    "        \n",
    "        mask = positions == 1\n",
    "        mask = mask.unsqueeze(1)\n",
    "        peptide_embeddings = transformer_output * mask.float()\n",
    "        pooled = torch.sum(peptide_embeddings, dim=-1)/torch.sum(positions==1,dim=-1).unsqueeze(1)\n",
    "        \n",
    "        output = self.fc(pooled)\n",
    "        return output\n",
    "\n",
    "# Load model\n",
    "model_path = 'best_peptide_model.pth'\n",
    "model_checkpoint = torch.load(model_path, map_location=device)\n",
    "model = PeptideRegressor(input_dim=1280, num_heads=4, dropout_rate=0.08)\n",
    "model.load_state_dict(model_checkpoint['model_state_dict'])\n",
    "model.to(device)\n",
    "model.eval()\n",
    "\n",
    "# Add binary positions to the df\n",
    "mutant_embeddings['Binary_Positions'] = [binary_position_list] * len(mutant_embeddings)\n",
    "\n",
    "# Prepare data for DataLoader\n",
    "embeddings_tensor = torch.tensor(mutant_embeddings['trim_embeddings'].tolist(), dtype=torch.float32).to(device)\n",
    "positions_tensor = torch.tensor(mutant_embeddings['Binary_Positions'].tolist(), dtype=torch.int64).to(device)\n",
    "\n",
    "tensor_dataset = TensorDataset(embeddings_tensor, positions_tensor)\n",
    "\n",
    "# DataLoader to handle batches\n",
    "data_loader = DataLoader(tensor_dataset, batch_size=256, shuffle=False)\n",
    "\n",
    "# Batch processing for predictions\n",
    "predictions = []\n",
    "with torch.no_grad():\n",
    "    for embeddings, positions in data_loader:\n",
    "        input_data = {\n",
    "            \"embeddings\": embeddings,\n",
    "            \"position\": positions\n",
    "        }\n",
    "        output = model(input_data).squeeze(-1)  # Ensure output dimension matches your expected structure\n",
    "        predictions.extend(output.cpu().numpy())\n",
    "\n",
    "# Assign predictions back to DataFrame\n",
    "mutant_embeddings['Lipnorm_Predicted'] = predictions\n",
    "\n",
    "print(mutant_embeddings.head())"
   ]
  },
  {
   "cell_type": "code",
   "execution_count": 4,
   "id": "fa794474-ed62-4a67-83a1-8acfbc1c34de",
   "metadata": {},
   "outputs": [],
   "source": [
    "mutant_embeddings_ = mutant_embeddings['trim_embeddings'].apply(len)"
   ]
  },
  {
   "cell_type": "code",
   "execution_count": 5,
   "id": "015698ff-d7a4-4533-a229-d6ed6e1bae2d",
   "metadata": {},
   "outputs": [
    {
     "data": {
      "text/plain": [
       "0       435\n",
       "1       435\n",
       "2       435\n",
       "3       435\n",
       "4       435\n",
       "       ... \n",
       "2142    435\n",
       "2143    435\n",
       "2144    435\n",
       "2145    435\n",
       "2146    435\n",
       "Name: trim_embeddings, Length: 2147, dtype: int64"
      ]
     },
     "execution_count": 5,
     "metadata": {},
     "output_type": "execute_result"
    }
   ],
   "source": [
    "mutant_embeddings_"
   ]
  },
  {
   "cell_type": "code",
   "execution_count": 6,
   "id": "0ad7e82d-1e16-44c9-abe6-724692f38c94",
   "metadata": {},
   "outputs": [
    {
     "name": "stdout",
     "output_type": "stream",
     "text": [
      "113\n"
     ]
    }
   ],
   "source": [
    "# Get the trimmed sequence\n",
    "def get_peptide_context(full_seq, peptide, context_size=50):\n",
    "    start_index = full_seq.find(peptide)\n",
    "    start_slice = max(0, start_index - context_size)\n",
    "    end_slice = min(len(full_seq), start_index + len(peptide) + context_size)\n",
    "    return full_seq[start_slice:end_slice]\n",
    "\n",
    "def apply_context(row):\n",
    "    return get_peptide_context(row['full_sequence'], row['Peptide_sequence'])\n",
    "\n",
    "row = {\n",
    "    'full_sequence': protein_sequence,\n",
    "    'Peptide_sequence': peptide_sequence\n",
    "}\n",
    "\n",
    "sequence_trim = apply_context(row)\n",
    "print(len(sequence_trim))"
   ]
  },
  {
   "cell_type": "code",
   "execution_count": 7,
   "id": "fc193b7f-9463-4a6a-bfea-1fcaadb22016",
   "metadata": {},
   "outputs": [
    {
     "name": "stdout",
     "output_type": "stream",
     "text": [
      "IQDPQMTGYVSTR\n"
     ]
    }
   ],
   "source": [
    "print(peptide_sequence)"
   ]
  },
  {
   "cell_type": "code",
   "execution_count": 8,
   "id": "9bca0566-88d6-4faa-9849-b7776302451b",
   "metadata": {},
   "outputs": [],
   "source": [
    "# Get the protein embedding of P32485\n",
    "df_3 = pd.read_csv('data/P32485_peptide.csv')\n",
    "\n",
    "protein_embedding = df_3.iloc[0, 7]\n",
    "protein_embedding = ast.literal_eval(protein_embedding)\n",
    "protein_embedding = protein_embedding[1:-1]"
   ]
  },
  {
   "cell_type": "code",
   "execution_count": 9,
   "id": "d3d47635-8411-4a7b-9399-021675d5bf57",
   "metadata": {},
   "outputs": [
    {
     "name": "stdout",
     "output_type": "stream",
     "text": [
      "torch.Size([1, 435, 1280])\n",
      "torch.Size([1, 435])\n"
     ]
    }
   ],
   "source": [
    "# Creation of the tensors to get LipNorm of non mutated protein as base\n",
    "protein_embedding_tensor = torch.tensor(protein_embedding[:435], dtype=torch.float16).unsqueeze(0).to(device)\n",
    "print(protein_embedding_tensor.shape)\n",
    "binary_position_tensor = torch.tensor(binary_position_list, dtype=torch.int64).unsqueeze(0).to(device)\n",
    "print(binary_position_tensor.shape)"
   ]
  },
  {
   "cell_type": "code",
   "execution_count": 10,
   "id": "b3a0cd29-6d5e-461d-b9fc-c008e4f7d3e0",
   "metadata": {},
   "outputs": [
    {
     "name": "stdout",
     "output_type": "stream",
     "text": [
      "tensor([0.5410], device='cuda:0')\n"
     ]
    }
   ],
   "source": [
    "# Get the non mutated Lip norm of P32485\n",
    "input_data = {\n",
    "    \"embeddings\": protein_embedding_tensor,\n",
    "    \"position\": binary_position_tensor\n",
    "}\n",
    "\n",
    "with torch.no_grad():\n",
    "    output = model(input_data).squeeze(-1)  # Adjust based on your model's requirement\n",
    "\n",
    "print(output)"
   ]
  },
  {
   "cell_type": "code",
   "execution_count": 11,
   "id": "65773fb8-6aa5-4ac4-a931-79900ae65c6d",
   "metadata": {},
   "outputs": [],
   "source": [
    "lip_norm_sequence = output.cpu().numpy()"
   ]
  },
  {
   "cell_type": "code",
   "execution_count": 12,
   "id": "9e98f81e-c6d2-4355-9a1e-8773cd539543",
   "metadata": {},
   "outputs": [
    {
     "data": {
      "text/html": [
       "<div>\n",
       "<style scoped>\n",
       "    .dataframe tbody tr th:only-of-type {\n",
       "        vertical-align: middle;\n",
       "    }\n",
       "\n",
       "    .dataframe tbody tr th {\n",
       "        vertical-align: top;\n",
       "    }\n",
       "\n",
       "    .dataframe thead th {\n",
       "        text-align: right;\n",
       "    }\n",
       "</style>\n",
       "<table border=\"1\" class=\"dataframe\">\n",
       "  <thead>\n",
       "    <tr style=\"text-align: right;\">\n",
       "      <th></th>\n",
       "      <th>Position</th>\n",
       "      <th>Substituted_AA</th>\n",
       "      <th>trim_embeddings</th>\n",
       "      <th>Binary_Positions</th>\n",
       "      <th>Lipnorm_Predicted</th>\n",
       "    </tr>\n",
       "  </thead>\n",
       "  <tbody>\n",
       "    <tr>\n",
       "      <th>0</th>\n",
       "      <td>117</td>\n",
       "      <td>A</td>\n",
       "      <td>[[-0.0061233495362102985, 0.015098839066922665...</td>\n",
       "      <td>[0, 0, 0, 0, 0, 0, 0, 0, 0, 0, 0, 0, 0, 0, 0, ...</td>\n",
       "      <td>0.541455</td>\n",
       "    </tr>\n",
       "    <tr>\n",
       "      <th>1</th>\n",
       "      <td>117</td>\n",
       "      <td>C</td>\n",
       "      <td>[[-0.006464079022407532, 0.01264792401343584, ...</td>\n",
       "      <td>[0, 0, 0, 0, 0, 0, 0, 0, 0, 0, 0, 0, 0, 0, 0, ...</td>\n",
       "      <td>0.541224</td>\n",
       "    </tr>\n",
       "    <tr>\n",
       "      <th>2</th>\n",
       "      <td>117</td>\n",
       "      <td>D</td>\n",
       "      <td>[[-0.008026347495615482, 0.014585660770535469,...</td>\n",
       "      <td>[0, 0, 0, 0, 0, 0, 0, 0, 0, 0, 0, 0, 0, 0, 0, ...</td>\n",
       "      <td>0.541377</td>\n",
       "    </tr>\n",
       "    <tr>\n",
       "      <th>3</th>\n",
       "      <td>117</td>\n",
       "      <td>E</td>\n",
       "      <td>[[-0.006358207669109106, 0.015390974469482899,...</td>\n",
       "      <td>[0, 0, 0, 0, 0, 0, 0, 0, 0, 0, 0, 0, 0, 0, 0, ...</td>\n",
       "      <td>0.541402</td>\n",
       "    </tr>\n",
       "    <tr>\n",
       "      <th>4</th>\n",
       "      <td>117</td>\n",
       "      <td>F</td>\n",
       "      <td>[[-0.00521319592371583, 0.015620307996869087, ...</td>\n",
       "      <td>[0, 0, 0, 0, 0, 0, 0, 0, 0, 0, 0, 0, 0, 0, 0, ...</td>\n",
       "      <td>0.541459</td>\n",
       "    </tr>\n",
       "    <tr>\n",
       "      <th>...</th>\n",
       "      <td>...</td>\n",
       "      <td>...</td>\n",
       "      <td>...</td>\n",
       "      <td>...</td>\n",
       "      <td>...</td>\n",
       "    </tr>\n",
       "    <tr>\n",
       "      <th>2142</th>\n",
       "      <td>229</td>\n",
       "      <td>R</td>\n",
       "      <td>[[-0.007110545411705971, 0.013286702334880829,...</td>\n",
       "      <td>[0, 0, 0, 0, 0, 0, 0, 0, 0, 0, 0, 0, 0, 0, 0, ...</td>\n",
       "      <td>0.540934</td>\n",
       "    </tr>\n",
       "    <tr>\n",
       "      <th>2143</th>\n",
       "      <td>229</td>\n",
       "      <td>S</td>\n",
       "      <td>[[-0.006072760093957186, 0.013019392266869545,...</td>\n",
       "      <td>[0, 0, 0, 0, 0, 0, 0, 0, 0, 0, 0, 0, 0, 0, 0, ...</td>\n",
       "      <td>0.541028</td>\n",
       "    </tr>\n",
       "    <tr>\n",
       "      <th>2144</th>\n",
       "      <td>229</td>\n",
       "      <td>V</td>\n",
       "      <td>[[-0.007984879426658154, 0.012945246882736683,...</td>\n",
       "      <td>[0, 0, 0, 0, 0, 0, 0, 0, 0, 0, 0, 0, 0, 0, 0, ...</td>\n",
       "      <td>0.540628</td>\n",
       "    </tr>\n",
       "    <tr>\n",
       "      <th>2145</th>\n",
       "      <td>229</td>\n",
       "      <td>W</td>\n",
       "      <td>[[-0.004949655383825302, 0.012255440466105938,...</td>\n",
       "      <td>[0, 0, 0, 0, 0, 0, 0, 0, 0, 0, 0, 0, 0, 0, 0, ...</td>\n",
       "      <td>0.540867</td>\n",
       "    </tr>\n",
       "    <tr>\n",
       "      <th>2146</th>\n",
       "      <td>229</td>\n",
       "      <td>Y</td>\n",
       "      <td>[[-0.008086237125098705, 0.015547412447631359,...</td>\n",
       "      <td>[0, 0, 0, 0, 0, 0, 0, 0, 0, 0, 0, 0, 0, 0, 0, ...</td>\n",
       "      <td>0.540211</td>\n",
       "    </tr>\n",
       "  </tbody>\n",
       "</table>\n",
       "<p>2147 rows × 5 columns</p>\n",
       "</div>"
      ],
      "text/plain": [
       "      Position Substituted_AA  \\\n",
       "0          117              A   \n",
       "1          117              C   \n",
       "2          117              D   \n",
       "3          117              E   \n",
       "4          117              F   \n",
       "...        ...            ...   \n",
       "2142       229              R   \n",
       "2143       229              S   \n",
       "2144       229              V   \n",
       "2145       229              W   \n",
       "2146       229              Y   \n",
       "\n",
       "                                        trim_embeddings  \\\n",
       "0     [[-0.0061233495362102985, 0.015098839066922665...   \n",
       "1     [[-0.006464079022407532, 0.01264792401343584, ...   \n",
       "2     [[-0.008026347495615482, 0.014585660770535469,...   \n",
       "3     [[-0.006358207669109106, 0.015390974469482899,...   \n",
       "4     [[-0.00521319592371583, 0.015620307996869087, ...   \n",
       "...                                                 ...   \n",
       "2142  [[-0.007110545411705971, 0.013286702334880829,...   \n",
       "2143  [[-0.006072760093957186, 0.013019392266869545,...   \n",
       "2144  [[-0.007984879426658154, 0.012945246882736683,...   \n",
       "2145  [[-0.004949655383825302, 0.012255440466105938,...   \n",
       "2146  [[-0.008086237125098705, 0.015547412447631359,...   \n",
       "\n",
       "                                       Binary_Positions  Lipnorm_Predicted  \n",
       "0     [0, 0, 0, 0, 0, 0, 0, 0, 0, 0, 0, 0, 0, 0, 0, ...           0.541455  \n",
       "1     [0, 0, 0, 0, 0, 0, 0, 0, 0, 0, 0, 0, 0, 0, 0, ...           0.541224  \n",
       "2     [0, 0, 0, 0, 0, 0, 0, 0, 0, 0, 0, 0, 0, 0, 0, ...           0.541377  \n",
       "3     [0, 0, 0, 0, 0, 0, 0, 0, 0, 0, 0, 0, 0, 0, 0, ...           0.541402  \n",
       "4     [0, 0, 0, 0, 0, 0, 0, 0, 0, 0, 0, 0, 0, 0, 0, ...           0.541459  \n",
       "...                                                 ...                ...  \n",
       "2142  [0, 0, 0, 0, 0, 0, 0, 0, 0, 0, 0, 0, 0, 0, 0, ...           0.540934  \n",
       "2143  [0, 0, 0, 0, 0, 0, 0, 0, 0, 0, 0, 0, 0, 0, 0, ...           0.541028  \n",
       "2144  [0, 0, 0, 0, 0, 0, 0, 0, 0, 0, 0, 0, 0, 0, 0, ...           0.540628  \n",
       "2145  [0, 0, 0, 0, 0, 0, 0, 0, 0, 0, 0, 0, 0, 0, 0, ...           0.540867  \n",
       "2146  [0, 0, 0, 0, 0, 0, 0, 0, 0, 0, 0, 0, 0, 0, 0, ...           0.540211  \n",
       "\n",
       "[2147 rows x 5 columns]"
      ]
     },
     "execution_count": 12,
     "metadata": {},
     "output_type": "execute_result"
    }
   ],
   "source": [
    "mutant_embeddings"
   ]
  },
  {
   "cell_type": "code",
   "execution_count": 13,
   "id": "9656ca4c-4f01-4afc-8ac7-06763d7ac46b",
   "metadata": {},
   "outputs": [
    {
     "data": {
      "text/plain": [
       "(2147, 5)"
      ]
     },
     "execution_count": 13,
     "metadata": {},
     "output_type": "execute_result"
    }
   ],
   "source": [
    "mutant_embeddings.shape"
   ]
  },
  {
   "cell_type": "code",
   "execution_count": 14,
   "id": "3355cf6c-1723-401d-aa67-6a21e540e0e7",
   "metadata": {},
   "outputs": [
    {
     "name": "stdout",
     "output_type": "stream",
     "text": [
      "     Position  average_lipnorm\n",
      "0         117         0.541355\n",
      "1         118         0.541133\n",
      "2         119         0.541398\n",
      "3         120         0.541126\n",
      "4         121         0.540927\n",
      "..        ...              ...\n",
      "108       225         0.541222\n",
      "109       226         0.541147\n",
      "110       227         0.541049\n",
      "111       228         0.540955\n",
      "112       229         0.540759\n",
      "\n",
      "[113 rows x 2 columns]\n"
     ]
    }
   ],
   "source": [
    "# Each position had 19 mutations, which will be averaged\n",
    "average_scores = mutant_embeddings.groupby('Position')['Lipnorm_Predicted'].mean()\n",
    "average_scores_df = pd.DataFrame(average_scores)\n",
    "average_scores_df.columns = ['average_lipnorm']\n",
    "average_scores_df.reset_index(inplace=True)\n",
    "print(average_scores_df)"
   ]
  },
  {
   "cell_type": "code",
   "execution_count": 15,
   "id": "3ea7a980-9a93-483b-a124-4a85b10ab06a",
   "metadata": {},
   "outputs": [
    {
     "name": "stdout",
     "output_type": "stream",
     "text": [
      "     Position  average_lipnorm  delta_lipnorm\n",
      "0         117         0.541355       0.000308\n",
      "1         118         0.541133       0.000086\n",
      "2         119         0.541398       0.000352\n",
      "3         120         0.541126       0.000080\n",
      "4         121         0.540927      -0.000119\n",
      "..        ...              ...            ...\n",
      "108       225         0.541222       0.000176\n",
      "109       226         0.541147       0.000101\n",
      "110       227         0.541049       0.000002\n",
      "111       228         0.540955      -0.000092\n",
      "112       229         0.540759      -0.000287\n",
      "\n",
      "[113 rows x 3 columns]\n"
     ]
    }
   ],
   "source": [
    "# Calculate the delta (difference) between average lipnorm and lip norm of the sequence without mutation\n",
    "average_scores_df['delta_lipnorm'] = (average_scores_df['average_lipnorm'] - lip_norm_sequence)\n",
    "print(average_scores_df)"
   ]
  },
  {
   "cell_type": "code",
   "execution_count": 16,
   "id": "ef2725e2-5527-45d4-b40f-13fd31ccd7ed",
   "metadata": {},
   "outputs": [
    {
     "data": {
      "text/html": [
       "<div>\n",
       "<style scoped>\n",
       "    .dataframe tbody tr th:only-of-type {\n",
       "        vertical-align: middle;\n",
       "    }\n",
       "\n",
       "    .dataframe tbody tr th {\n",
       "        vertical-align: top;\n",
       "    }\n",
       "\n",
       "    .dataframe thead th {\n",
       "        text-align: right;\n",
       "    }\n",
       "</style>\n",
       "<table border=\"1\" class=\"dataframe\">\n",
       "  <thead>\n",
       "    <tr style=\"text-align: right;\">\n",
       "      <th></th>\n",
       "      <th>Position</th>\n",
       "      <th>average_lipnorm</th>\n",
       "      <th>delta_lipnorm</th>\n",
       "    </tr>\n",
       "  </thead>\n",
       "  <tbody>\n",
       "    <tr>\n",
       "      <th>count</th>\n",
       "      <td>113.00000</td>\n",
       "      <td>113.000000</td>\n",
       "      <td>113.000000</td>\n",
       "    </tr>\n",
       "    <tr>\n",
       "      <th>mean</th>\n",
       "      <td>173.00000</td>\n",
       "      <td>0.541554</td>\n",
       "      <td>0.000507</td>\n",
       "    </tr>\n",
       "    <tr>\n",
       "      <th>std</th>\n",
       "      <td>32.76431</td>\n",
       "      <td>0.001156</td>\n",
       "      <td>0.001156</td>\n",
       "    </tr>\n",
       "    <tr>\n",
       "      <th>min</th>\n",
       "      <td>117.00000</td>\n",
       "      <td>0.539783</td>\n",
       "      <td>-0.001263</td>\n",
       "    </tr>\n",
       "    <tr>\n",
       "      <th>25%</th>\n",
       "      <td>145.00000</td>\n",
       "      <td>0.541009</td>\n",
       "      <td>-0.000038</td>\n",
       "    </tr>\n",
       "    <tr>\n",
       "      <th>50%</th>\n",
       "      <td>173.00000</td>\n",
       "      <td>0.541326</td>\n",
       "      <td>0.000279</td>\n",
       "    </tr>\n",
       "    <tr>\n",
       "      <th>75%</th>\n",
       "      <td>201.00000</td>\n",
       "      <td>0.541778</td>\n",
       "      <td>0.000731</td>\n",
       "    </tr>\n",
       "    <tr>\n",
       "      <th>max</th>\n",
       "      <td>229.00000</td>\n",
       "      <td>0.550583</td>\n",
       "      <td>0.009537</td>\n",
       "    </tr>\n",
       "  </tbody>\n",
       "</table>\n",
       "</div>"
      ],
      "text/plain": [
       "        Position  average_lipnorm  delta_lipnorm\n",
       "count  113.00000       113.000000     113.000000\n",
       "mean   173.00000         0.541554       0.000507\n",
       "std     32.76431         0.001156       0.001156\n",
       "min    117.00000         0.539783      -0.001263\n",
       "25%    145.00000         0.541009      -0.000038\n",
       "50%    173.00000         0.541326       0.000279\n",
       "75%    201.00000         0.541778       0.000731\n",
       "max    229.00000         0.550583       0.009537"
      ]
     },
     "execution_count": 16,
     "metadata": {},
     "output_type": "execute_result"
    }
   ],
   "source": [
    "average_scores_df.describe()"
   ]
  },
  {
   "cell_type": "code",
   "execution_count": 17,
   "id": "63fcde37-848e-4e2a-8bce-d5e16eada761",
   "metadata": {},
   "outputs": [],
   "source": [
    "import matplotlib\n",
    "import matplotlib.pyplot as plt\n",
    "from matplotlib.backends.backend_pdf import PdfPages\n",
    "import numpy as np\n",
    "\n",
    "# Plot configuration\n",
    "plt.style.use('seaborn-white')\n",
    "matplotlib.rcParams['text.usetex'] = True\n",
    "matplotlib.rcParams['font.family'] = 'serif'\n",
    "matplotlib.rcParams['text.latex.preamble'] = r'\\usepackage{amsmath}'"
   ]
  },
  {
   "cell_type": "code",
   "execution_count": 71,
   "id": "58aa40c1-220e-4429-b718-c86a83e9bebe",
   "metadata": {},
   "outputs": [
    {
     "data": {
      "image/png": "[encoded data removed]",
      "text/plain": [
       "<Figure size 1200x800 with 2 Axes>"
      ]
     },
     "metadata": {},
     "output_type": "display_data"
    }
   ],
   "source": [
    "import numpy as np\n",
    "import pandas as pd\n",
    "import matplotlib.pyplot as plt\n",
    "import logomaker\n",
    "from matplotlib.backends.backend_pdf import PdfPages\n",
    "from matplotlib.patches import ConnectionPatch\n",
    "\n",
    "delta_scores = np.array(average_scores_df['delta_lipnorm']).astype(np.float32)\n",
    "sequence = sequence_trim\n",
    "\n",
    "data = {'letter': list(sequence), 'delta': delta_scores}\n",
    "logo_df = pd.DataFrame(data)\n",
    "logo_df['delta'] = pd.to_numeric(logo_df['delta'], errors='coerce')\n",
    "logo_df.dropna(inplace=True)\n",
    "\n",
    "# Create the full matrix\n",
    "unique_symbols = set(sequence)\n",
    "full_matrix = pd.DataFrame(0.0, index=np.arange(len(logo_df)), columns=unique_symbols)\n",
    "for i, (letter, score) in enumerate(zip(logo_df['letter'], logo_df['delta'])):\n",
    "    if letter in full_matrix.columns:\n",
    "        full_matrix.at[i, letter] = score\n",
    "\n",
    "start_pos = 50\n",
    "end_pos = 63\n",
    "highlight_color = 'gold'\n",
    "fig, (ax1, ax2) = plt.subplots(2, 1, figsize=(12, 8))\n",
    "\n",
    "# Full sequence logo\n",
    "logo1 = logomaker.Logo(full_matrix, color_scheme=\"chemistry\", fade_below=0.5, ax=ax1)\n",
    "ax1.set_xlabel('Position')\n",
    "ax1.set_ylabel('Delta Score')\n",
    "\n",
    "highlight = ax1.axvspan(start_pos - 0.5, end_pos + 0.5, color=highlight_color, alpha=0.2, label='Peptide P32485 Position')\n",
    "custom_ticks = np.arange(0, len(sequence), 10)\n",
    "custom_tick_labels = np.arange(117, 117 + len(sequence), 10)\n",
    "ax1.set_xticks(custom_ticks)\n",
    "ax1.set_xticklabels(custom_tick_labels, rotation=45)\n",
    "ax1.legend(loc='upper right')\n",
    "\n",
    "# Plot the focused segment logo\n",
    "segment_matrix = full_matrix[start_pos:end_pos+1]\n",
    "logo2 = logomaker.Logo(segment_matrix, color_scheme=\"chemistry\", fade_below=0.5, ax=ax2)\n",
    "ax2.set_xlabel('Position')\n",
    "ax2.set_ylabel('Delta Score')\n",
    "\n",
    "highlight = ax1.axvspan(start_pos - 0.5, end_pos + 0.5, color=highlight_color, alpha=0.2, label='Peptide P32485 Position')\n",
    "custom_ticks = np.arange(50, 64, 1)\n",
    "custom_tick_labels = np.arange(168, 182, 1)\n",
    "ax2.set_xticks(custom_ticks)\n",
    "ax2.set_xticklabels(custom_tick_labels, rotation=45)\n",
    "\n",
    "# Calculate y-offset for connecting lines\n",
    "y_offset1 = max(full_matrix.max())\n",
    "y_offset2 = max(segment_matrix.max())\n",
    "\n",
    "# Linking lines between the main plot and the inset plot\n",
    "con1 = ConnectionPatch(xyA=(start_pos, y_offset1), coordsA=ax1.transData, \n",
    "                       xyB=(49.5, y_offset2), coordsB=ax2.transData, color='gray', linestyle='dotted')\n",
    "con2 = ConnectionPatch(xyA=(end_pos, y_offset1), coordsA=ax1.transData, \n",
    "                       xyB=(63.5, y_offset2), coordsB=ax2.transData, color='gray', linestyle='dotted')\n",
    "\n",
    "fig.add_artist(con1)\n",
    "fig.add_artist(con2)\n",
    "\n",
    "plt.tight_layout()\n",
    "plt.show()\n",
    "\n",
    "# Save to PDF\n",
    "pdf_file_path = './data/mutation_P32485_combined_separate.pdf'\n",
    "with PdfPages(pdf_file_path) as pdf:\n",
    "    pdf.savefig(fig)\n",
    "    plt.close(fig)"
   ]
  }
 ],
 "metadata": {
  "kernelspec": {
   "display_name": "Python [conda env:.conda-l-schewinski-tp-4]",
   "language": "python",
   "name": "conda-env-.conda-l-schewinski-tp-4-py"
  },
  "language_info": {
   "codemirror_mode": {
    "name": "ipython",
    "version": 3
   },
   "file_extension": ".py",
   "mimetype": "text/x-python",
   "name": "python",
   "nbconvert_exporter": "python",
   "pygments_lexer": "ipython3",
   "version": "3.7.12"
  }
 },
 "nbformat": 4,
 "nbformat_minor": 5
}
