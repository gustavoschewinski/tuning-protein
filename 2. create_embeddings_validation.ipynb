{
 "cells": [
  {
   "cell_type": "code",
   "execution_count": null,
   "metadata": {},
   "outputs": [],
   "source": [
    "import esm\n",
    "import torch\n",
    "import pandas as pd\n",
    "import tqdm"
   ]
  },
  {
   "cell_type": "code",
   "execution_count": null,
   "metadata": {},
   "outputs": [],
   "source": [
    "df = pd.read_excel('data/OsmoticStress.xlsx')"
   ]
  },
  {
   "cell_type": "code",
   "execution_count": null,
   "metadata": {},
   "outputs": [],
   "source": [
    "df_P32485 = df[df[\"Uniprot_ID\"] == \"P32485\"]"
   ]
  },
  {
   "cell_type": "code",
   "execution_count": null,
   "metadata": {},
   "outputs": [],
   "source": [
    "df_P32485"
   ]
  },
  {
   "cell_type": "code",
   "execution_count": null,
   "metadata": {},
   "outputs": [],
   "source": [
    "df_2 = pd.read_csv('data/OsmoticStress_with_binary_positions_padded.csv')\n",
    "df_2 = df_2.drop(columns=['Binary_Positions', 'Padded_Binary_Positions'])\n",
    "df_2_P32485 = df_2[df_2[\"Uniprot_ID\"] == \"P32485\"]\n",
    "df_2_P32485['full_sequence_len'] = df_2_P32485['full_sequence'].apply(len)"
   ]
  },
  {
   "cell_type": "code",
   "execution_count": null,
   "metadata": {},
   "outputs": [],
   "source": [
    "df_2_P32485_HOG1 = df_2_P32485.iloc[:1]\n",
    "df_2_P32485_HOG1.head()"
   ]
  },
  {
   "cell_type": "code",
   "execution_count": null,
   "metadata": {},
   "outputs": [],
   "source": [
    "def get_peptide_context(full_seq, peptide, context_size=50):\n",
    "    start_index = full_seq.find(peptide)\n",
    "    start_slice = max(0, start_index - context_size)\n",
    "    end_slice = min(len(full_seq), start_index + len(peptide) + context_size)\n",
    "    return full_seq[start_slice:end_slice]\n",
    "\n",
    "def apply_context(row):\n",
    "    return get_peptide_context(row['full_sequence'], row['Peptide_sequence'])\n",
    "\n",
    "# Apply the function using the external lambda definition\n",
    "df_2_P32485_HOG1['context_including_peptide'] = df_2_P32485_HOG1.apply(apply_context, axis=1)"
   ]
  },
  {
   "cell_type": "code",
   "execution_count": null,
   "metadata": {},
   "outputs": [],
   "source": [
    "df_2_P32485_HOG1"
   ]
  },
  {
   "cell_type": "code",
   "execution_count": null,
   "metadata": {},
   "outputs": [],
   "source": [
    "sequence = df_2_P32485_HOG1.iloc[0, 5]\n",
    "print(len(sequence))"
   ]
  },
  {
   "cell_type": "code",
   "execution_count": null,
   "metadata": {},
   "outputs": [],
   "source": [
    "amino_acids = 'ACDEFGHIKLMNPQRSTVWY'\n",
    "\n",
    "# Function to generate all mutant sequences\n",
    "def generate_mutant_sequences(sequence):\n",
    "    mutants = []\n",
    "    for index in range(len(sequence)):\n",
    "        for aa in amino_acids:\n",
    "            if aa != sequence[index]:  # Optionally exclude the original amino acid\n",
    "                mutant_sequence = sequence[:index] + aa + sequence[index + 1:]\n",
    "                mutants.append((index, aa, mutant_sequence))\n",
    "    return mutants\n",
    "\n",
    "# Get all mutants\n",
    "mutants = generate_mutant_sequences(sequence)\n",
    "\n",
    "# Convert to DataFrame\n",
    "df_mutants = pd.DataFrame(mutants, columns=['Position', 'Substituted_AA', 'Mutant_Sequence'])"
   ]
  },
  {
   "cell_type": "code",
   "execution_count": null,
   "metadata": {},
   "outputs": [],
   "source": [
    "df_mutants"
   ]
  },
  {
   "cell_type": "code",
   "execution_count": null,
   "metadata": {},
   "outputs": [],
   "source": [
    "# Loadsm the model\n",
    "model, alphabet = esm.pretrained.esm2_t33_650M_UR50D()\n",
    "model.eval()"
   ]
  },
  {
   "cell_type": "code",
   "execution_count": 13,
   "metadata": {},
   "outputs": [],
   "source": [
    "import tqdm\n",
    "import numpy as np\n",
    "import torch\n",
    "\n",
    "def generate_embeddings(model, alphabet, sequences):\n",
    "    \"\"\"\n",
    "    Function to generate the embeddings.\n",
    "    \"\"\"\n",
    "    embeddings = []\n",
    "    \n",
    "    batch_converter = alphabet.get_batch_converter()\n",
    "    \n",
    "    for sequence in tqdm.tqdm(sequences, desc=\"Generating Embeddings\"):\n",
    "        data = [(0, sequence)]\n",
    "        batch_labels, batch_strs, batch_tokens = batch_converter(data)\n",
    "\n",
    "        # Generate embeddings\n",
    "        with torch.no_grad():\n",
    "            results = model(batch_tokens, repr_layers=[33]) \n",
    "            token_embeddings = results['representations'][33]\n",
    "\n",
    "        # Average embeddings across all tokens and convert to numpy\n",
    "        # averaged_embedding = token_embeddings.mean(dim=1).numpy()\n",
    "        # embeddings.append(averaged_embedding)\n",
    "\n",
    "        # Create full embeddings\n",
    "        full_embedding = token_embeddings.squeeze().numpy()\n",
    "        embeddings.append(full_embedding)\n",
    "    \n",
    "    #return np.vstack(embeddings) \n",
    "    return embeddings"
   ]
  },
  {
   "cell_type": "code",
   "execution_count": 14,
   "metadata": {},
   "outputs": [],
   "source": [
    "df_clean = df_mutants"
   ]
  },
  {
   "cell_type": "code",
   "execution_count": 15,
   "metadata": {},
   "outputs": [
    {
     "name": "stdout",
     "output_type": "stream",
     "text": [
      "2147\n"
     ]
    }
   ],
   "source": [
    "sequences = df_clean['Mutant_Sequence'].tolist()\n",
    "print(len(sequences))"
   ]
  },
  {
   "cell_type": "code",
   "execution_count": null,
   "metadata": {},
   "outputs": [
    {
     "name": "stderr",
     "output_type": "stream",
     "text": [
      "Generating Embeddings:  48%|████▊     | 1026/2147 [25:11<27:09,  1.45s/it] "
     ]
    }
   ],
   "source": [
    "# Generate the embeddings!\n",
    "embeddings = generate_embeddings(model, alphabet, sequences)"
   ]
  },
  {
   "cell_type": "code",
   "execution_count": null,
   "metadata": {},
   "outputs": [],
   "source": [
    "df_clean['embeddings'] = [e.tolist() for e in embeddings]"
   ]
  },
  {
   "cell_type": "code",
   "execution_count": null,
   "metadata": {},
   "outputs": [],
   "source": [
    "df_clean.to_pickle('data/mutant_sequences_50_context.pkl')"
   ]
  }
 ],
 "metadata": {
  "kernelspec": {
   "display_name": "Python [conda env:.conda-l-schewinski-tp-4]",
   "language": "python",
   "name": "conda-env-.conda-l-schewinski-tp-4-py"
  },
  "language_info": {
   "codemirror_mode": {
    "name": "ipython",
    "version": 3
   },
   "file_extension": ".py",
   "mimetype": "text/x-python",
   "name": "python",
   "nbconvert_exporter": "python",
   "pygments_lexer": "ipython3",
   "version": "3.7.12"
  }
 },
 "nbformat": 4,
 "nbformat_minor": 4
}
