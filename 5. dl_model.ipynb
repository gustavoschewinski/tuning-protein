{
 "cells": [
  {
   "cell_type": "markdown",
   "metadata": {},
   "source": [
    "# Deep Learning Model\n",
    "We are aiming to predict the Lip_norm parameter based on the binary positions and full embedding of a peptide."
   ]
  },
  {
   "cell_type": "markdown",
   "metadata": {},
   "source": [
    "## Dataset preparation\n",
    "Read the dataframed with the embeddings and binary positions, and then format them."
   ]
  },
  {
   "cell_type": "code",
   "execution_count": 1,
   "metadata": {},
   "outputs": [],
   "source": [
    "import json\n",
    "import pickle\n",
    "import pandas as pd\n",
    "\n",
    "# Get the embedding 1\n",
    "with open('data/embeddings_test_1.pkl', 'rb') as file:\n",
    "    embeddings = pickle.load(file)\n",
    "\n",
    "# Get the embedding 2\n",
    "# with open('data/embeddings_test_2.pkl', 'rb') as file:\n",
    "#     embeddings_2 = pickle.load(file)\n",
    "\n",
    "# # Get the embedding 3\n",
    "# with open('data/embeddings_test_3.pkl', 'rb') as file:\n",
    "#     embeddings_3 = pickle.load(file)\n",
    "\n",
    "# # Get the embedding 4\n",
    "# with open('data/embeddings_test_4.pkl', 'rb') as file:\n",
    "#     embeddings_4 = pickle.load(file)\n",
    "\n",
    "# Concatenate the embeddings\n",
    "# embeddings = pd.concat([embeddings_1])\n",
    "# \n",
    "\n",
    "embeddings.set_index('Uniprot_ID', inplace=True)\n",
    "embeddings = embeddings.drop(columns=['full_sequence'])"
   ]
  },
  {
   "cell_type": "code",
   "execution_count": 2,
   "metadata": {},
   "outputs": [
    {
     "data": {
      "text/html": [
       "<div>\n",
       "<style scoped>\n",
       "    .dataframe tbody tr th:only-of-type {\n",
       "        vertical-align: middle;\n",
       "    }\n",
       "\n",
       "    .dataframe tbody tr th {\n",
       "        vertical-align: top;\n",
       "    }\n",
       "\n",
       "    .dataframe thead th {\n",
       "        text-align: right;\n",
       "    }\n",
       "</style>\n",
       "<table border=\"1\" class=\"dataframe\">\n",
       "  <thead>\n",
       "    <tr style=\"text-align: right;\">\n",
       "      <th></th>\n",
       "      <th>full_embedding</th>\n",
       "    </tr>\n",
       "    <tr>\n",
       "      <th>Uniprot_ID</th>\n",
       "      <th></th>\n",
       "    </tr>\n",
       "  </thead>\n",
       "  <tbody>\n",
       "    <tr>\n",
       "      <th>P15703</th>\n",
       "      <td>[[0.10351670533418655, -0.04619598016142845, 0...</td>\n",
       "    </tr>\n",
       "    <tr>\n",
       "      <th>P38174</th>\n",
       "      <td>[[0.017678968608379364, -0.011685207486152649,...</td>\n",
       "    </tr>\n",
       "    <tr>\n",
       "      <th>P26637</th>\n",
       "      <td>[[0.04360557720065117, 0.039450906217098236, 0...</td>\n",
       "    </tr>\n",
       "    <tr>\n",
       "      <th>P06169</th>\n",
       "      <td>[[0.06486686319112778, -0.018988797441124916, ...</td>\n",
       "    </tr>\n",
       "    <tr>\n",
       "      <th>P00359</th>\n",
       "      <td>[[0.05060335993766785, -0.002109627239406109, ...</td>\n",
       "    </tr>\n",
       "    <tr>\n",
       "      <th>...</th>\n",
       "      <td>...</td>\n",
       "    </tr>\n",
       "    <tr>\n",
       "      <th>P40991</th>\n",
       "      <td>[[0.05226866900920868, -0.04464501142501831, 0...</td>\n",
       "    </tr>\n",
       "    <tr>\n",
       "      <th>P53633</th>\n",
       "      <td>[[0.044984687119722366, -0.01916404627263546, ...</td>\n",
       "    </tr>\n",
       "    <tr>\n",
       "      <th>Q01217</th>\n",
       "      <td>[[0.08891955018043518, -0.039793942123651505, ...</td>\n",
       "    </tr>\n",
       "    <tr>\n",
       "      <th>Q12109</th>\n",
       "      <td>[[0.059575989842414856, -0.019570698961615562,...</td>\n",
       "    </tr>\n",
       "    <tr>\n",
       "      <th>P52286</th>\n",
       "      <td>[[0.04369407519698143, -0.010363651439547539, ...</td>\n",
       "    </tr>\n",
       "  </tbody>\n",
       "</table>\n",
       "<p>500 rows × 1 columns</p>\n",
       "</div>"
      ],
      "text/plain": [
       "                                               full_embedding\n",
       "Uniprot_ID                                                   \n",
       "P15703      [[0.10351670533418655, -0.04619598016142845, 0...\n",
       "P38174      [[0.017678968608379364, -0.011685207486152649,...\n",
       "P26637      [[0.04360557720065117, 0.039450906217098236, 0...\n",
       "P06169      [[0.06486686319112778, -0.018988797441124916, ...\n",
       "P00359      [[0.05060335993766785, -0.002109627239406109, ...\n",
       "...                                                       ...\n",
       "P40991      [[0.05226866900920868, -0.04464501142501831, 0...\n",
       "P53633      [[0.044984687119722366, -0.01916404627263546, ...\n",
       "Q01217      [[0.08891955018043518, -0.039793942123651505, ...\n",
       "Q12109      [[0.059575989842414856, -0.019570698961615562,...\n",
       "P52286      [[0.04369407519698143, -0.010363651439547539, ...\n",
       "\n",
       "[500 rows x 1 columns]"
      ]
     },
     "execution_count": 2,
     "metadata": {},
     "output_type": "execute_result"
    }
   ],
   "source": [
    "embeddings"
   ]
  },
  {
   "cell_type": "code",
   "execution_count": 3,
   "metadata": {},
   "outputs": [],
   "source": [
    "import numpy as np\n",
    "\n",
    "# Creating trimmed embeddings\n",
    "trimmed_embeddings = [np.array(embedding)[1:-1, :] for embedding in embeddings['full_embedding']]\n",
    "trimmed_embeddings_df = pd.DataFrame({'embeddings': trimmed_embeddings}, index=embeddings.index)"
   ]
  },
  {
   "cell_type": "code",
   "execution_count": 4,
   "metadata": {},
   "outputs": [
    {
     "data": {
      "text/html": [
       "<div>\n",
       "<style scoped>\n",
       "    .dataframe tbody tr th:only-of-type {\n",
       "        vertical-align: middle;\n",
       "    }\n",
       "\n",
       "    .dataframe tbody tr th {\n",
       "        vertical-align: top;\n",
       "    }\n",
       "\n",
       "    .dataframe thead th {\n",
       "        text-align: right;\n",
       "    }\n",
       "</style>\n",
       "<table border=\"1\" class=\"dataframe\">\n",
       "  <thead>\n",
       "    <tr style=\"text-align: right;\">\n",
       "      <th></th>\n",
       "      <th>embeddings</th>\n",
       "    </tr>\n",
       "    <tr>\n",
       "      <th>Uniprot_ID</th>\n",
       "      <th></th>\n",
       "    </tr>\n",
       "  </thead>\n",
       "  <tbody>\n",
       "    <tr>\n",
       "      <th>P15703</th>\n",
       "      <td>[[-0.0014747204259037971, -0.04175397753715515...</td>\n",
       "    </tr>\n",
       "    <tr>\n",
       "      <th>P38174</th>\n",
       "      <td>[[0.09441959857940674, 0.05087737366557121, -0...</td>\n",
       "    </tr>\n",
       "    <tr>\n",
       "      <th>P26637</th>\n",
       "      <td>[[0.07177527993917465, 0.05565423518419266, 0....</td>\n",
       "    </tr>\n",
       "    <tr>\n",
       "      <th>P06169</th>\n",
       "      <td>[[0.05485401302576065, 0.05323461815714836, -0...</td>\n",
       "    </tr>\n",
       "    <tr>\n",
       "      <th>P00359</th>\n",
       "      <td>[[0.0364735871553421, -0.02804701030254364, -0...</td>\n",
       "    </tr>\n",
       "    <tr>\n",
       "      <th>...</th>\n",
       "      <td>...</td>\n",
       "    </tr>\n",
       "    <tr>\n",
       "      <th>P40991</th>\n",
       "      <td>[[0.10278788208961487, 0.003414804581552744, -...</td>\n",
       "    </tr>\n",
       "    <tr>\n",
       "      <th>P53633</th>\n",
       "      <td>[[0.05683088302612305, -0.03139161318540573, -...</td>\n",
       "    </tr>\n",
       "    <tr>\n",
       "      <th>Q01217</th>\n",
       "      <td>[[0.13987456262111664, -0.090286985039711, -0....</td>\n",
       "    </tr>\n",
       "    <tr>\n",
       "      <th>Q12109</th>\n",
       "      <td>[[0.10665954649448395, 0.044686008244752884, -...</td>\n",
       "    </tr>\n",
       "    <tr>\n",
       "      <th>P52286</th>\n",
       "      <td>[[0.05062220245599747, -0.0705302432179451, -0...</td>\n",
       "    </tr>\n",
       "  </tbody>\n",
       "</table>\n",
       "<p>500 rows × 1 columns</p>\n",
       "</div>"
      ],
      "text/plain": [
       "                                                   embeddings\n",
       "Uniprot_ID                                                   \n",
       "P15703      [[-0.0014747204259037971, -0.04175397753715515...\n",
       "P38174      [[0.09441959857940674, 0.05087737366557121, -0...\n",
       "P26637      [[0.07177527993917465, 0.05565423518419266, 0....\n",
       "P06169      [[0.05485401302576065, 0.05323461815714836, -0...\n",
       "P00359      [[0.0364735871553421, -0.02804701030254364, -0...\n",
       "...                                                       ...\n",
       "P40991      [[0.10278788208961487, 0.003414804581552744, -...\n",
       "P53633      [[0.05683088302612305, -0.03139161318540573, -...\n",
       "Q01217      [[0.13987456262111664, -0.090286985039711, -0....\n",
       "Q12109      [[0.10665954649448395, 0.044686008244752884, -...\n",
       "P52286      [[0.05062220245599747, -0.0705302432179451, -0...\n",
       "\n",
       "[500 rows x 1 columns]"
      ]
     },
     "execution_count": 4,
     "metadata": {},
     "output_type": "execute_result"
    }
   ],
   "source": [
    "trimmed_embeddings_df"
   ]
  },
  {
   "cell_type": "code",
   "execution_count": 5,
   "metadata": {},
   "outputs": [],
   "source": [
    "trimmed_size_embeddings_df = trimmed_embeddings_df[trimmed_embeddings_df['embeddings'].apply(lambda x: x.shape[0]) < 1000]"
   ]
  },
  {
   "cell_type": "code",
   "execution_count": 6,
   "metadata": {},
   "outputs": [
    {
     "data": {
      "text/html": [
       "<div>\n",
       "<style scoped>\n",
       "    .dataframe tbody tr th:only-of-type {\n",
       "        vertical-align: middle;\n",
       "    }\n",
       "\n",
       "    .dataframe tbody tr th {\n",
       "        vertical-align: top;\n",
       "    }\n",
       "\n",
       "    .dataframe thead th {\n",
       "        text-align: right;\n",
       "    }\n",
       "</style>\n",
       "<table border=\"1\" class=\"dataframe\">\n",
       "  <thead>\n",
       "    <tr style=\"text-align: right;\">\n",
       "      <th></th>\n",
       "      <th>embeddings</th>\n",
       "    </tr>\n",
       "    <tr>\n",
       "      <th>Uniprot_ID</th>\n",
       "      <th></th>\n",
       "    </tr>\n",
       "  </thead>\n",
       "  <tbody>\n",
       "    <tr>\n",
       "      <th>P15703</th>\n",
       "      <td>[[-0.0014747204259037971, -0.04175397753715515...</td>\n",
       "    </tr>\n",
       "    <tr>\n",
       "      <th>P38174</th>\n",
       "      <td>[[0.09441959857940674, 0.05087737366557121, -0...</td>\n",
       "    </tr>\n",
       "    <tr>\n",
       "      <th>P06169</th>\n",
       "      <td>[[0.05485401302576065, 0.05323461815714836, -0...</td>\n",
       "    </tr>\n",
       "    <tr>\n",
       "      <th>P00359</th>\n",
       "      <td>[[0.0364735871553421, -0.02804701030254364, -0...</td>\n",
       "    </tr>\n",
       "    <tr>\n",
       "      <th>P37292</th>\n",
       "      <td>[[0.1292525678873062, 0.10085765272378922, -0....</td>\n",
       "    </tr>\n",
       "    <tr>\n",
       "      <th>...</th>\n",
       "      <td>...</td>\n",
       "    </tr>\n",
       "    <tr>\n",
       "      <th>P40991</th>\n",
       "      <td>[[0.10278788208961487, 0.003414804581552744, -...</td>\n",
       "    </tr>\n",
       "    <tr>\n",
       "      <th>P53633</th>\n",
       "      <td>[[0.05683088302612305, -0.03139161318540573, -...</td>\n",
       "    </tr>\n",
       "    <tr>\n",
       "      <th>Q01217</th>\n",
       "      <td>[[0.13987456262111664, -0.090286985039711, -0....</td>\n",
       "    </tr>\n",
       "    <tr>\n",
       "      <th>Q12109</th>\n",
       "      <td>[[0.10665954649448395, 0.044686008244752884, -...</td>\n",
       "    </tr>\n",
       "    <tr>\n",
       "      <th>P52286</th>\n",
       "      <td>[[0.05062220245599747, -0.0705302432179451, -0...</td>\n",
       "    </tr>\n",
       "  </tbody>\n",
       "</table>\n",
       "<p>451 rows × 1 columns</p>\n",
       "</div>"
      ],
      "text/plain": [
       "                                                   embeddings\n",
       "Uniprot_ID                                                   \n",
       "P15703      [[-0.0014747204259037971, -0.04175397753715515...\n",
       "P38174      [[0.09441959857940674, 0.05087737366557121, -0...\n",
       "P06169      [[0.05485401302576065, 0.05323461815714836, -0...\n",
       "P00359      [[0.0364735871553421, -0.02804701030254364, -0...\n",
       "P37292      [[0.1292525678873062, 0.10085765272378922, -0....\n",
       "...                                                       ...\n",
       "P40991      [[0.10278788208961487, 0.003414804581552744, -...\n",
       "P53633      [[0.05683088302612305, -0.03139161318540573, -...\n",
       "Q01217      [[0.13987456262111664, -0.090286985039711, -0....\n",
       "Q12109      [[0.10665954649448395, 0.044686008244752884, -...\n",
       "P52286      [[0.05062220245599747, -0.0705302432179451, -0...\n",
       "\n",
       "[451 rows x 1 columns]"
      ]
     },
     "execution_count": 6,
     "metadata": {},
     "output_type": "execute_result"
    }
   ],
   "source": [
    "trimmed_size_embeddings_df"
   ]
  },
  {
   "cell_type": "code",
   "execution_count": 7,
   "metadata": {},
   "outputs": [],
   "source": [
    "max_length = 1000\n",
    "\n",
    "# Padding embeddings\n",
    "padded_embeddings = [np.pad(embedding, ((0, max_length - embedding.shape[0]), (0, 0)), mode='constant', constant_values=0)\n",
    "                     for embedding in trimmed_size_embeddings_df['embeddings']]"
   ]
  },
  {
   "cell_type": "code",
   "execution_count": 8,
   "metadata": {},
   "outputs": [],
   "source": [
    "padded_embeddings_df = pd.DataFrame({'embeddings': padded_embeddings}, index=trimmed_size_embeddings_df.index)"
   ]
  },
  {
   "cell_type": "code",
   "execution_count": 9,
   "metadata": {},
   "outputs": [
    {
     "data": {
      "text/html": [
       "<div>\n",
       "<style scoped>\n",
       "    .dataframe tbody tr th:only-of-type {\n",
       "        vertical-align: middle;\n",
       "    }\n",
       "\n",
       "    .dataframe tbody tr th {\n",
       "        vertical-align: top;\n",
       "    }\n",
       "\n",
       "    .dataframe thead th {\n",
       "        text-align: right;\n",
       "    }\n",
       "</style>\n",
       "<table border=\"1\" class=\"dataframe\">\n",
       "  <thead>\n",
       "    <tr style=\"text-align: right;\">\n",
       "      <th></th>\n",
       "      <th>Log2FC(LiP_norm)</th>\n",
       "      <th>Padded_Binary_Positions</th>\n",
       "    </tr>\n",
       "    <tr>\n",
       "      <th>Uniprot_ID</th>\n",
       "      <th></th>\n",
       "      <th></th>\n",
       "    </tr>\n",
       "  </thead>\n",
       "  <tbody>\n",
       "    <tr>\n",
       "      <th>P15703</th>\n",
       "      <td>-2.176707</td>\n",
       "      <td>[0, 0, 0, 0, 0, 0, 0, 0, 0, 0, 0, 0, 0, 0, 0, ...</td>\n",
       "    </tr>\n",
       "    <tr>\n",
       "      <th>P15703</th>\n",
       "      <td>0.285029</td>\n",
       "      <td>[0, 0, 0, 0, 0, 0, 0, 0, 0, 0, 0, 0, 0, 0, 0, ...</td>\n",
       "    </tr>\n",
       "    <tr>\n",
       "      <th>P15703</th>\n",
       "      <td>-0.498240</td>\n",
       "      <td>[0, 0, 0, 0, 0, 0, 0, 0, 0, 0, 0, 0, 0, 0, 0, ...</td>\n",
       "    </tr>\n",
       "    <tr>\n",
       "      <th>P15703</th>\n",
       "      <td>0.348193</td>\n",
       "      <td>[0, 0, 0, 0, 0, 0, 0, 0, 0, 0, 0, 0, 0, 0, 0, ...</td>\n",
       "    </tr>\n",
       "    <tr>\n",
       "      <th>P15703</th>\n",
       "      <td>-0.434615</td>\n",
       "      <td>[0, 0, 0, 0, 0, 0, 0, 0, 0, 0, 0, 0, 0, 0, 0, ...</td>\n",
       "    </tr>\n",
       "    <tr>\n",
       "      <th>...</th>\n",
       "      <td>...</td>\n",
       "      <td>...</td>\n",
       "    </tr>\n",
       "    <tr>\n",
       "      <th>P38887</th>\n",
       "      <td>-0.008441</td>\n",
       "      <td>[0, 0, 0, 0, 0, 0, 0, 0, 0, 0, 0, 0, 0, 0, 0, ...</td>\n",
       "    </tr>\n",
       "    <tr>\n",
       "      <th>P53093</th>\n",
       "      <td>0.006678</td>\n",
       "      <td>[0, 0, 0, 0, 0, 0, 0, 0, 0, 0, 0, 0, 0, 0, 0, ...</td>\n",
       "    </tr>\n",
       "    <tr>\n",
       "      <th>Q04772</th>\n",
       "      <td>-0.015149</td>\n",
       "      <td>[0, 0, 0, 0, 0, 0, 0, 0, 1, 1, 1, 1, 1, 1, 1, ...</td>\n",
       "    </tr>\n",
       "    <tr>\n",
       "      <th>P21192</th>\n",
       "      <td>-0.010109</td>\n",
       "      <td>[0, 0, 0, 0, 0, 0, 0, 0, 0, 0, 0, 0, 0, 0, 0, ...</td>\n",
       "    </tr>\n",
       "    <tr>\n",
       "      <th>Q03687</th>\n",
       "      <td>-0.192194</td>\n",
       "      <td>[0, 0, 0, 0, 0, 0, 0, 0, 0, 0, 0, 0, 0, 0, 0, ...</td>\n",
       "    </tr>\n",
       "  </tbody>\n",
       "</table>\n",
       "<p>28008 rows × 2 columns</p>\n",
       "</div>"
      ],
      "text/plain": [
       "            Log2FC(LiP_norm)  \\\n",
       "Uniprot_ID                     \n",
       "P15703             -2.176707   \n",
       "P15703              0.285029   \n",
       "P15703             -0.498240   \n",
       "P15703              0.348193   \n",
       "P15703             -0.434615   \n",
       "...                      ...   \n",
       "P38887             -0.008441   \n",
       "P53093              0.006678   \n",
       "Q04772             -0.015149   \n",
       "P21192             -0.010109   \n",
       "Q03687             -0.192194   \n",
       "\n",
       "                                      Padded_Binary_Positions  \n",
       "Uniprot_ID                                                     \n",
       "P15703      [0, 0, 0, 0, 0, 0, 0, 0, 0, 0, 0, 0, 0, 0, 0, ...  \n",
       "P15703      [0, 0, 0, 0, 0, 0, 0, 0, 0, 0, 0, 0, 0, 0, 0, ...  \n",
       "P15703      [0, 0, 0, 0, 0, 0, 0, 0, 0, 0, 0, 0, 0, 0, 0, ...  \n",
       "P15703      [0, 0, 0, 0, 0, 0, 0, 0, 0, 0, 0, 0, 0, 0, 0, ...  \n",
       "P15703      [0, 0, 0, 0, 0, 0, 0, 0, 0, 0, 0, 0, 0, 0, 0, ...  \n",
       "...                                                       ...  \n",
       "P38887      [0, 0, 0, 0, 0, 0, 0, 0, 0, 0, 0, 0, 0, 0, 0, ...  \n",
       "P53093      [0, 0, 0, 0, 0, 0, 0, 0, 0, 0, 0, 0, 0, 0, 0, ...  \n",
       "Q04772      [0, 0, 0, 0, 0, 0, 0, 0, 1, 1, 1, 1, 1, 1, 1, ...  \n",
       "P21192      [0, 0, 0, 0, 0, 0, 0, 0, 0, 0, 0, 0, 0, 0, 0, ...  \n",
       "Q03687      [0, 0, 0, 0, 0, 0, 0, 0, 0, 0, 0, 0, 0, 0, 0, ...  \n",
       "\n",
       "[28008 rows x 2 columns]"
      ]
     },
     "execution_count": 9,
     "metadata": {},
     "output_type": "execute_result"
    }
   ],
   "source": [
    "# Get the dataset\n",
    "df = pd.read_csv('data/OsmoticStress_with_binary_positions_padded.csv')\n",
    "df['Binary_Positions'] = df['Binary_Positions'].apply(json.loads)\n",
    "df['Padded_Binary_Positions'] = df['Padded_Binary_Positions'].apply(json.loads)\n",
    "df.drop(columns=['full_sequence', 'Peptide_sequence', \"Binary_Positions\"], inplace=True)\n",
    "#df[\"full_sequence\"]= df[\"full_sequence\"].astype(str)\n",
    "df.set_index('Uniprot_ID', inplace=True)\n",
    "\n",
    "df"
   ]
  },
  {
   "cell_type": "code",
   "execution_count": 10,
   "metadata": {},
   "outputs": [],
   "source": [
    "dataset = df.merge(padded_embeddings_df, left_index=True, right_index=True)"
   ]
  },
  {
   "cell_type": "code",
   "execution_count": 11,
   "metadata": {},
   "outputs": [
    {
     "data": {
      "text/html": [
       "<div>\n",
       "<style scoped>\n",
       "    .dataframe tbody tr th:only-of-type {\n",
       "        vertical-align: middle;\n",
       "    }\n",
       "\n",
       "    .dataframe tbody tr th {\n",
       "        vertical-align: top;\n",
       "    }\n",
       "\n",
       "    .dataframe thead th {\n",
       "        text-align: right;\n",
       "    }\n",
       "</style>\n",
       "<table border=\"1\" class=\"dataframe\">\n",
       "  <thead>\n",
       "    <tr style=\"text-align: right;\">\n",
       "      <th></th>\n",
       "      <th>Log2FC(LiP_norm)</th>\n",
       "      <th>Padded_Binary_Positions</th>\n",
       "      <th>embeddings</th>\n",
       "    </tr>\n",
       "    <tr>\n",
       "      <th>Uniprot_ID</th>\n",
       "      <th></th>\n",
       "      <th></th>\n",
       "      <th></th>\n",
       "    </tr>\n",
       "  </thead>\n",
       "  <tbody>\n",
       "    <tr>\n",
       "      <th>O13516</th>\n",
       "      <td>4.378006</td>\n",
       "      <td>[0, 0, 0, 0, 0, 0, 0, 0, 0, 0, 0, 0, 0, 0, 0, ...</td>\n",
       "      <td>[[0.011881312355399132, -0.09332677721977234, ...</td>\n",
       "    </tr>\n",
       "    <tr>\n",
       "      <th>O13516</th>\n",
       "      <td>3.345066</td>\n",
       "      <td>[0, 0, 0, 0, 0, 0, 0, 0, 0, 0, 0, 0, 0, 0, 0, ...</td>\n",
       "      <td>[[0.011881312355399132, -0.09332677721977234, ...</td>\n",
       "    </tr>\n",
       "    <tr>\n",
       "      <th>O13516</th>\n",
       "      <td>3.458429</td>\n",
       "      <td>[0, 0, 0, 0, 0, 0, 0, 0, 0, 0, 0, 0, 0, 0, 0, ...</td>\n",
       "      <td>[[0.011881312355399132, -0.09332677721977234, ...</td>\n",
       "    </tr>\n",
       "    <tr>\n",
       "      <th>O13516</th>\n",
       "      <td>3.607978</td>\n",
       "      <td>[0, 0, 0, 0, 0, 0, 0, 0, 0, 0, 0, 0, 0, 0, 0, ...</td>\n",
       "      <td>[[0.011881312355399132, -0.09332677721977234, ...</td>\n",
       "    </tr>\n",
       "    <tr>\n",
       "      <th>O13516</th>\n",
       "      <td>4.070368</td>\n",
       "      <td>[0, 0, 0, 0, 0, 0, 0, 0, 0, 0, 0, 0, 0, 0, 0, ...</td>\n",
       "      <td>[[0.011881312355399132, -0.09332677721977234, ...</td>\n",
       "    </tr>\n",
       "  </tbody>\n",
       "</table>\n",
       "</div>"
      ],
      "text/plain": [
       "            Log2FC(LiP_norm)  \\\n",
       "Uniprot_ID                     \n",
       "O13516              4.378006   \n",
       "O13516              3.345066   \n",
       "O13516              3.458429   \n",
       "O13516              3.607978   \n",
       "O13516              4.070368   \n",
       "\n",
       "                                      Padded_Binary_Positions  \\\n",
       "Uniprot_ID                                                      \n",
       "O13516      [0, 0, 0, 0, 0, 0, 0, 0, 0, 0, 0, 0, 0, 0, 0, ...   \n",
       "O13516      [0, 0, 0, 0, 0, 0, 0, 0, 0, 0, 0, 0, 0, 0, 0, ...   \n",
       "O13516      [0, 0, 0, 0, 0, 0, 0, 0, 0, 0, 0, 0, 0, 0, 0, ...   \n",
       "O13516      [0, 0, 0, 0, 0, 0, 0, 0, 0, 0, 0, 0, 0, 0, 0, ...   \n",
       "O13516      [0, 0, 0, 0, 0, 0, 0, 0, 0, 0, 0, 0, 0, 0, 0, ...   \n",
       "\n",
       "                                                   embeddings  \n",
       "Uniprot_ID                                                     \n",
       "O13516      [[0.011881312355399132, -0.09332677721977234, ...  \n",
       "O13516      [[0.011881312355399132, -0.09332677721977234, ...  \n",
       "O13516      [[0.011881312355399132, -0.09332677721977234, ...  \n",
       "O13516      [[0.011881312355399132, -0.09332677721977234, ...  \n",
       "O13516      [[0.011881312355399132, -0.09332677721977234, ...  "
      ]
     },
     "execution_count": 11,
     "metadata": {},
     "output_type": "execute_result"
    }
   ],
   "source": [
    "# We can see that we have only the columns: 'Lip_norm', 'Binary Position', 'Embeddings'\n",
    "dataset.head()"
   ]
  },
  {
   "cell_type": "code",
   "execution_count": 12,
   "metadata": {},
   "outputs": [],
   "source": [
    "import re\n",
    "\n",
    "# Both columns are strings, we need to convert them to lists of integers so we can use them later\n",
    "def convert_to_list(number_string):\n",
    "    cleaned_string = re.sub(r\"[^\\d,\\s]\", \"\", number_string)\n",
    "    return list(map(int, cleaned_string.split(',')))\n",
    "\n",
    "#dataset['Binary_Positions'] = dataset['Binary_Positions'].apply(convert_to_list)"
   ]
  },
  {
   "cell_type": "code",
   "execution_count": 13,
   "metadata": {},
   "outputs": [],
   "source": [
    "# def matrix_shape_lists(x):\n",
    "#    return len(x), len(x[0])\n",
    "# \n",
    "# dataset['Binary_Positions_shape'] = dataset['Binary_Positions'].apply(len)\n",
    "# dataset['full_embedding_shape'] = dataset['embeddings'].apply(matrix_shape_lists)"
   ]
  },
  {
   "cell_type": "code",
   "execution_count": 14,
   "metadata": {},
   "outputs": [
    {
     "data": {
      "text/html": [
       "<div>\n",
       "<style scoped>\n",
       "    .dataframe tbody tr th:only-of-type {\n",
       "        vertical-align: middle;\n",
       "    }\n",
       "\n",
       "    .dataframe tbody tr th {\n",
       "        vertical-align: top;\n",
       "    }\n",
       "\n",
       "    .dataframe thead th {\n",
       "        text-align: right;\n",
       "    }\n",
       "</style>\n",
       "<table border=\"1\" class=\"dataframe\">\n",
       "  <thead>\n",
       "    <tr style=\"text-align: right;\">\n",
       "      <th></th>\n",
       "      <th>Log2FC(LiP_norm)</th>\n",
       "      <th>Padded_Binary_Positions</th>\n",
       "      <th>embeddings</th>\n",
       "    </tr>\n",
       "    <tr>\n",
       "      <th>Uniprot_ID</th>\n",
       "      <th></th>\n",
       "      <th></th>\n",
       "      <th></th>\n",
       "    </tr>\n",
       "  </thead>\n",
       "  <tbody>\n",
       "    <tr>\n",
       "      <th>O13516</th>\n",
       "      <td>4.378006</td>\n",
       "      <td>[0, 0, 0, 0, 0, 0, 0, 0, 0, 0, 0, 0, 0, 0, 0, ...</td>\n",
       "      <td>[[0.011881312355399132, -0.09332677721977234, ...</td>\n",
       "    </tr>\n",
       "    <tr>\n",
       "      <th>O13516</th>\n",
       "      <td>3.345066</td>\n",
       "      <td>[0, 0, 0, 0, 0, 0, 0, 0, 0, 0, 0, 0, 0, 0, 0, ...</td>\n",
       "      <td>[[0.011881312355399132, -0.09332677721977234, ...</td>\n",
       "    </tr>\n",
       "    <tr>\n",
       "      <th>O13516</th>\n",
       "      <td>3.458429</td>\n",
       "      <td>[0, 0, 0, 0, 0, 0, 0, 0, 0, 0, 0, 0, 0, 0, 0, ...</td>\n",
       "      <td>[[0.011881312355399132, -0.09332677721977234, ...</td>\n",
       "    </tr>\n",
       "    <tr>\n",
       "      <th>O13516</th>\n",
       "      <td>3.607978</td>\n",
       "      <td>[0, 0, 0, 0, 0, 0, 0, 0, 0, 0, 0, 0, 0, 0, 0, ...</td>\n",
       "      <td>[[0.011881312355399132, -0.09332677721977234, ...</td>\n",
       "    </tr>\n",
       "    <tr>\n",
       "      <th>O13516</th>\n",
       "      <td>4.070368</td>\n",
       "      <td>[0, 0, 0, 0, 0, 0, 0, 0, 0, 0, 0, 0, 0, 0, 0, ...</td>\n",
       "      <td>[[0.011881312355399132, -0.09332677721977234, ...</td>\n",
       "    </tr>\n",
       "    <tr>\n",
       "      <th>...</th>\n",
       "      <td>...</td>\n",
       "      <td>...</td>\n",
       "      <td>...</td>\n",
       "    </tr>\n",
       "    <tr>\n",
       "      <th>Q6Q547</th>\n",
       "      <td>-0.050568</td>\n",
       "      <td>[0, 0, 0, 0, 0, 0, 0, 0, 0, 0, 0, 0, 0, 0, 0, ...</td>\n",
       "      <td>[[0.03893417492508888, -0.04581452161073685, -...</td>\n",
       "    </tr>\n",
       "    <tr>\n",
       "      <th>Q6Q547</th>\n",
       "      <td>0.543480</td>\n",
       "      <td>[0, 0, 0, 0, 1, 1, 1, 1, 1, 1, 1, 1, 0, 0, 0, ...</td>\n",
       "      <td>[[0.03893417492508888, -0.04581452161073685, -...</td>\n",
       "    </tr>\n",
       "    <tr>\n",
       "      <th>Q6Q547</th>\n",
       "      <td>-0.153268</td>\n",
       "      <td>[0, 0, 0, 0, 0, 0, 0, 0, 0, 0, 0, 0, 0, 0, 0, ...</td>\n",
       "      <td>[[0.03893417492508888, -0.04581452161073685, -...</td>\n",
       "    </tr>\n",
       "    <tr>\n",
       "      <th>Q6Q547</th>\n",
       "      <td>-0.113537</td>\n",
       "      <td>[0, 0, 0, 0, 0, 0, 0, 0, 0, 0, 0, 0, 0, 0, 0, ...</td>\n",
       "      <td>[[0.03893417492508888, -0.04581452161073685, -...</td>\n",
       "    </tr>\n",
       "    <tr>\n",
       "      <th>Q99220</th>\n",
       "      <td>-0.668565</td>\n",
       "      <td>[0, 0, 0, 0, 0, 0, 0, 0, 0, 0, 0, 0, 0, 0, 0, ...</td>\n",
       "      <td>[[-0.10548373311758041, 0.026704518124461174, ...</td>\n",
       "    </tr>\n",
       "  </tbody>\n",
       "</table>\n",
       "<p>12319 rows × 3 columns</p>\n",
       "</div>"
      ],
      "text/plain": [
       "            Log2FC(LiP_norm)  \\\n",
       "Uniprot_ID                     \n",
       "O13516              4.378006   \n",
       "O13516              3.345066   \n",
       "O13516              3.458429   \n",
       "O13516              3.607978   \n",
       "O13516              4.070368   \n",
       "...                      ...   \n",
       "Q6Q547             -0.050568   \n",
       "Q6Q547              0.543480   \n",
       "Q6Q547             -0.153268   \n",
       "Q6Q547             -0.113537   \n",
       "Q99220             -0.668565   \n",
       "\n",
       "                                      Padded_Binary_Positions  \\\n",
       "Uniprot_ID                                                      \n",
       "O13516      [0, 0, 0, 0, 0, 0, 0, 0, 0, 0, 0, 0, 0, 0, 0, ...   \n",
       "O13516      [0, 0, 0, 0, 0, 0, 0, 0, 0, 0, 0, 0, 0, 0, 0, ...   \n",
       "O13516      [0, 0, 0, 0, 0, 0, 0, 0, 0, 0, 0, 0, 0, 0, 0, ...   \n",
       "O13516      [0, 0, 0, 0, 0, 0, 0, 0, 0, 0, 0, 0, 0, 0, 0, ...   \n",
       "O13516      [0, 0, 0, 0, 0, 0, 0, 0, 0, 0, 0, 0, 0, 0, 0, ...   \n",
       "...                                                       ...   \n",
       "Q6Q547      [0, 0, 0, 0, 0, 0, 0, 0, 0, 0, 0, 0, 0, 0, 0, ...   \n",
       "Q6Q547      [0, 0, 0, 0, 1, 1, 1, 1, 1, 1, 1, 1, 0, 0, 0, ...   \n",
       "Q6Q547      [0, 0, 0, 0, 0, 0, 0, 0, 0, 0, 0, 0, 0, 0, 0, ...   \n",
       "Q6Q547      [0, 0, 0, 0, 0, 0, 0, 0, 0, 0, 0, 0, 0, 0, 0, ...   \n",
       "Q99220      [0, 0, 0, 0, 0, 0, 0, 0, 0, 0, 0, 0, 0, 0, 0, ...   \n",
       "\n",
       "                                                   embeddings  \n",
       "Uniprot_ID                                                     \n",
       "O13516      [[0.011881312355399132, -0.09332677721977234, ...  \n",
       "O13516      [[0.011881312355399132, -0.09332677721977234, ...  \n",
       "O13516      [[0.011881312355399132, -0.09332677721977234, ...  \n",
       "O13516      [[0.011881312355399132, -0.09332677721977234, ...  \n",
       "O13516      [[0.011881312355399132, -0.09332677721977234, ...  \n",
       "...                                                       ...  \n",
       "Q6Q547      [[0.03893417492508888, -0.04581452161073685, -...  \n",
       "Q6Q547      [[0.03893417492508888, -0.04581452161073685, -...  \n",
       "Q6Q547      [[0.03893417492508888, -0.04581452161073685, -...  \n",
       "Q6Q547      [[0.03893417492508888, -0.04581452161073685, -...  \n",
       "Q99220      [[-0.10548373311758041, 0.026704518124461174, ...  \n",
       "\n",
       "[12319 rows x 3 columns]"
      ]
     },
     "execution_count": 14,
     "metadata": {},
     "output_type": "execute_result"
    }
   ],
   "source": [
    "dataset"
   ]
  },
  {
   "cell_type": "code",
   "execution_count": 16,
   "metadata": {},
   "outputs": [
    {
     "ename": "RuntimeError",
     "evalue": "[enforce fail at ..\\c10\\core\\CPUAllocator.cpp:72] data. DefaultCPUAllocator: not enough memory: you tried to allocate 63073280000 bytes. Buy new RAM!\n",
     "output_type": "error",
     "traceback": [
      "\u001b[1;31m---------------------------------------------------------------------------\u001b[0m",
      "\u001b[1;31mRuntimeError\u001b[0m                              Traceback (most recent call last)",
      "\u001b[1;32m~\\AppData\\Local\\Temp\\ipykernel_2004\\3514245142.py\u001b[0m in \u001b[0;36m<module>\u001b[1;34m\u001b[0m\n\u001b[0;32m      1\u001b[0m \u001b[1;32mimport\u001b[0m \u001b[0mtorch\u001b[0m\u001b[1;33m\u001b[0m\u001b[1;33m\u001b[0m\u001b[0m\n\u001b[1;32m----> 2\u001b[1;33m \u001b[0membeddings_tensor\u001b[0m \u001b[1;33m=\u001b[0m \u001b[0mtorch\u001b[0m\u001b[1;33m.\u001b[0m\u001b[0mTensor\u001b[0m\u001b[1;33m(\u001b[0m\u001b[0mnp\u001b[0m\u001b[1;33m.\u001b[0m\u001b[0marray\u001b[0m\u001b[1;33m(\u001b[0m\u001b[0mdataset\u001b[0m\u001b[1;33m[\u001b[0m\u001b[1;34m'embeddings'\u001b[0m\u001b[1;33m]\u001b[0m\u001b[1;33m.\u001b[0m\u001b[0mtolist\u001b[0m\u001b[1;33m(\u001b[0m\u001b[1;33m)\u001b[0m\u001b[1;33m,\u001b[0m \u001b[0mdtype\u001b[0m\u001b[1;33m=\u001b[0m\u001b[0mnp\u001b[0m\u001b[1;33m.\u001b[0m\u001b[0mfloat16\u001b[0m\u001b[1;33m)\u001b[0m\u001b[1;33m)\u001b[0m\u001b[1;33m\u001b[0m\u001b[1;33m\u001b[0m\u001b[0m\n\u001b[0m\u001b[0;32m      3\u001b[0m \u001b[0mbinary_positions_tensor\u001b[0m \u001b[1;33m=\u001b[0m \u001b[0mtorch\u001b[0m\u001b[1;33m.\u001b[0m\u001b[0mTensor\u001b[0m\u001b[1;33m(\u001b[0m\u001b[0mnp\u001b[0m\u001b[1;33m.\u001b[0m\u001b[0marray\u001b[0m\u001b[1;33m(\u001b[0m\u001b[0mdataset\u001b[0m\u001b[1;33m[\u001b[0m\u001b[1;34m'Padded_Binary_Positions'\u001b[0m\u001b[1;33m]\u001b[0m\u001b[1;33m.\u001b[0m\u001b[0mtolist\u001b[0m\u001b[1;33m(\u001b[0m\u001b[1;33m)\u001b[0m\u001b[1;33m,\u001b[0m \u001b[0mdtype\u001b[0m\u001b[1;33m=\u001b[0m\u001b[0mnp\u001b[0m\u001b[1;33m.\u001b[0m\u001b[0mfloat16\u001b[0m\u001b[1;33m)\u001b[0m\u001b[1;33m)\u001b[0m\u001b[1;33m\u001b[0m\u001b[1;33m\u001b[0m\u001b[0m\n\u001b[0;32m      4\u001b[0m \u001b[1;33m\u001b[0m\u001b[0m\n\u001b[0;32m      5\u001b[0m \u001b[0mdevice\u001b[0m \u001b[1;33m=\u001b[0m \u001b[0mtorch\u001b[0m\u001b[1;33m.\u001b[0m\u001b[0mdevice\u001b[0m\u001b[1;33m(\u001b[0m\u001b[1;34m\"cuda\"\u001b[0m \u001b[1;32mif\u001b[0m \u001b[0mtorch\u001b[0m\u001b[1;33m.\u001b[0m\u001b[0mcuda\u001b[0m\u001b[1;33m.\u001b[0m\u001b[0mis_available\u001b[0m\u001b[1;33m(\u001b[0m\u001b[1;33m)\u001b[0m \u001b[1;32melse\u001b[0m \u001b[1;34m\"cpu\"\u001b[0m\u001b[1;33m)\u001b[0m\u001b[1;33m\u001b[0m\u001b[1;33m\u001b[0m\u001b[0m\n",
      "\u001b[1;31mRuntimeError\u001b[0m: [enforce fail at ..\\c10\\core\\CPUAllocator.cpp:72] data. DefaultCPUAllocator: not enough memory: you tried to allocate 63073280000 bytes. Buy new RAM!\n"
     ]
    }
   ],
   "source": [
    "import torch\n",
    "embeddings_tensor = torch.Tensor(np.array(dataset['embeddings'].tolist(), dtype=np.float16))\n",
    "binary_positions_tensor = torch.Tensor(np.array(dataset['Padded_Binary_Positions'].tolist(), dtype=np.float16))\n",
    "\n",
    "device = torch.device(\"cuda\" if torch.cuda.is_available() else \"cpu\")\n",
    "embeddings_tensor = embeddings_tensor.to(device)\n",
    "binary_positions_tensor = binary_positions_tensor.to(device)\n",
    "\n",
    "X = embeddings_tensor + binary_positions_tensor\n",
    "\n",
    "lip_norm_tensor = torch.Tensor(np.array(dataset['Lip_norm'].tolist(), dtype=np.float16)).to(device)"
   ]
  },
  {
   "cell_type": "code",
   "execution_count": null,
   "metadata": {},
   "outputs": [],
   "source": [
    "# clean up memory\n",
    "del embeddings\n",
    "del df\n"
   ]
  },
  {
   "cell_type": "markdown",
   "metadata": {},
   "source": [
    "## Creating combined embedding\n",
    "Now that we have the dataframe processed, we wil first create the embeddings of the binary position, and then sum them up with the peptide embeding."
   ]
  },
  {
   "cell_type": "code",
   "execution_count": null,
   "metadata": {},
   "outputs": [
    {
     "ename": "NameError",
     "evalue": "name 'dataset' is not defined",
     "output_type": "error",
     "traceback": [
      "\u001b[1;31m---------------------------------------------------------------------------\u001b[0m",
      "\u001b[1;31mNameError\u001b[0m                                 Traceback (most recent call last)",
      "\u001b[1;32m~\\AppData\\Local\\Temp\\ipykernel_18200\\1858662290.py\u001b[0m in \u001b[0;36m<module>\u001b[1;34m\u001b[0m\n\u001b[0;32m      1\u001b[0m \u001b[1;32mimport\u001b[0m \u001b[0mnumpy\u001b[0m \u001b[1;32mas\u001b[0m \u001b[0mnp\u001b[0m\u001b[1;33m\u001b[0m\u001b[1;33m\u001b[0m\u001b[0m\n\u001b[1;32m----> 2\u001b[1;33m \u001b[0mtrimmed_embeddings\u001b[0m \u001b[1;33m=\u001b[0m \u001b[1;33m[\u001b[0m\u001b[0mnp\u001b[0m\u001b[1;33m.\u001b[0m\u001b[0marray\u001b[0m\u001b[1;33m(\u001b[0m\u001b[0membedding\u001b[0m\u001b[1;33m)\u001b[0m\u001b[1;33m[\u001b[0m\u001b[1;36m1\u001b[0m\u001b[1;33m:\u001b[0m\u001b[1;33m-\u001b[0m\u001b[1;36m1\u001b[0m\u001b[1;33m,\u001b[0m \u001b[1;33m:\u001b[0m\u001b[1;33m]\u001b[0m \u001b[1;32mfor\u001b[0m \u001b[0membedding\u001b[0m \u001b[1;32min\u001b[0m \u001b[0mdataset\u001b[0m\u001b[1;33m[\u001b[0m\u001b[1;34m'full_embedding'\u001b[0m\u001b[1;33m]\u001b[0m\u001b[1;33m]\u001b[0m\u001b[1;33m\u001b[0m\u001b[1;33m\u001b[0m\u001b[0m\n\u001b[0m",
      "\u001b[1;31mNameError\u001b[0m: name 'dataset' is not defined"
     ]
    }
   ],
   "source": [
    "# import numpy as np\n",
    "# trimmed_embeddings = [np.array(embedding)[1:-1, :] for embedding in dataset['full_embedding']]"
   ]
  },
  {
   "cell_type": "code",
   "execution_count": null,
   "metadata": {},
   "outputs": [
    {
     "name": "stdout",
     "output_type": "stream",
     "text": [
      "707\n"
     ]
    }
   ],
   "source": [
    "# max_length = max(embedding.shape[0] for embedding in trimmed_embeddings)\n",
    "# print(max_length)"
   ]
  },
  {
   "cell_type": "code",
   "execution_count": null,
   "metadata": {},
   "outputs": [],
   "source": [
    "# import torch\n",
    "# import torch.nn as nn\n",
    "# import numpy as np\n",
    "# \n",
    "# padded_embeddings = [np.pad(embedding, ((0, max_length - embedding.shape[0]), (0, 0)), \n",
    "#                              mode='constant', constant_values=0)\n",
    "#                      for embedding in trimmed_embeddings]\n",
    "# padded_embeddings_array = np.array(padded_embeddings, dtype=np.float32)\n",
    "# full_embedding = torch.tensor(padded_embeddings_array)"
   ]
  },
  {
   "cell_type": "code",
   "execution_count": null,
   "metadata": {},
   "outputs": [
    {
     "data": {
      "text/plain": [
       "torch.Size([1000, 707, 1280])"
      ]
     },
     "execution_count": 12,
     "metadata": {},
     "output_type": "execute_result"
    }
   ],
   "source": [
    "# full_embedding.shape"
   ]
  },
  {
   "cell_type": "code",
   "execution_count": null,
   "metadata": {},
   "outputs": [],
   "source": [
    "# binary_positions = dataset['Binary_Positions']\n",
    "# padded_binary_positions = [\n",
    "#     np.pad(position, (0, max_length - len(position)), \n",
    "#            mode='constant', constant_values=0)\n",
    "#     for position in binary_positions\n",
    "# ]\n",
    "# padded_binary_positions_array = np.array(padded_embeddings, dtype=np.float32)\n",
    "# full_binary_positions = torch.tensor(padded_embeddings_array)"
   ]
  },
  {
   "cell_type": "code",
   "execution_count": null,
   "metadata": {},
   "outputs": [
    {
     "data": {
      "text/plain": [
       "torch.Size([1000, 707, 1280])"
      ]
     },
     "execution_count": 14,
     "metadata": {},
     "output_type": "execute_result"
    }
   ],
   "source": [
    "# full_binary_positions.shape"
   ]
  },
  {
   "cell_type": "code",
   "execution_count": null,
   "metadata": {},
   "outputs": [],
   "source": [
    "# combined_embeddings = full_embedding + full_binary_positions"
   ]
  },
  {
   "cell_type": "code",
   "execution_count": null,
   "metadata": {},
   "outputs": [],
   "source": [
    "## Select the target variable Lip_norm as the output y\n",
    "#y_list = np.array(dataset['Log2FC(LiP_norm)'])\n",
    "#y = torch.tensor(y_list, dtype=torch.float32)"
   ]
  },
  {
   "cell_type": "code",
   "execution_count": null,
   "metadata": {},
   "outputs": [
    {
     "data": {
      "text/plain": [
       "torch.Size([1000])"
      ]
     },
     "execution_count": 17,
     "metadata": {},
     "output_type": "execute_result"
    }
   ],
   "source": [
    "#y.shape"
   ]
  },
  {
   "cell_type": "markdown",
   "metadata": {},
   "source": [
    "## Model Training\n",
    "Now that we have both input and target data, we can create our model."
   ]
  },
  {
   "cell_type": "code",
   "execution_count": null,
   "metadata": {},
   "outputs": [],
   "source": [
    "#import torch\n",
    "\n",
    "#device = torch.device(\"cuda\" if torch.cuda.is_available() else \"cpu\")"
   ]
  },
  {
   "cell_type": "code",
   "execution_count": null,
   "metadata": {},
   "outputs": [
    {
     "name": "stdout",
     "output_type": "stream",
     "text": [
      "cuda\n"
     ]
    }
   ],
   "source": [
    "print(device)"
   ]
  },
  {
   "cell_type": "code",
   "execution_count": 8,
   "metadata": {},
   "outputs": [
    {
     "name": "stdout",
     "output_type": "stream",
     "text": [
      "Epoch 1, Train Loss: 0.7179364266822923\n",
      "Epoch 1, Test MSE: 0.4283900058695248\n",
      "Epoch 2, Train Loss: 0.6948960235096374\n",
      "Epoch 2, Test MSE: 0.418760678597859\n",
      "Epoch 3, Train Loss: 0.6798290317913271\n",
      "Epoch 3, Test MSE: 0.4106028899550438\n",
      "Epoch 4, Train Loss: 0.6102886292731987\n",
      "Epoch 4, Test MSE: 0.404132144259555\n",
      "Epoch 5, Train Loss: 0.5708547827770125\n",
      "Epoch 5, Test MSE: 0.3953186071344784\n",
      "Epoch 6, Train Loss: 0.5526599532590722\n",
      "Epoch 6, Test MSE: 0.3920303136110306\n",
      "Epoch 7, Train Loss: 0.5444910461610218\n",
      "Epoch 7, Test MSE: 0.3941916488111019\n",
      "Epoch 8, Train Loss: 0.5496487129690513\n",
      "Epoch 8, Test MSE: 0.38942363219601767\n",
      "Epoch 9, Train Loss: 0.5438963350541187\n",
      "Epoch 9, Test MSE: 0.38318345562687944\n",
      "Epoch 10, Train Loss: 0.5396174898125091\n",
      "Epoch 10, Test MSE: 0.3861110529729298\n"
     ]
    }
   ],
   "source": [
    "import torch\n",
    "import torch.nn as nn\n",
    "import torch.optim as optim\n",
    "import copy\n",
    "from torch.utils.data import TensorDataset, DataLoader, random_split\n",
    "\n",
    "dataset = TensorDataset(combined_embeddings_tensor, y_tensor)\n",
    "train_size = int(0.8 * len(dataset))\n",
    "test_size = len(dataset) - train_size\n",
    "train_dataset, test_dataset = random_split(dataset, [train_size, test_size])\n",
    "\n",
    "train_loader = DataLoader(train_dataset, batch_size=32, shuffle=True)\n",
    "test_loader = DataLoader(test_dataset, batch_size=32, shuffle=False)\n",
    "\n",
    "# Model definition based on suggestion\n",
    "class PeptideRegressor(nn.Module):\n",
    "    def __init__(self, input_dim, num_heads, dropout_rate):\n",
    "        super(PeptideRegressor, self).__init__()\n",
    "        self.attention = nn.MultiheadAttention(embed_dim=input_dim, num_heads=num_heads, dropout=dropout_rate)\n",
    "        self.pooling = nn.AdaptiveAvgPool1d(1)\n",
    "        self.fc = nn.Linear(input_dim, 1) \n",
    "\n",
    "    def forward(self, x):\n",
    "        attn_output, _ = self.attention(x, x, x)\n",
    "        transposed = attn_output.transpose(1, 2)\n",
    "        pooled = self.pooling(transposed)\n",
    "        flattened = pooled.squeeze(-1)\n",
    "        output = self.fc(flattened)\n",
    "        return output\n",
    "\n",
    "\n",
    "# Initialize the model\n",
    "input_dim = 1280\n",
    "num_heads = 16    # number of attention heads\n",
    "dropout_rate = 0.1\n",
    "model = PeptideRegressor(input_dim=input_dim, num_heads=num_heads, dropout_rate=dropout_rate).to(device)\n",
    "\n",
    "# Loss and optimizer\n",
    "loss_fn = nn.MSELoss()\n",
    "optimizer = optim.Adam(model.parameters(), lr=0.0001)\n",
    "\n",
    "# Training settings\n",
    "n_epochs = 10\n",
    "batch_size = 64\n",
    "best_val_loss = float('inf')\n",
    "train_losses_avg = []\n",
    "val_losse_avg = []\n",
    "\n",
    "# Training loop\n",
    "for epoch in range(n_epochs):\n",
    "    model.train()\n",
    "    train_losses = []\n",
    "    for X_batch, y_batch in train_loader:\n",
    "        X_batch, y_batch = X_batch.to(device), y_batch.to(device)\n",
    "        optimizer.zero_grad()\n",
    "        y_pred = model(X_batch)\n",
    "        loss = loss_fn(y_pred, y_batch.unsqueeze(1))\n",
    "        loss.backward()\n",
    "        optimizer.step()\n",
    "        train_losses.append(loss.item())\n",
    "    \n",
    "    train_losses_avg.append(sum(train_losses) / len(train_losses))\n",
    "    print(f'Epoch {epoch+1}, Train Loss: {sum(train_losses) / len(train_losses)}')\n",
    "\n",
    "    model.eval()\n",
    "    val_losses = []\n",
    "    for X_batch, y_batch in test_loader:\n",
    "        X_batch, y_batch = X_batch.to(device), y_batch.to(device)\n",
    "        with torch.no_grad():\n",
    "            y_pred = model(X_batch)\n",
    "            mse = loss_fn(y_pred, y_batch.unsqueeze(1))\n",
    "            mae = nn.L1Loss()(y_pred, y_batch.unsqueeze(1))\n",
    "            val_losses.append(mse.item())\n",
    "    avg_val_loss = sum(val_losses) / len(val_losses)\n",
    "    val_losse_avg.append(avg_val_loss)\n",
    "    print(f'Epoch {epoch+1}, Test MSE: {avg_val_loss}')\n",
    "    if avg_val_loss < best_val_loss:\n",
    "        best_val_loss = avg_val_loss\n",
    "        best_model = copy.deepcopy(model.state_dict())"
   ]
  },
  {
   "cell_type": "code",
   "execution_count": 9,
   "metadata": {},
   "outputs": [
    {
     "data": {
      "image/png": "[encoded data removed]",
      "text/plain": [
       "<Figure size 640x480 with 1 Axes>"
      ]
     },
     "metadata": {},
     "output_type": "display_data"
    }
   ],
   "source": [
    "# # Visualize the training process\n",
    "import matplotlib.pyplot as plt\n",
    "\n",
    "plt.plot(train_losses_avg, label='Train Loss')\n",
    "plt.plot(val_losse_avg, label='Test Loss')\n",
    "plt.legend()\n",
    "plt.show()\n"
   ]
  }
 ],
 "metadata": {
  "kernelspec": {
   "display_name": "tp",
   "language": "python",
   "name": "python3"
  },
  "language_info": {
   "codemirror_mode": {
    "name": "ipython",
    "version": 3
   },
   "file_extension": ".py",
   "mimetype": "text/x-python",
   "name": "python",
   "nbconvert_exporter": "python",
   "pygments_lexer": "ipython3",
   "version": "3.7.16"
  }
 },
 "nbformat": 4,
 "nbformat_minor": 2
}
