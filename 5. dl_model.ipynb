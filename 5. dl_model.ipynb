{
 "cells": [
  {
   "cell_type": "code",
   "execution_count": 1,
   "metadata": {},
   "outputs": [],
   "source": [
    "import pandas as pd"
   ]
  },
  {
   "cell_type": "code",
   "execution_count": 2,
   "metadata": {},
   "outputs": [],
   "source": [
    "# Get the embeddings\n",
    "embeddings = pd.read_csv(\"data/OsmoticStress_with_binary_positions_and_embeddings.csv\", index_col=0)\n",
    "embeddings = embeddings.drop(columns=[\"full_sequence\"])\n",
    "\n",
    "# Get the dataset\n",
    "df = pd.read_csv('data/OsmoticStress_with_binary_positions.csv')\n",
    "df.drop(columns=['full_sequence', 'Peptide_sequence'], inplace=True)\n",
    "df.set_index('Uniprot_ID', inplace=True)\n",
    "\n",
    "# Merge the two and get the final dataset\n",
    "dataset = df.merge(embeddings, left_index=True, right_index=True)"
   ]
  }
 ],
 "metadata": {
  "kernelspec": {
   "display_name": "tp",
   "language": "python",
   "name": "python3"
  },
  "language_info": {
   "codemirror_mode": {
    "name": "ipython",
    "version": 3
   },
   "file_extension": ".py",
   "mimetype": "text/x-python",
   "name": "python",
   "nbconvert_exporter": "python",
   "pygments_lexer": "ipython3",
   "version": "3.7.16"
  }
 },
 "nbformat": 4,
 "nbformat_minor": 2
}
