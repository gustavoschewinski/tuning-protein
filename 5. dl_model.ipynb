{
 "cells": [
  {
   "cell_type": "markdown",
   "metadata": {},
   "source": [
    "# Deep Learning Model\n",
    "We are aiming to predict the Lip_norm parameter based on the binary positions and full embedding of a peptide."
   ]
  },
  {
   "cell_type": "markdown",
   "metadata": {},
   "source": [
    "## Dataset preparation"
   ]
  },
  {
   "cell_type": "markdown",
   "metadata": {},
   "source": [
    "### Read and prepare embeddings\n",
    "Read generated embeddings from the pkl file, that was generated in notebook 2."
   ]
  },
  {
   "cell_type": "code",
   "execution_count": 1,
   "metadata": {},
   "outputs": [],
   "source": [
    "import json\n",
    "import pickle\n",
    "import pandas as pd\n",
    "\n",
    "def load_and_process_embedding(file_path):\n",
    "    with open(file_path, 'rb') as file:\n",
    "        embeddings = pickle.load(file)\n",
    "    embeddings = pd.DataFrame(embeddings)\n",
    "    embeddings.set_index('Uniprot_ID', inplace=True)\n",
    "    embeddings = embeddings.drop(columns=['full_sequence'])\n",
    "    return embeddings\n",
    "\n",
    "embeddings = pd.DataFrame()\n",
    "\n",
    "embedding_files = [\n",
    "    'data/embeddings_new.pkl'\n",
    "]\n",
    "\n",
    "for file_path in embedding_files:\n",
    "    current_embeddings = load_and_process_embedding(file_path)\n",
    "    embeddings = pd.concat([embeddings, current_embeddings])"
   ]
  },
  {
   "cell_type": "code",
   "execution_count": 2,
   "metadata": {},
   "outputs": [
    {
     "data": {
      "text/html": [
       "<div>\n",
       "<style scoped>\n",
       "    .dataframe tbody tr th:only-of-type {\n",
       "        vertical-align: middle;\n",
       "    }\n",
       "\n",
       "    .dataframe tbody tr th {\n",
       "        vertical-align: top;\n",
       "    }\n",
       "\n",
       "    .dataframe thead th {\n",
       "        text-align: right;\n",
       "    }\n",
       "</style>\n",
       "<table border=\"1\" class=\"dataframe\">\n",
       "  <thead>\n",
       "    <tr style=\"text-align: right;\">\n",
       "      <th></th>\n",
       "      <th>Qvalue(LiP)</th>\n",
       "      <th>padded_sequence</th>\n",
       "      <th>full_sequence_length</th>\n",
       "      <th>num_pad_tokens</th>\n",
       "      <th>padded_sequence_length</th>\n",
       "      <th>expected_padded_length</th>\n",
       "      <th>full_embedding</th>\n",
       "    </tr>\n",
       "    <tr>\n",
       "      <th>Uniprot_ID</th>\n",
       "      <th></th>\n",
       "      <th></th>\n",
       "      <th></th>\n",
       "      <th></th>\n",
       "      <th></th>\n",
       "      <th></th>\n",
       "      <th></th>\n",
       "    </tr>\n",
       "  </thead>\n",
       "  <tbody>\n",
       "    <tr>\n",
       "      <th>P15703</th>\n",
       "      <td>0.003686</td>\n",
       "      <td>MRFSTTLATAATALFFTASQVSAIGELAFNLGVKNNDGTCKSTSDY...</td>\n",
       "      <td>313</td>\n",
       "      <td>687</td>\n",
       "      <td>1000</td>\n",
       "      <td>1000</td>\n",
       "      <td>[[0.10360906273126602, -0.04516144096851349, 0...</td>\n",
       "    </tr>\n",
       "    <tr>\n",
       "      <th>P15703</th>\n",
       "      <td>0.034862</td>\n",
       "      <td>MRFSTTLATAATALFFTASQVSAIGELAFNLGVKNNDGTCKSTSDY...</td>\n",
       "      <td>313</td>\n",
       "      <td>687</td>\n",
       "      <td>1000</td>\n",
       "      <td>1000</td>\n",
       "      <td>[[0.10360906273126602, -0.04516144096851349, 0...</td>\n",
       "    </tr>\n",
       "    <tr>\n",
       "      <th>P15703</th>\n",
       "      <td>0.039093</td>\n",
       "      <td>MRFSTTLATAATALFFTASQVSAIGELAFNLGVKNNDGTCKSTSDY...</td>\n",
       "      <td>313</td>\n",
       "      <td>687</td>\n",
       "      <td>1000</td>\n",
       "      <td>1000</td>\n",
       "      <td>[[0.10360906273126602, -0.04516144096851349, 0...</td>\n",
       "    </tr>\n",
       "    <tr>\n",
       "      <th>P15703</th>\n",
       "      <td>0.042584</td>\n",
       "      <td>MRFSTTLATAATALFFTASQVSAIGELAFNLGVKNNDGTCKSTSDY...</td>\n",
       "      <td>313</td>\n",
       "      <td>687</td>\n",
       "      <td>1000</td>\n",
       "      <td>1000</td>\n",
       "      <td>[[0.10360906273126602, -0.04516144096851349, 0...</td>\n",
       "    </tr>\n",
       "    <tr>\n",
       "      <th>P15703</th>\n",
       "      <td>0.048552</td>\n",
       "      <td>MRFSTTLATAATALFFTASQVSAIGELAFNLGVKNNDGTCKSTSDY...</td>\n",
       "      <td>313</td>\n",
       "      <td>687</td>\n",
       "      <td>1000</td>\n",
       "      <td>1000</td>\n",
       "      <td>[[0.10360906273126602, -0.04516144096851349, 0...</td>\n",
       "    </tr>\n",
       "    <tr>\n",
       "      <th>...</th>\n",
       "      <td>...</td>\n",
       "      <td>...</td>\n",
       "      <td>...</td>\n",
       "      <td>...</td>\n",
       "      <td>...</td>\n",
       "      <td>...</td>\n",
       "      <td>...</td>\n",
       "    </tr>\n",
       "    <tr>\n",
       "      <th>Q00055</th>\n",
       "      <td>0.292011</td>\n",
       "      <td>MSAAADRLNLTSGHLNAGRKRSSSSVSLKAAEKPFKVTVIGSGNWG...</td>\n",
       "      <td>391</td>\n",
       "      <td>609</td>\n",
       "      <td>1000</td>\n",
       "      <td>1000</td>\n",
       "      <td>[[0.06122666597366333, 0.011665030382573605, 0...</td>\n",
       "    </tr>\n",
       "    <tr>\n",
       "      <th>Q00055</th>\n",
       "      <td>0.361558</td>\n",
       "      <td>MSAAADRLNLTSGHLNAGRKRSSSSVSLKAAEKPFKVTVIGSGNWG...</td>\n",
       "      <td>391</td>\n",
       "      <td>609</td>\n",
       "      <td>1000</td>\n",
       "      <td>1000</td>\n",
       "      <td>[[0.06122666597366333, 0.011665030382573605, 0...</td>\n",
       "    </tr>\n",
       "    <tr>\n",
       "      <th>P49626</th>\n",
       "      <td>0.007762</td>\n",
       "      <td>MSRPQVTVHSLTGEATANALPLPAVFSAPIRPDIVHTVFTSVNKNK...</td>\n",
       "      <td>362</td>\n",
       "      <td>638</td>\n",
       "      <td>1000</td>\n",
       "      <td>1000</td>\n",
       "      <td>[[0.03739340975880623, 0.008485470898449421, 0...</td>\n",
       "    </tr>\n",
       "    <tr>\n",
       "      <th>P49626</th>\n",
       "      <td>0.027188</td>\n",
       "      <td>MSRPQVTVHSLTGEATANALPLPAVFSAPIRPDIVHTVFTSVNKNK...</td>\n",
       "      <td>362</td>\n",
       "      <td>638</td>\n",
       "      <td>1000</td>\n",
       "      <td>1000</td>\n",
       "      <td>[[0.03739340975880623, 0.008485470898449421, 0...</td>\n",
       "    </tr>\n",
       "    <tr>\n",
       "      <th>P49626</th>\n",
       "      <td>0.036417</td>\n",
       "      <td>MSRPQVTVHSLTGEATANALPLPAVFSAPIRPDIVHTVFTSVNKNK...</td>\n",
       "      <td>362</td>\n",
       "      <td>638</td>\n",
       "      <td>1000</td>\n",
       "      <td>1000</td>\n",
       "      <td>[[0.03739340975880623, 0.008485470898449421, 0...</td>\n",
       "    </tr>\n",
       "  </tbody>\n",
       "</table>\n",
       "<p>500 rows × 7 columns</p>\n",
       "</div>"
      ],
      "text/plain": [
       "            Qvalue(LiP)                                    padded_sequence  \\\n",
       "Uniprot_ID                                                                   \n",
       "P15703         0.003686  MRFSTTLATAATALFFTASQVSAIGELAFNLGVKNNDGTCKSTSDY...   \n",
       "P15703         0.034862  MRFSTTLATAATALFFTASQVSAIGELAFNLGVKNNDGTCKSTSDY...   \n",
       "P15703         0.039093  MRFSTTLATAATALFFTASQVSAIGELAFNLGVKNNDGTCKSTSDY...   \n",
       "P15703         0.042584  MRFSTTLATAATALFFTASQVSAIGELAFNLGVKNNDGTCKSTSDY...   \n",
       "P15703         0.048552  MRFSTTLATAATALFFTASQVSAIGELAFNLGVKNNDGTCKSTSDY...   \n",
       "...                 ...                                                ...   \n",
       "Q00055         0.292011  MSAAADRLNLTSGHLNAGRKRSSSSVSLKAAEKPFKVTVIGSGNWG...   \n",
       "Q00055         0.361558  MSAAADRLNLTSGHLNAGRKRSSSSVSLKAAEKPFKVTVIGSGNWG...   \n",
       "P49626         0.007762  MSRPQVTVHSLTGEATANALPLPAVFSAPIRPDIVHTVFTSVNKNK...   \n",
       "P49626         0.027188  MSRPQVTVHSLTGEATANALPLPAVFSAPIRPDIVHTVFTSVNKNK...   \n",
       "P49626         0.036417  MSRPQVTVHSLTGEATANALPLPAVFSAPIRPDIVHTVFTSVNKNK...   \n",
       "\n",
       "            full_sequence_length  num_pad_tokens  padded_sequence_length  \\\n",
       "Uniprot_ID                                                                 \n",
       "P15703                       313             687                    1000   \n",
       "P15703                       313             687                    1000   \n",
       "P15703                       313             687                    1000   \n",
       "P15703                       313             687                    1000   \n",
       "P15703                       313             687                    1000   \n",
       "...                          ...             ...                     ...   \n",
       "Q00055                       391             609                    1000   \n",
       "Q00055                       391             609                    1000   \n",
       "P49626                       362             638                    1000   \n",
       "P49626                       362             638                    1000   \n",
       "P49626                       362             638                    1000   \n",
       "\n",
       "            expected_padded_length  \\\n",
       "Uniprot_ID                           \n",
       "P15703                        1000   \n",
       "P15703                        1000   \n",
       "P15703                        1000   \n",
       "P15703                        1000   \n",
       "P15703                        1000   \n",
       "...                            ...   \n",
       "Q00055                        1000   \n",
       "Q00055                        1000   \n",
       "P49626                        1000   \n",
       "P49626                        1000   \n",
       "P49626                        1000   \n",
       "\n",
       "                                               full_embedding  \n",
       "Uniprot_ID                                                     \n",
       "P15703      [[0.10360906273126602, -0.04516144096851349, 0...  \n",
       "P15703      [[0.10360906273126602, -0.04516144096851349, 0...  \n",
       "P15703      [[0.10360906273126602, -0.04516144096851349, 0...  \n",
       "P15703      [[0.10360906273126602, -0.04516144096851349, 0...  \n",
       "P15703      [[0.10360906273126602, -0.04516144096851349, 0...  \n",
       "...                                                       ...  \n",
       "Q00055      [[0.06122666597366333, 0.011665030382573605, 0...  \n",
       "Q00055      [[0.06122666597366333, 0.011665030382573605, 0...  \n",
       "P49626      [[0.03739340975880623, 0.008485470898449421, 0...  \n",
       "P49626      [[0.03739340975880623, 0.008485470898449421, 0...  \n",
       "P49626      [[0.03739340975880623, 0.008485470898449421, 0...  \n",
       "\n",
       "[500 rows x 7 columns]"
      ]
     },
     "execution_count": 2,
     "metadata": {},
     "output_type": "execute_result"
    }
   ],
   "source": [
    "embeddings"
   ]
  },
  {
   "cell_type": "code",
   "execution_count": 3,
   "metadata": {},
   "outputs": [],
   "source": [
    "import numpy as np\n",
    "\n",
    "# Creating trimmed embeddings: because of the first and last tokens\n",
    "# (https://www.science.org/doi/suppl/10.1126/science.ade2574/suppl_file/science.ade2574_sm.pdf)\n",
    "# We used BOS and EOS tokens to signal the beginning and end of a real protein, to allow the model to separate a full-sized protein from a cropped one.\n",
    "trimmed_embeddings = [np.array(embedding)[1:-1, :] for embedding in embeddings['full_embedding']]\n",
    "trimmed_embeddings_df = pd.DataFrame({'embeddings': trimmed_embeddings}, index=embeddings.index)"
   ]
  },
  {
   "cell_type": "code",
   "execution_count": 4,
   "metadata": {},
   "outputs": [
    {
     "data": {
      "text/html": [
       "<div>\n",
       "<style scoped>\n",
       "    .dataframe tbody tr th:only-of-type {\n",
       "        vertical-align: middle;\n",
       "    }\n",
       "\n",
       "    .dataframe tbody tr th {\n",
       "        vertical-align: top;\n",
       "    }\n",
       "\n",
       "    .dataframe thead th {\n",
       "        text-align: right;\n",
       "    }\n",
       "</style>\n",
       "<table border=\"1\" class=\"dataframe\">\n",
       "  <thead>\n",
       "    <tr style=\"text-align: right;\">\n",
       "      <th></th>\n",
       "      <th>embeddings</th>\n",
       "    </tr>\n",
       "    <tr>\n",
       "      <th>Uniprot_ID</th>\n",
       "      <th></th>\n",
       "    </tr>\n",
       "  </thead>\n",
       "  <tbody>\n",
       "    <tr>\n",
       "      <th>P15703</th>\n",
       "      <td>[[-0.0004594324855133891, -0.04933467134833336...</td>\n",
       "    </tr>\n",
       "    <tr>\n",
       "      <th>P15703</th>\n",
       "      <td>[[-0.0004594324855133891, -0.04933467134833336...</td>\n",
       "    </tr>\n",
       "    <tr>\n",
       "      <th>P15703</th>\n",
       "      <td>[[-0.0004594324855133891, -0.04933467134833336...</td>\n",
       "    </tr>\n",
       "    <tr>\n",
       "      <th>P15703</th>\n",
       "      <td>[[-0.0004594324855133891, -0.04933467134833336...</td>\n",
       "    </tr>\n",
       "    <tr>\n",
       "      <th>P15703</th>\n",
       "      <td>[[-0.0004594324855133891, -0.04933467134833336...</td>\n",
       "    </tr>\n",
       "  </tbody>\n",
       "</table>\n",
       "</div>"
      ],
      "text/plain": [
       "                                                   embeddings\n",
       "Uniprot_ID                                                   \n",
       "P15703      [[-0.0004594324855133891, -0.04933467134833336...\n",
       "P15703      [[-0.0004594324855133891, -0.04933467134833336...\n",
       "P15703      [[-0.0004594324855133891, -0.04933467134833336...\n",
       "P15703      [[-0.0004594324855133891, -0.04933467134833336...\n",
       "P15703      [[-0.0004594324855133891, -0.04933467134833336..."
      ]
     },
     "execution_count": 4,
     "metadata": {},
     "output_type": "execute_result"
    }
   ],
   "source": [
    "# We can see that we have the trimmed embedings ready to be used\n",
    "trimmed_embeddings_df.head()"
   ]
  },
  {
   "cell_type": "markdown",
   "metadata": {},
   "source": [
    "### Read Binary position data\n",
    "Read generated binary position data and target values from the csv file, that was generated in notebook 1. The data is already ready, which means that the binary position  is already padded to the length of one thousand."
   ]
  },
  {
   "cell_type": "code",
   "execution_count": 5,
   "metadata": {
    "scrolled": true
   },
   "outputs": [
    {
     "data": {
      "text/html": [
       "<div>\n",
       "<style scoped>\n",
       "    .dataframe tbody tr th:only-of-type {\n",
       "        vertical-align: middle;\n",
       "    }\n",
       "\n",
       "    .dataframe tbody tr th {\n",
       "        vertical-align: top;\n",
       "    }\n",
       "\n",
       "    .dataframe thead th {\n",
       "        text-align: right;\n",
       "    }\n",
       "</style>\n",
       "<table border=\"1\" class=\"dataframe\">\n",
       "  <thead>\n",
       "    <tr style=\"text-align: right;\">\n",
       "      <th></th>\n",
       "      <th>Log2FC(LiP_norm)</th>\n",
       "      <th>Padded_Binary_Positions</th>\n",
       "    </tr>\n",
       "    <tr>\n",
       "      <th>Uniprot_ID</th>\n",
       "      <th></th>\n",
       "      <th></th>\n",
       "    </tr>\n",
       "  </thead>\n",
       "  <tbody>\n",
       "    <tr>\n",
       "      <th>P15703</th>\n",
       "      <td>-2.176707</td>\n",
       "      <td>[0, 0, 0, 0, 0, 0, 0, 0, 0, 0, 0, 0, 0, 0, 0, ...</td>\n",
       "    </tr>\n",
       "    <tr>\n",
       "      <th>P15703</th>\n",
       "      <td>0.285029</td>\n",
       "      <td>[0, 0, 0, 0, 0, 0, 0, 0, 0, 0, 0, 0, 0, 0, 0, ...</td>\n",
       "    </tr>\n",
       "    <tr>\n",
       "      <th>P15703</th>\n",
       "      <td>-0.498240</td>\n",
       "      <td>[0, 0, 0, 0, 0, 0, 0, 0, 0, 0, 0, 0, 0, 0, 0, ...</td>\n",
       "    </tr>\n",
       "    <tr>\n",
       "      <th>P15703</th>\n",
       "      <td>0.348193</td>\n",
       "      <td>[0, 0, 0, 0, 0, 0, 0, 0, 0, 0, 0, 0, 0, 0, 0, ...</td>\n",
       "    </tr>\n",
       "    <tr>\n",
       "      <th>P15703</th>\n",
       "      <td>-0.434615</td>\n",
       "      <td>[0, 0, 0, 0, 0, 0, 0, 0, 0, 0, 0, 0, 0, 0, 0, ...</td>\n",
       "    </tr>\n",
       "  </tbody>\n",
       "</table>\n",
       "</div>"
      ],
      "text/plain": [
       "            Log2FC(LiP_norm)  \\\n",
       "Uniprot_ID                     \n",
       "P15703             -2.176707   \n",
       "P15703              0.285029   \n",
       "P15703             -0.498240   \n",
       "P15703              0.348193   \n",
       "P15703             -0.434615   \n",
       "\n",
       "                                      Padded_Binary_Positions  \n",
       "Uniprot_ID                                                     \n",
       "P15703      [0, 0, 0, 0, 0, 0, 0, 0, 0, 0, 0, 0, 0, 0, 0, ...  \n",
       "P15703      [0, 0, 0, 0, 0, 0, 0, 0, 0, 0, 0, 0, 0, 0, 0, ...  \n",
       "P15703      [0, 0, 0, 0, 0, 0, 0, 0, 0, 0, 0, 0, 0, 0, 0, ...  \n",
       "P15703      [0, 0, 0, 0, 0, 0, 0, 0, 0, 0, 0, 0, 0, 0, 0, ...  \n",
       "P15703      [0, 0, 0, 0, 0, 0, 0, 0, 0, 0, 0, 0, 0, 0, 0, ...  "
      ]
     },
     "execution_count": 5,
     "metadata": {},
     "output_type": "execute_result"
    }
   ],
   "source": [
    "# Get the dataset\n",
    "df = pd.read_csv('data/OsmoticStress_with_binary_positions_padded.csv')\n",
    "df['Binary_Positions'] = df['Binary_Positions'].apply(json.loads)\n",
    "df['Padded_Binary_Positions'] = df['Padded_Binary_Positions'].apply(json.loads)\n",
    "df.drop(columns=['full_sequence', 'Peptide_sequence', \"Binary_Positions\"], inplace=True)\n",
    "df.set_index('Uniprot_ID', inplace=True)\n",
    "\n",
    "df.head()"
   ]
  },
  {
   "cell_type": "markdown",
   "metadata": {},
   "source": [
    "### Prepare training dataset\n",
    "Merge both embeddings and padded binary position together."
   ]
  },
  {
   "cell_type": "code",
   "execution_count": 6,
   "metadata": {},
   "outputs": [
    {
     "name": "stdout",
     "output_type": "stream",
     "text": [
      "(43166, 3)\n"
     ]
    }
   ],
   "source": [
    "dataset = df.merge(trimmed_embeddings_df, left_index=True, right_index=True)\n",
    "\n",
    "# We can see that we have only the columns: 'Lip_norm', 'Binary Position', 'Embeddings'\n",
    "dataset.head()\n",
    "print(dataset.shape)"
   ]
  },
  {
   "cell_type": "code",
   "execution_count": 7,
   "metadata": {},
   "outputs": [],
   "source": [
    "# Reduce data quantity for memory's sake\n",
    "# dataset = dataset[:8000]\n",
    "dataset = dataset.sample(n=6000, random_state=42)"
   ]
  },
  {
   "cell_type": "code",
   "execution_count": 8,
   "metadata": {},
   "outputs": [],
   "source": [
    "dataset = dataset.reset_index()"
   ]
  },
  {
   "cell_type": "code",
   "execution_count": 9,
   "metadata": {},
   "outputs": [],
   "source": [
    "import torch\n",
    "torch.cuda.empty_cache()"
   ]
  },
  {
   "cell_type": "code",
   "execution_count": 10,
   "metadata": {},
   "outputs": [],
   "source": [
    "# dataset = dataset[:1000]"
   ]
  },
  {
   "cell_type": "code",
   "execution_count": 11,
   "metadata": {},
   "outputs": [
    {
     "name": "stdout",
     "output_type": "stream",
     "text": [
      "torch.Size([4561, 1000, 1280])\n",
      "torch.Size([887, 1000, 1280])\n",
      "torch.Size([552, 1000, 1280])\n"
     ]
    }
   ],
   "source": [
    "import torch\n",
    "import numpy as np\n",
    "\n",
    "device = torch.device(\"cuda\" if torch.cuda.is_available() else \"cpu\")\n",
    "\n",
    "peptide_ids = dataset['Uniprot_ID'].unique()\n",
    "np.random.seed(42)\n",
    "np.random.shuffle(peptide_ids)\n",
    "\n",
    "num_train_ids = int(0.3 * len(peptide_ids))\n",
    "num_val_ids = int(0.6 * len(peptide_ids))\n",
    "\n",
    "train_ids = peptide_ids[:num_train_ids]\n",
    "val_ids = peptide_ids[num_train_ids:num_train_ids + num_val_ids]\n",
    "test_ids = peptide_ids[num_train_ids + num_val_ids:]\n",
    "\n",
    "train_mask = dataset['Uniprot_ID'].isin(train_ids)\n",
    "val_mask = dataset['Uniprot_ID'].isin(val_ids)\n",
    "test_mask = dataset['Uniprot_ID'].isin(test_ids)\n",
    "\n",
    "train_data = dataset[train_mask]\n",
    "val_data = dataset[val_mask]\n",
    "test_data = dataset[test_mask]\n",
    "\n",
    "def dataframe_to_tensor(data):\n",
    "    embeddings_tensor = torch.tensor(np.array(data['embeddings'].tolist(), dtype=np.float16), device=device)\n",
    "    positions_tensor = torch.tensor(np.array(data['Padded_Binary_Positions'].tolist(), dtype=np.float16), device=device)\n",
    "    y_tensor = torch.tensor(np.array(data['Log2FC(LiP_norm)'].tolist(), dtype=np.float16))\n",
    "    return embeddings_tensor, positions_tensor, y_tensor\n",
    "\n",
    "train_embeddings, train_positions, train_y = dataframe_to_tensor(train_data)\n",
    "val_embeddings, val_positions, val_y = dataframe_to_tensor(val_data)\n",
    "test_embeddings, test_positions, test_y = dataframe_to_tensor(test_data)\n",
    "\n",
    "print(train_embeddings.shape)\n",
    "print(val_embeddings.shape)\n",
    "print(test_embeddings.shape)"
   ]
  },
  {
   "cell_type": "code",
   "execution_count": 12,
   "metadata": {},
   "outputs": [],
   "source": [
    "############################################## If shuffle true ##############################################\n",
    "# import torch\n",
    "# import numpy as np\n",
    "\n",
    "# device = torch.device(\"cuda\" if torch.cuda.is_available() else \"cpu\")\n",
    "# # Create tensors directly on the GPU\n",
    "# embeddings_tensor = torch.tensor(np.array(dataset['embeddings'].tolist(), dtype=np.float16), device=device)\n",
    "# binary_positions_tensor = torch.tensor(np.array(dataset['Padded_Binary_Positions'].tolist(), dtype=np.float16), device=device)\n",
    "################################################################################################################"
   ]
  },
  {
   "cell_type": "code",
   "execution_count": 13,
   "metadata": {},
   "outputs": [],
   "source": [
    "# print(\"embeddings_tensor shape\", embeddings_tensor.shape)\n",
    "# print(\"binary_positions_tensor shape\", binary_positions_tensor.shape)"
   ]
  },
  {
   "cell_type": "code",
   "execution_count": 14,
   "metadata": {},
   "outputs": [],
   "source": [
    "# y = torch.tensor(np.array(dataset['Log2FC(LiP_norm)'].tolist(), dtype=np.float16), device=device)\n",
    "\n",
    "# print(\"y shape:\", y.shape)"
   ]
  },
  {
   "cell_type": "markdown",
   "metadata": {},
   "source": [
    "## Model Training\n",
    "Now that we have both input and target data, we can create our model."
   ]
  },
  {
   "cell_type": "code",
   "execution_count": 15,
   "metadata": {},
   "outputs": [
    {
     "name": "stdout",
     "output_type": "stream",
     "text": [
      "1.13.1+cu116\n",
      "cuda\n"
     ]
    }
   ],
   "source": [
    "import torch\n",
    "print(torch.__version__)\n",
    "print(device)"
   ]
  },
  {
   "cell_type": "code",
   "execution_count": 16,
   "metadata": {},
   "outputs": [
    {
     "name": "stderr",
     "output_type": "stream",
     "text": [
      "/data/nasif12/home_if12/l_schewinski/.conda/envs/l-schewinski-tp-2/lib/python3.7/site-packages/ipykernel_launcher.py:13: UserWarning: To copy construct from a tensor, it is recommended to use sourceTensor.clone().detach() or sourceTensor.clone().detach().requires_grad_(True), rather than torch.tensor(sourceTensor).\n",
      "  del sys.path[0]\n",
      "/data/nasif12/home_if12/l_schewinski/.conda/envs/l-schewinski-tp-2/lib/python3.7/site-packages/ipykernel_launcher.py:14: UserWarning: To copy construct from a tensor, it is recommended to use sourceTensor.clone().detach() or sourceTensor.clone().detach().requires_grad_(True), rather than torch.tensor(sourceTensor).\n",
      "  \n",
      "/data/nasif12/home_if12/l_schewinski/.conda/envs/l-schewinski-tp-2/lib/python3.7/site-packages/ipykernel_launcher.py:15: UserWarning: To copy construct from a tensor, it is recommended to use sourceTensor.clone().detach() or sourceTensor.clone().detach().requires_grad_(True), rather than torch.tensor(sourceTensor).\n",
      "  from ipykernel import kernelapp as app\n"
     ]
    }
   ],
   "source": [
    "import torch\n",
    "import torch.nn as nn\n",
    "import torch.optim as optim\n",
    "import copy\n",
    "from torch.utils.data import TensorDataset, DataLoader, random_split, Dataset\n",
    "from torch.cuda.amp import GradScaler, autocast\n",
    "\n",
    "device = torch.device(\"cuda\" if torch.cuda.is_available() else \"cpu\")\n",
    "\n",
    "# Data setup\n",
    "class PeptideDataset(Dataset):\n",
    "    def __init__(self, embeddings, position, y):\n",
    "        self.embeddings = torch.tensor(embeddings, dtype = torch.float16)\n",
    "        self.position = torch.tensor(position, dtype = torch.int64)\n",
    "        self.y = torch.tensor(y, dtype = torch.float16)\n",
    "        \n",
    "    def __len__(self):\n",
    "        return len(self.y)\n",
    "    \n",
    "    def __getitem__(self, index):\n",
    "        x = {\"embeddings\":self.embeddings[index],\n",
    "             \"position\":self.position[index]}\n",
    "        y = self.y[index]\n",
    "        return x, y\n",
    "\n",
    "############################################## If shuffle true ##############################################\n",
    "# dataset = PeptideDataset(embeddings_tensor, binary_positions_tensor, y)\n",
    "\n",
    "# train_size = int(0.6 * len(dataset))\n",
    "# val_size = int(0.2 * len(dataset))\n",
    "# test_size = len(dataset) - train_size - val_size\n",
    "\n",
    "# train_dataset, val_dataset, test_dataset = random_split(dataset, [train_size, val_size,test_size])\n",
    "#############################################################################################################\n",
    "\n",
    "train_dataset = PeptideDataset(train_embeddings, train_positions, train_y)\n",
    "val_dataset = PeptideDataset(val_embeddings, val_positions, val_y)\n",
    "test_dataset = PeptideDataset(test_embeddings, test_positions, test_y)\n"
   ]
  },
  {
   "cell_type": "code",
   "execution_count": null,
   "metadata": {
    "scrolled": true
   },
   "outputs": [
    {
     "name": "stdout",
     "output_type": "stream",
     "text": [
      "Epoch 1, Train Loss: 5.577573022017112\n",
      "Epoch 1, Val MSE: 0.312621148037059\n"
     ]
    }
   ],
   "source": [
    "batch_size = 32\n",
    "\n",
    "train_loader = DataLoader(train_dataset, batch_size=batch_size, shuffle=True)\n",
    "val_loader = DataLoader(val_dataset, batch_size=batch_size, shuffle=False)\n",
    "test_loader = DataLoader(test_dataset, batch_size=batch_size, shuffle=False)\n",
    "\n",
    "# Model definition\n",
    "class PeptideRegressor(nn.Module):\n",
    "    def __init__(self, input_dim, num_heads, dropout_rate):\n",
    "        super(PeptideRegressor, self).__init__()\n",
    "        self.pos_embed = nn.Embedding(2, 1280)\n",
    "        self.seq_pos_embed = nn.Embedding(1000, 1280)\n",
    "        self.pept_pos_embed = nn.Embedding(2, 1280)\n",
    "        encoder_layer = nn.TransformerEncoderLayer(\n",
    "            d_model=input_dim, \n",
    "            nhead=num_heads, \n",
    "            dropout=dropout_rate\n",
    "        )\n",
    "        self.transformer_encoder = nn.TransformerEncoder(encoder_layer, num_layers=1)\n",
    "        self.pooling = nn.AdaptiveAvgPool1d(1)\n",
    "        self.fc = nn.Linear(input_dim, 1)\n",
    "\n",
    "    def forward(self, x):\n",
    "        positions = x[\"position\"]\n",
    "        x = x[\"embeddings\"] + self.pos_embed(positions)\n",
    "        # x = x[\"embeddings\"] + self.seq_pos_embed(torch.arange(x[\"position\"].size(1), device=device)) + self.pept_pos_embed(x[\"position\"])\n",
    "        x = x.permute(1, 0, 2)\n",
    "        transformer_output = self.transformer_encoder(x)\n",
    "        transformer_output = transformer_output.permute(1, 2, 0)\n",
    "\n",
    "        # mask = positions == 1\n",
    "        # mask = mask.unsqueeze(1)\n",
    "        # peptide_embeddings = transformer_output * mask.float()\n",
    "        \n",
    "        pooled = self.pooling(transformer_output)\n",
    "        flattened = pooled.squeeze(-1)\n",
    "        \n",
    "        output = self.fc(flattened)\n",
    "        return output\n",
    "\n",
    "model = PeptideRegressor(input_dim=1280, num_heads=16, dropout_rate=0.1)\n",
    "model = model.to(device)\n",
    "\n",
    "loss_fn = nn.MSELoss()\n",
    "optimizer = optim.Adam(model.parameters(), lr=0.0005, weight_decay=1e-3)\n",
    "\n",
    "scaler = GradScaler()\n",
    "\n",
    "# Training settings\n",
    "n_epochs = 8\n",
    "best_val_loss = float('inf')\n",
    "train_losses_avg = []\n",
    "val_losses_avg = []\n",
    "\n",
    "# Training loop\n",
    "for epoch in range(n_epochs):\n",
    "    model.train()\n",
    "    train_losses = []\n",
    "    for X_batch, y_batch in train_loader:\n",
    "        for k, v in X_batch.items():\n",
    "            X_batch[k] = v.to(device, non_blocking=True)\n",
    "        y_batch = y_batch.to(device, non_blocking=True)\n",
    "\n",
    "        optimizer.zero_grad()\n",
    "\n",
    "        # Using AMP for automatic mixed precision\n",
    "        with autocast():\n",
    "            y_pred = model(X_batch)\n",
    "            loss = loss_fn(y_pred, y_batch.unsqueeze(1))\n",
    "\n",
    "        # Backpropagation with scaled loss\n",
    "        scaler.scale(loss).backward()\n",
    "        scaler.step(optimizer)\n",
    "        scaler.update()\n",
    "\n",
    "        train_losses.append(loss.item())\n",
    "\n",
    "    train_losses_avg.append(sum(train_losses) / len(train_losses))\n",
    "    print(f'Epoch {epoch+1}, Train Loss: {train_losses_avg[-1]}')\n",
    "\n",
    "    model.eval()\n",
    "    val_losses = []\n",
    "    for X_batch, y_batch in val_loader:\n",
    "        for k, v in X_batch.items():\n",
    "            X_batch[k] = v.to(device, non_blocking=True)\n",
    "        y_batch = y_batch.to(device, non_blocking=True)\n",
    "\n",
    "        with torch.no_grad(), autocast():\n",
    "            y_pred = model(X_batch)\n",
    "            mse = loss_fn(y_pred, y_batch.unsqueeze(1))\n",
    "            val_losses.append(mse.item())\n",
    "\n",
    "    avg_val_loss = sum(val_losses) / len(val_losses)\n",
    "    val_losses_avg.append(avg_val_loss)\n",
    "    print(f'Epoch {epoch+1}, Val MSE: {avg_val_loss}')\n",
    "    if avg_val_loss < best_val_loss:\n",
    "        best_val_loss = avg_val_loss\n",
    "        best_model = copy.deepcopy(model.state_dict())\n",
    "\n",
    "torch.save({\n",
    "    'model_state_dict': best_model,\n",
    "}, 'best_peptide_model.pth')"
   ]
  },
  {
   "cell_type": "code",
   "execution_count": null,
   "metadata": {},
   "outputs": [],
   "source": [
    "# # Visualize the training process\n",
    "import matplotlib.pyplot as plt\n",
    "\n",
    "plt.plot(train_losses_avg[1:], label='Train Loss')\n",
    "plt.plot(val_losses_avg[1:], label='Val Loss')\n",
    "plt.legend()\n",
    "plt.show()\n"
   ]
  },
  {
   "cell_type": "code",
   "execution_count": 20,
   "metadata": {},
   "outputs": [
    {
     "name": "stdout",
     "output_type": "stream",
     "text": [
      "Model Summary:\n",
      "Layer Name                                         Shape                          Parameters      Trainable      \n",
      "--------------------------------------------------------------------------------------------------------------\n",
      "pos_embed.weight                                   torch.Size([2, 1280])          2560            2560           \n",
      "transformer_encoder.layers.0.self_attn.in_proj_weight torch.Size([3840, 1280])       4915200         4915200        \n",
      "transformer_encoder.layers.0.self_attn.in_proj_bias torch.Size([3840])             3840            3840           \n",
      "transformer_encoder.layers.0.self_attn.out_proj.weight torch.Size([1280, 1280])       1638400         1638400        \n",
      "transformer_encoder.layers.0.self_attn.out_proj.bias torch.Size([1280])             1280            1280           \n",
      "transformer_encoder.layers.0.linear1.weight        torch.Size([2048, 1280])       2621440         2621440        \n",
      "transformer_encoder.layers.0.linear1.bias          torch.Size([2048])             2048            2048           \n",
      "transformer_encoder.layers.0.linear2.weight        torch.Size([1280, 2048])       2621440         2621440        \n",
      "transformer_encoder.layers.0.linear2.bias          torch.Size([1280])             1280            1280           \n",
      "transformer_encoder.layers.0.norm1.weight          torch.Size([1280])             1280            1280           \n",
      "transformer_encoder.layers.0.norm1.bias            torch.Size([1280])             1280            1280           \n",
      "transformer_encoder.layers.0.norm2.weight          torch.Size([1280])             1280            1280           \n",
      "transformer_encoder.layers.0.norm2.bias            torch.Size([1280])             1280            1280           \n",
      "fc.weight                                          torch.Size([1, 1280])          1280            1280           \n",
      "fc.bias                                            torch.Size([1])                1               1              \n",
      "--------------------------------------------------------------------------------------------------------------\n",
      "Total Parameters: 11813889\n",
      "Trainable Parameters: 11813889\n"
     ]
    }
   ],
   "source": [
    "def model_summary(model):\n",
    "    print(\"Model Summary:\")\n",
    "    print(\"{:<50} {:<30} {:<15} {:<15}\".format(\"Layer Name\", \"Shape\", \"Parameters\", \"Trainable\"))\n",
    "    print(\"-\" * 110)\n",
    "    total_params = 0\n",
    "    total_trainable_params = 0\n",
    "    lm_params = 0\n",
    "    lm_trainable_params = 0\n",
    "    lm_layers = 0\n",
    "    for name, parameter in model.named_parameters():\n",
    "        param = parameter.numel()\n",
    "        total_params += param\n",
    "        # Check if the parameter is trainable\n",
    "        trainable = parameter.requires_grad\n",
    "        trainable_param = param if trainable else 0\n",
    "        total_trainable_params += trainable_param\n",
    "        print(\"{:<50} {:<30} {:<15} {:<15}\".format(name, str(parameter.size()), param, trainable_param))\n",
    "    print(\"-\" * 110)\n",
    "    print(f\"Total Parameters: {total_params}\")\n",
    "    print(f\"Trainable Parameters: {total_trainable_params}\")\n",
    "\n",
    "model_summary(model)"
   ]
  },
  {
   "cell_type": "code",
   "execution_count": 21,
   "metadata": {},
   "outputs": [
    {
     "name": "stdout",
     "output_type": "stream",
     "text": [
      "Test MSE: 0.5212868832879596\n"
     ]
    }
   ],
   "source": [
    "model.load_state_dict(best_model)\n",
    "model.eval()\n",
    "test_losses = []\n",
    "y_preds = []\n",
    "y_actuals = []\n",
    "\n",
    "for X_batch, y_batch in test_loader:\n",
    "    for k, v in X_batch.items():\n",
    "        X_batch[k] = v.to(device, non_blocking=True)\n",
    "    y_batch = y_batch.to(device, non_blocking=True)\n",
    "    \n",
    "    with torch.no_grad(), autocast():\n",
    "        y_pred = model(X_batch)\n",
    "        mse = loss_fn(y_pred, y_batch.unsqueeze(1))\n",
    "        \n",
    "        y_preds.extend(y_pred.cpu().numpy())\n",
    "        y_actuals.extend(y_batch.cpu().numpy())\n",
    "        test_losses.append(mse.item())\n",
    "\n",
    "avg_test_loss = sum(test_losses) / len(test_losses)\n",
    "print(f'Test MSE: {avg_test_loss}')"
   ]
  },
  {
   "cell_type": "code",
   "execution_count": 22,
   "metadata": {},
   "outputs": [
    {
     "data": {
      "image/png": "[encoded data removed]",
      "text/plain": [
       "<Figure size 1000x600 with 1 Axes>"
      ]
     },
     "metadata": {},
     "output_type": "display_data"
    }
   ],
   "source": [
    "import matplotlib.pyplot as plt\n",
    "\n",
    "plt.figure(figsize=(10, 6))\n",
    "plt.scatter(y_preds, y_actuals, alpha=0.5)\n",
    "plt.title('Predicted vs Actual Values')\n",
    "plt.ylabel('Actual Values')\n",
    "plt.xlabel('Predicted Values')\n",
    "plt.grid(True)\n",
    "plt.show()"
   ]
  },
  {
   "cell_type": "code",
   "execution_count": null,
   "metadata": {},
   "outputs": [],
   "source": []
  }
 ],
 "metadata": {
  "kernelspec": {
   "display_name": "Python [conda env:.conda-l-schewinski-tp-2]",
   "language": "python",
   "name": "conda-env-.conda-l-schewinski-tp-2-py"
  },
  "language_info": {
   "codemirror_mode": {
    "name": "ipython",
    "version": 3
   },
   "file_extension": ".py",
   "mimetype": "text/x-python",
   "name": "python",
   "nbconvert_exporter": "python",
   "pygments_lexer": "ipython3",
   "version": "3.7.12"
  }
 },
 "nbformat": 4,
 "nbformat_minor": 4
}
