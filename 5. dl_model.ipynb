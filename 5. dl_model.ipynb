{
 "cells": [
  {
   "cell_type": "markdown",
   "metadata": {},
   "source": [
    "# Deep Learning Model\n",
    "We are aiming to predict the Lip_norm parameter based on the binary positions and full embedding of a peptide."
   ]
  },
  {
   "cell_type": "markdown",
   "metadata": {},
   "source": [
    "## Dataset preparation"
   ]
  },
  {
   "cell_type": "markdown",
   "metadata": {},
   "source": [
    "### Read and prepare embeddings\n",
    "Read generated embeddings from the pkl file, that was generated in notebook 2."
   ]
  },
  {
   "cell_type": "code",
   "execution_count": 1,
   "metadata": {},
   "outputs": [],
   "source": [
    "import json\n",
    "import pickle\n",
    "import pandas as pd\n",
    "\n",
    "def load_and_process_embedding(file_path):\n",
    "    with open(file_path, 'rb') as file:\n",
    "        embeddings = pickle.load(file)\n",
    "    embeddings = pd.DataFrame(embeddings)\n",
    "    embeddings.set_index('Uniprot_ID', inplace=True)\n",
    "    embeddings = embeddings.drop(columns=['full_sequence'])\n",
    "    return embeddings\n",
    "\n",
    "embeddings = pd.DataFrame()\n",
    "\n",
    "embedding_files = [\n",
    "    'data/embeddings_new.pkl'\n",
    "]\n",
    "\n",
    "for file_path in embedding_files:\n",
    "    current_embeddings = load_and_process_embedding(file_path)\n",
    "    embeddings = pd.concat([embeddings, current_embeddings])"
   ]
  },
  {
   "cell_type": "code",
   "execution_count": 2,
   "metadata": {},
   "outputs": [],
   "source": [
    "embeddings_ = embeddings.reset_index()"
   ]
  },
  {
   "cell_type": "code",
   "execution_count": 3,
   "metadata": {},
   "outputs": [
    {
     "name": "stdout",
     "output_type": "stream",
     "text": [
      "15\n",
      "500\n"
     ]
    }
   ],
   "source": [
    "print(len(embeddings_['Uniprot_ID'].unique()))\n",
    "print(len(embeddings_['Uniprot_ID']))\n"
   ]
  },
  {
   "cell_type": "code",
   "execution_count": 4,
   "metadata": {},
   "outputs": [
    {
     "name": "stdout",
     "output_type": "stream",
     "text": [
      "['P15703' 'P38174' 'P06169' 'P00359' 'P37292' 'P08417' 'P32897' 'Q04305'\n",
      " 'Q3E7Y3' 'P34167' 'P23542' 'P00817' 'Q02892' 'Q00055' 'P49626']\n"
     ]
    }
   ],
   "source": [
    "print(embeddings_['Uniprot_ID'].unique())"
   ]
  },
  {
   "cell_type": "code",
   "execution_count": 5,
   "metadata": {},
   "outputs": [
    {
     "data": {
      "text/html": [
       "<div>\n",
       "<style scoped>\n",
       "    .dataframe tbody tr th:only-of-type {\n",
       "        vertical-align: middle;\n",
       "    }\n",
       "\n",
       "    .dataframe tbody tr th {\n",
       "        vertical-align: top;\n",
       "    }\n",
       "\n",
       "    .dataframe thead th {\n",
       "        text-align: right;\n",
       "    }\n",
       "</style>\n",
       "<table border=\"1\" class=\"dataframe\">\n",
       "  <thead>\n",
       "    <tr style=\"text-align: right;\">\n",
       "      <th></th>\n",
       "      <th>Qvalue(LiP)</th>\n",
       "      <th>padded_sequence</th>\n",
       "      <th>full_sequence_length</th>\n",
       "      <th>num_pad_tokens</th>\n",
       "      <th>padded_sequence_length</th>\n",
       "      <th>expected_padded_length</th>\n",
       "      <th>full_embedding</th>\n",
       "    </tr>\n",
       "    <tr>\n",
       "      <th>Uniprot_ID</th>\n",
       "      <th></th>\n",
       "      <th></th>\n",
       "      <th></th>\n",
       "      <th></th>\n",
       "      <th></th>\n",
       "      <th></th>\n",
       "      <th></th>\n",
       "    </tr>\n",
       "  </thead>\n",
       "  <tbody>\n",
       "    <tr>\n",
       "      <th>P15703</th>\n",
       "      <td>0.003686</td>\n",
       "      <td>MRFSTTLATAATALFFTASQVSAIGELAFNLGVKNNDGTCKSTSDY...</td>\n",
       "      <td>313</td>\n",
       "      <td>687</td>\n",
       "      <td>1000</td>\n",
       "      <td>1000</td>\n",
       "      <td>[[0.10360906273126602, -0.04516144096851349, 0...</td>\n",
       "    </tr>\n",
       "    <tr>\n",
       "      <th>P15703</th>\n",
       "      <td>0.034862</td>\n",
       "      <td>MRFSTTLATAATALFFTASQVSAIGELAFNLGVKNNDGTCKSTSDY...</td>\n",
       "      <td>313</td>\n",
       "      <td>687</td>\n",
       "      <td>1000</td>\n",
       "      <td>1000</td>\n",
       "      <td>[[0.10360906273126602, -0.04516144096851349, 0...</td>\n",
       "    </tr>\n",
       "    <tr>\n",
       "      <th>P15703</th>\n",
       "      <td>0.039093</td>\n",
       "      <td>MRFSTTLATAATALFFTASQVSAIGELAFNLGVKNNDGTCKSTSDY...</td>\n",
       "      <td>313</td>\n",
       "      <td>687</td>\n",
       "      <td>1000</td>\n",
       "      <td>1000</td>\n",
       "      <td>[[0.10360906273126602, -0.04516144096851349, 0...</td>\n",
       "    </tr>\n",
       "    <tr>\n",
       "      <th>P15703</th>\n",
       "      <td>0.042584</td>\n",
       "      <td>MRFSTTLATAATALFFTASQVSAIGELAFNLGVKNNDGTCKSTSDY...</td>\n",
       "      <td>313</td>\n",
       "      <td>687</td>\n",
       "      <td>1000</td>\n",
       "      <td>1000</td>\n",
       "      <td>[[0.10360906273126602, -0.04516144096851349, 0...</td>\n",
       "    </tr>\n",
       "    <tr>\n",
       "      <th>P15703</th>\n",
       "      <td>0.048552</td>\n",
       "      <td>MRFSTTLATAATALFFTASQVSAIGELAFNLGVKNNDGTCKSTSDY...</td>\n",
       "      <td>313</td>\n",
       "      <td>687</td>\n",
       "      <td>1000</td>\n",
       "      <td>1000</td>\n",
       "      <td>[[0.10360906273126602, -0.04516144096851349, 0...</td>\n",
       "    </tr>\n",
       "    <tr>\n",
       "      <th>...</th>\n",
       "      <td>...</td>\n",
       "      <td>...</td>\n",
       "      <td>...</td>\n",
       "      <td>...</td>\n",
       "      <td>...</td>\n",
       "      <td>...</td>\n",
       "      <td>...</td>\n",
       "    </tr>\n",
       "    <tr>\n",
       "      <th>Q00055</th>\n",
       "      <td>0.292011</td>\n",
       "      <td>MSAAADRLNLTSGHLNAGRKRSSSSVSLKAAEKPFKVTVIGSGNWG...</td>\n",
       "      <td>391</td>\n",
       "      <td>609</td>\n",
       "      <td>1000</td>\n",
       "      <td>1000</td>\n",
       "      <td>[[0.06122666597366333, 0.011665030382573605, 0...</td>\n",
       "    </tr>\n",
       "    <tr>\n",
       "      <th>Q00055</th>\n",
       "      <td>0.361558</td>\n",
       "      <td>MSAAADRLNLTSGHLNAGRKRSSSSVSLKAAEKPFKVTVIGSGNWG...</td>\n",
       "      <td>391</td>\n",
       "      <td>609</td>\n",
       "      <td>1000</td>\n",
       "      <td>1000</td>\n",
       "      <td>[[0.06122666597366333, 0.011665030382573605, 0...</td>\n",
       "    </tr>\n",
       "    <tr>\n",
       "      <th>P49626</th>\n",
       "      <td>0.007762</td>\n",
       "      <td>MSRPQVTVHSLTGEATANALPLPAVFSAPIRPDIVHTVFTSVNKNK...</td>\n",
       "      <td>362</td>\n",
       "      <td>638</td>\n",
       "      <td>1000</td>\n",
       "      <td>1000</td>\n",
       "      <td>[[0.03739340975880623, 0.008485470898449421, 0...</td>\n",
       "    </tr>\n",
       "    <tr>\n",
       "      <th>P49626</th>\n",
       "      <td>0.027188</td>\n",
       "      <td>MSRPQVTVHSLTGEATANALPLPAVFSAPIRPDIVHTVFTSVNKNK...</td>\n",
       "      <td>362</td>\n",
       "      <td>638</td>\n",
       "      <td>1000</td>\n",
       "      <td>1000</td>\n",
       "      <td>[[0.03739340975880623, 0.008485470898449421, 0...</td>\n",
       "    </tr>\n",
       "    <tr>\n",
       "      <th>P49626</th>\n",
       "      <td>0.036417</td>\n",
       "      <td>MSRPQVTVHSLTGEATANALPLPAVFSAPIRPDIVHTVFTSVNKNK...</td>\n",
       "      <td>362</td>\n",
       "      <td>638</td>\n",
       "      <td>1000</td>\n",
       "      <td>1000</td>\n",
       "      <td>[[0.03739340975880623, 0.008485470898449421, 0...</td>\n",
       "    </tr>\n",
       "  </tbody>\n",
       "</table>\n",
       "<p>500 rows × 7 columns</p>\n",
       "</div>"
      ],
      "text/plain": [
       "            Qvalue(LiP)                                    padded_sequence  \\\n",
       "Uniprot_ID                                                                   \n",
       "P15703         0.003686  MRFSTTLATAATALFFTASQVSAIGELAFNLGVKNNDGTCKSTSDY...   \n",
       "P15703         0.034862  MRFSTTLATAATALFFTASQVSAIGELAFNLGVKNNDGTCKSTSDY...   \n",
       "P15703         0.039093  MRFSTTLATAATALFFTASQVSAIGELAFNLGVKNNDGTCKSTSDY...   \n",
       "P15703         0.042584  MRFSTTLATAATALFFTASQVSAIGELAFNLGVKNNDGTCKSTSDY...   \n",
       "P15703         0.048552  MRFSTTLATAATALFFTASQVSAIGELAFNLGVKNNDGTCKSTSDY...   \n",
       "...                 ...                                                ...   \n",
       "Q00055         0.292011  MSAAADRLNLTSGHLNAGRKRSSSSVSLKAAEKPFKVTVIGSGNWG...   \n",
       "Q00055         0.361558  MSAAADRLNLTSGHLNAGRKRSSSSVSLKAAEKPFKVTVIGSGNWG...   \n",
       "P49626         0.007762  MSRPQVTVHSLTGEATANALPLPAVFSAPIRPDIVHTVFTSVNKNK...   \n",
       "P49626         0.027188  MSRPQVTVHSLTGEATANALPLPAVFSAPIRPDIVHTVFTSVNKNK...   \n",
       "P49626         0.036417  MSRPQVTVHSLTGEATANALPLPAVFSAPIRPDIVHTVFTSVNKNK...   \n",
       "\n",
       "            full_sequence_length  num_pad_tokens  padded_sequence_length  \\\n",
       "Uniprot_ID                                                                 \n",
       "P15703                       313             687                    1000   \n",
       "P15703                       313             687                    1000   \n",
       "P15703                       313             687                    1000   \n",
       "P15703                       313             687                    1000   \n",
       "P15703                       313             687                    1000   \n",
       "...                          ...             ...                     ...   \n",
       "Q00055                       391             609                    1000   \n",
       "Q00055                       391             609                    1000   \n",
       "P49626                       362             638                    1000   \n",
       "P49626                       362             638                    1000   \n",
       "P49626                       362             638                    1000   \n",
       "\n",
       "            expected_padded_length  \\\n",
       "Uniprot_ID                           \n",
       "P15703                        1000   \n",
       "P15703                        1000   \n",
       "P15703                        1000   \n",
       "P15703                        1000   \n",
       "P15703                        1000   \n",
       "...                            ...   \n",
       "Q00055                        1000   \n",
       "Q00055                        1000   \n",
       "P49626                        1000   \n",
       "P49626                        1000   \n",
       "P49626                        1000   \n",
       "\n",
       "                                               full_embedding  \n",
       "Uniprot_ID                                                     \n",
       "P15703      [[0.10360906273126602, -0.04516144096851349, 0...  \n",
       "P15703      [[0.10360906273126602, -0.04516144096851349, 0...  \n",
       "P15703      [[0.10360906273126602, -0.04516144096851349, 0...  \n",
       "P15703      [[0.10360906273126602, -0.04516144096851349, 0...  \n",
       "P15703      [[0.10360906273126602, -0.04516144096851349, 0...  \n",
       "...                                                       ...  \n",
       "Q00055      [[0.06122666597366333, 0.011665030382573605, 0...  \n",
       "Q00055      [[0.06122666597366333, 0.011665030382573605, 0...  \n",
       "P49626      [[0.03739340975880623, 0.008485470898449421, 0...  \n",
       "P49626      [[0.03739340975880623, 0.008485470898449421, 0...  \n",
       "P49626      [[0.03739340975880623, 0.008485470898449421, 0...  \n",
       "\n",
       "[500 rows x 7 columns]"
      ]
     },
     "execution_count": 5,
     "metadata": {},
     "output_type": "execute_result"
    }
   ],
   "source": [
    "embeddings"
   ]
  },
  {
   "cell_type": "code",
   "execution_count": 6,
   "metadata": {},
   "outputs": [],
   "source": [
    "import numpy as np\n",
    "\n",
    "# Creating trimmed embeddings: because of the first and last tokens\n",
    "# (https://www.science.org/doi/suppl/10.1126/science.ade2574/suppl_file/science.ade2574_sm.pdf)\n",
    "# We used BOS and EOS tokens to signal the beginning and end of a real protein, to allow the model to separate a full-sized protein from a cropped one.\n",
    "trimmed_embeddings = [np.array(embedding)[1:-1, :] for embedding in embeddings['full_embedding']]\n",
    "trimmed_embeddings_df = pd.DataFrame({'embeddings': trimmed_embeddings}, index=embeddings.index)"
   ]
  },
  {
   "cell_type": "code",
   "execution_count": 7,
   "metadata": {},
   "outputs": [
    {
     "data": {
      "text/html": [
       "<div>\n",
       "<style scoped>\n",
       "    .dataframe tbody tr th:only-of-type {\n",
       "        vertical-align: middle;\n",
       "    }\n",
       "\n",
       "    .dataframe tbody tr th {\n",
       "        vertical-align: top;\n",
       "    }\n",
       "\n",
       "    .dataframe thead th {\n",
       "        text-align: right;\n",
       "    }\n",
       "</style>\n",
       "<table border=\"1\" class=\"dataframe\">\n",
       "  <thead>\n",
       "    <tr style=\"text-align: right;\">\n",
       "      <th></th>\n",
       "      <th>embeddings</th>\n",
       "    </tr>\n",
       "    <tr>\n",
       "      <th>Uniprot_ID</th>\n",
       "      <th></th>\n",
       "    </tr>\n",
       "  </thead>\n",
       "  <tbody>\n",
       "    <tr>\n",
       "      <th>P15703</th>\n",
       "      <td>[[-0.0004594324855133891, -0.04933467134833336...</td>\n",
       "    </tr>\n",
       "    <tr>\n",
       "      <th>P15703</th>\n",
       "      <td>[[-0.0004594324855133891, -0.04933467134833336...</td>\n",
       "    </tr>\n",
       "    <tr>\n",
       "      <th>P15703</th>\n",
       "      <td>[[-0.0004594324855133891, -0.04933467134833336...</td>\n",
       "    </tr>\n",
       "    <tr>\n",
       "      <th>P15703</th>\n",
       "      <td>[[-0.0004594324855133891, -0.04933467134833336...</td>\n",
       "    </tr>\n",
       "    <tr>\n",
       "      <th>P15703</th>\n",
       "      <td>[[-0.0004594324855133891, -0.04933467134833336...</td>\n",
       "    </tr>\n",
       "  </tbody>\n",
       "</table>\n",
       "</div>"
      ],
      "text/plain": [
       "                                                   embeddings\n",
       "Uniprot_ID                                                   \n",
       "P15703      [[-0.0004594324855133891, -0.04933467134833336...\n",
       "P15703      [[-0.0004594324855133891, -0.04933467134833336...\n",
       "P15703      [[-0.0004594324855133891, -0.04933467134833336...\n",
       "P15703      [[-0.0004594324855133891, -0.04933467134833336...\n",
       "P15703      [[-0.0004594324855133891, -0.04933467134833336..."
      ]
     },
     "execution_count": 7,
     "metadata": {},
     "output_type": "execute_result"
    }
   ],
   "source": [
    "# We can see that we have the trimmed embedings ready to be used\n",
    "trimmed_embeddings_df.head()"
   ]
  },
  {
   "cell_type": "markdown",
   "metadata": {},
   "source": [
    "### Read Binary position data\n",
    "Read generated binary position data and target values from the csv file, that was generated in notebook 1. The data is already ready, which means that the binary position  is already padded to the length of one thousand."
   ]
  },
  {
   "cell_type": "code",
   "execution_count": 8,
   "metadata": {
    "scrolled": true
   },
   "outputs": [
    {
     "data": {
      "text/html": [
       "<div>\n",
       "<style scoped>\n",
       "    .dataframe tbody tr th:only-of-type {\n",
       "        vertical-align: middle;\n",
       "    }\n",
       "\n",
       "    .dataframe tbody tr th {\n",
       "        vertical-align: top;\n",
       "    }\n",
       "\n",
       "    .dataframe thead th {\n",
       "        text-align: right;\n",
       "    }\n",
       "</style>\n",
       "<table border=\"1\" class=\"dataframe\">\n",
       "  <thead>\n",
       "    <tr style=\"text-align: right;\">\n",
       "      <th></th>\n",
       "      <th>Log2FC(LiP_norm)</th>\n",
       "      <th>Padded_Binary_Positions</th>\n",
       "    </tr>\n",
       "    <tr>\n",
       "      <th>Uniprot_ID</th>\n",
       "      <th></th>\n",
       "      <th></th>\n",
       "    </tr>\n",
       "  </thead>\n",
       "  <tbody>\n",
       "    <tr>\n",
       "      <th>P15703</th>\n",
       "      <td>-2.176707</td>\n",
       "      <td>[0, 0, 0, 0, 0, 0, 0, 0, 0, 0, 0, 0, 0, 0, 0, ...</td>\n",
       "    </tr>\n",
       "    <tr>\n",
       "      <th>P15703</th>\n",
       "      <td>0.285029</td>\n",
       "      <td>[0, 0, 0, 0, 0, 0, 0, 0, 0, 0, 0, 0, 0, 0, 0, ...</td>\n",
       "    </tr>\n",
       "    <tr>\n",
       "      <th>P15703</th>\n",
       "      <td>-0.498240</td>\n",
       "      <td>[0, 0, 0, 0, 0, 0, 0, 0, 0, 0, 0, 0, 0, 0, 0, ...</td>\n",
       "    </tr>\n",
       "    <tr>\n",
       "      <th>P15703</th>\n",
       "      <td>0.348193</td>\n",
       "      <td>[0, 0, 0, 0, 0, 0, 0, 0, 0, 0, 0, 0, 0, 0, 0, ...</td>\n",
       "    </tr>\n",
       "    <tr>\n",
       "      <th>P15703</th>\n",
       "      <td>-0.434615</td>\n",
       "      <td>[0, 0, 0, 0, 0, 0, 0, 0, 0, 0, 0, 0, 0, 0, 0, ...</td>\n",
       "    </tr>\n",
       "  </tbody>\n",
       "</table>\n",
       "</div>"
      ],
      "text/plain": [
       "            Log2FC(LiP_norm)  \\\n",
       "Uniprot_ID                     \n",
       "P15703             -2.176707   \n",
       "P15703              0.285029   \n",
       "P15703             -0.498240   \n",
       "P15703              0.348193   \n",
       "P15703             -0.434615   \n",
       "\n",
       "                                      Padded_Binary_Positions  \n",
       "Uniprot_ID                                                     \n",
       "P15703      [0, 0, 0, 0, 0, 0, 0, 0, 0, 0, 0, 0, 0, 0, 0, ...  \n",
       "P15703      [0, 0, 0, 0, 0, 0, 0, 0, 0, 0, 0, 0, 0, 0, 0, ...  \n",
       "P15703      [0, 0, 0, 0, 0, 0, 0, 0, 0, 0, 0, 0, 0, 0, 0, ...  \n",
       "P15703      [0, 0, 0, 0, 0, 0, 0, 0, 0, 0, 0, 0, 0, 0, 0, ...  \n",
       "P15703      [0, 0, 0, 0, 0, 0, 0, 0, 0, 0, 0, 0, 0, 0, 0, ...  "
      ]
     },
     "execution_count": 8,
     "metadata": {},
     "output_type": "execute_result"
    }
   ],
   "source": [
    "# Get the dataset\n",
    "df = pd.read_csv('data/OsmoticStress_with_binary_positions_padded.csv')\n",
    "df['Binary_Positions'] = df['Binary_Positions'].apply(json.loads)\n",
    "df['Padded_Binary_Positions'] = df['Padded_Binary_Positions'].apply(json.loads)\n",
    "df.drop(columns=['full_sequence', 'Peptide_sequence', \"Binary_Positions\"], inplace=True)\n",
    "df.set_index('Uniprot_ID', inplace=True)\n",
    "\n",
    "df.head()"
   ]
  },
  {
   "cell_type": "code",
   "execution_count": 9,
   "metadata": {},
   "outputs": [
    {
     "data": {
      "text/plain": [
       "(28008, 2)"
      ]
     },
     "execution_count": 9,
     "metadata": {},
     "output_type": "execute_result"
    }
   ],
   "source": [
    "df.shape"
   ]
  },
  {
   "cell_type": "markdown",
   "metadata": {},
   "source": [
    "### Prepare training dataset\n",
    "Merge both embeddings and padded binary position together."
   ]
  },
  {
   "cell_type": "code",
   "execution_count": 10,
   "metadata": {},
   "outputs": [
    {
     "name": "stdout",
     "output_type": "stream",
     "text": [
      "(43166, 3)\n"
     ]
    }
   ],
   "source": [
    "dataset = df.merge(trimmed_embeddings_df, left_index=True, right_index=True)\n",
    "\n",
    "# We can see that we have only the columns: 'Lip_norm', 'Binary Position', 'Embeddings'\n",
    "dataset.head()\n",
    "print(dataset.shape)"
   ]
  },
  {
   "cell_type": "code",
   "execution_count": 11,
   "metadata": {},
   "outputs": [],
   "source": [
    "# Reduce data quantity for memory's sake\n",
    "# dataset = dataset[:8000]\n",
    "dataset = dataset.sample(n=5000, random_state=42)"
   ]
  },
  {
   "cell_type": "code",
   "execution_count": 12,
   "metadata": {},
   "outputs": [],
   "source": [
    "dataset = dataset.reset_index()"
   ]
  },
  {
   "cell_type": "code",
   "execution_count": 13,
   "metadata": {},
   "outputs": [],
   "source": [
    "# dataset = dataset[:1000]"
   ]
  },
  {
   "cell_type": "code",
   "execution_count": 14,
   "metadata": {},
   "outputs": [],
   "source": [
    "import torch\n",
    "import numpy as np\n",
    "\n",
    "device = torch.device(\"cuda\" if torch.cuda.is_available() else \"cpu\")\n",
    "\n",
    "peptide_ids = dataset['Uniprot_ID'].unique()\n",
    "np.random.seed(42)\n",
    "np.random.shuffle(peptide_ids)\n"
   ]
  },
  {
   "cell_type": "code",
   "execution_count": 15,
   "metadata": {},
   "outputs": [],
   "source": [
    "# # Assign 80% of peptide IDs to training + validation, 20% to testing\n",
    "# num_train_val_ids = int(0.95 * len(peptide_ids))\n",
    "# train_val_ids = peptide_ids[:num_train_val_ids]\n",
    "# test_ids = peptide_ids[num_train_val_ids:]\n",
    "\n",
    "# # Mask for test dataset\n",
    "# test_mask = dataset['Uniprot_ID'].isin(test_ids)\n",
    "# test_data = dataset.loc[test_mask]\n",
    "\n",
    "# # Remaining data for training and validation\n",
    "# train_val_data = dataset.loc[~test_mask]\n",
    "\n",
    "# # Randomly assign 80% of the train_val_data rows to training, 20% to validation\n",
    "# train_data = train_val_data.sample(frac=0.8, random_state=42)  # Random_state for reproducibility\n",
    "# val_data = train_val_data.drop(train_data.index)\n",
    "\n",
    "# # Output the shapes of the datasets\n",
    "# print(train_data.shape)\n",
    "# print(val_data.shape)\n",
    "# print(test_data.shape)"
   ]
  },
  {
   "cell_type": "code",
   "execution_count": 16,
   "metadata": {},
   "outputs": [],
   "source": [
    "# test_data['Uniprot_ID'].unique()"
   ]
  },
  {
   "cell_type": "code",
   "execution_count": 17,
   "metadata": {},
   "outputs": [],
   "source": [
    "# num_train_ids = int(0.5 * len(peptide_ids))\n",
    "# num_val_ids = int(0.15 * len(peptide_ids))\n",
    "\n",
    "# train_ids = peptide_ids[:num_train_ids]\n",
    "# val_ids = peptide_ids[num_train_ids:num_train_ids + num_val_ids]\n",
    "# test_ids = peptide_ids[num_train_ids + num_val_ids:]\n",
    "\n",
    "# train_mask = dataset['Uniprot_ID'].isin(train_ids)\n",
    "# val_mask = dataset['Uniprot_ID'].isin(val_ids)\n",
    "# test_mask = dataset['Uniprot_ID'].isin(test_ids)\n",
    "\n",
    "# train_data = dataset.loc[train_mask]\n",
    "# val_data = dataset.loc[val_mask]\n",
    "# test_data = dataset.loc[test_mask]\n",
    "\n",
    "# print(train_data.shape)\n",
    "# print(val_data.shape)\n",
    "# print(test_data.shape)\n"
   ]
  },
  {
   "cell_type": "code",
   "execution_count": 18,
   "metadata": {},
   "outputs": [],
   "source": [
    "# train_data.head()\n",
    "\n",
    "# def dataframe_to_tensor(data):\n",
    "#     embeddings_tensor = torch.tensor(np.array(data['embeddings'].tolist(), dtype=np.float16), device=device)\n",
    "#     positions_tensor = torch.tensor(np.array(data['Padded_Binary_Positions'].tolist(), dtype=np.float16), device=device)\n",
    "#     y_tensor = torch.tensor(np.array(data['Log2FC(LiP_norm)'].tolist(), dtype=np.float16))\n",
    "#     return embeddings_tensor, positions_tensor, y_tensor\n",
    "\n",
    "# train_embeddings, train_positions, train_y = dataframe_to_tensor(train_data)\n",
    "# val_embeddings, val_positions, val_y = dataframe_to_tensor(val_data)\n",
    "# test_embeddings, test_positions, test_y = dataframe_to_tensor(test_data)\n",
    "\n",
    "# print(train_embeddings.shape)\n",
    "# print(val_embeddings.shape)\n",
    "# print(test_embeddings.shape)"
   ]
  },
  {
   "cell_type": "code",
   "execution_count": 19,
   "metadata": {},
   "outputs": [],
   "source": [
    "############################################# If shuffle true ##############################################\n",
    "import torch\n",
    "import numpy as np\n",
    "\n",
    "device = torch.device(\"cuda\" if torch.cuda.is_available() else \"cpu\")\n",
    "# Create tensors directly on the GPU\n",
    "embeddings_tensor = torch.tensor(np.array(dataset['embeddings'].tolist(), dtype=np.float16), device=device)\n",
    "binary_positions_tensor = torch.tensor(np.array(dataset['Padded_Binary_Positions'].tolist(), dtype=np.float16), device=device)\n",
    "###############################################################################################################"
   ]
  },
  {
   "cell_type": "code",
   "execution_count": 20,
   "metadata": {},
   "outputs": [
    {
     "name": "stdout",
     "output_type": "stream",
     "text": [
      "embeddings_tensor shape torch.Size([5000, 1000, 1280])\n",
      "binary_positions_tensor shape torch.Size([5000, 1000])\n"
     ]
    }
   ],
   "source": [
    "print(\"embeddings_tensor shape\", embeddings_tensor.shape)\n",
    "print(\"binary_positions_tensor shape\", binary_positions_tensor.shape)"
   ]
  },
  {
   "cell_type": "code",
   "execution_count": 21,
   "metadata": {},
   "outputs": [
    {
     "name": "stdout",
     "output_type": "stream",
     "text": [
      "y shape: torch.Size([5000])\n"
     ]
    }
   ],
   "source": [
    "y = torch.tensor(np.array(dataset['Log2FC(LiP_norm)'].tolist(), dtype=np.float16), device=device)\n",
    "\n",
    "print(\"y shape:\", y.shape)"
   ]
  },
  {
   "cell_type": "markdown",
   "metadata": {},
   "source": [
    "## Model Training\n",
    "Now that we have both input and target data, we can create our model."
   ]
  },
  {
   "cell_type": "code",
   "execution_count": 22,
   "metadata": {},
   "outputs": [
    {
     "name": "stdout",
     "output_type": "stream",
     "text": [
      "1.13.1+cu116\n",
      "cuda\n"
     ]
    }
   ],
   "source": [
    "import torch\n",
    "\n",
    "print(torch.__version__)\n",
    "print(device)"
   ]
  },
  {
   "cell_type": "code",
   "execution_count": 23,
   "metadata": {},
   "outputs": [
    {
     "name": "stderr",
     "output_type": "stream",
     "text": [
      "/data/nasif12/home_if12/l_schewinski/.conda/envs/l-schewinski-tp-2/lib/python3.7/site-packages/ipykernel_launcher.py:13: UserWarning: To copy construct from a tensor, it is recommended to use sourceTensor.clone().detach() or sourceTensor.clone().detach().requires_grad_(True), rather than torch.tensor(sourceTensor).\n",
      "  del sys.path[0]\n",
      "/data/nasif12/home_if12/l_schewinski/.conda/envs/l-schewinski-tp-2/lib/python3.7/site-packages/ipykernel_launcher.py:14: UserWarning: To copy construct from a tensor, it is recommended to use sourceTensor.clone().detach() or sourceTensor.clone().detach().requires_grad_(True), rather than torch.tensor(sourceTensor).\n",
      "  \n",
      "/data/nasif12/home_if12/l_schewinski/.conda/envs/l-schewinski-tp-2/lib/python3.7/site-packages/ipykernel_launcher.py:15: UserWarning: To copy construct from a tensor, it is recommended to use sourceTensor.clone().detach() or sourceTensor.clone().detach().requires_grad_(True), rather than torch.tensor(sourceTensor).\n",
      "  from ipykernel import kernelapp as app\n"
     ]
    }
   ],
   "source": [
    "import torch\n",
    "import torch.nn as nn\n",
    "import torch.optim as optim\n",
    "import copy\n",
    "from torch.utils.data import TensorDataset, DataLoader, random_split, Dataset\n",
    "from torch.cuda.amp import GradScaler, autocast\n",
    "\n",
    "device = torch.device(\"cuda\" if torch.cuda.is_available() else \"cpu\")\n",
    "\n",
    "# Data setup\n",
    "class PeptideDataset(Dataset):\n",
    "    def __init__(self, embeddings, position, y):\n",
    "        self.embeddings = torch.tensor(embeddings, dtype = torch.float16)\n",
    "        self.position = torch.tensor(position, dtype = torch.int64)\n",
    "        self.y = torch.tensor(y, dtype = torch.float16)\n",
    "        \n",
    "    def __len__(self):\n",
    "        return len(self.y)\n",
    "    \n",
    "    def __getitem__(self, index):\n",
    "        x = {\"embeddings\":self.embeddings[index],\n",
    "             \"position\":self.position[index]}\n",
    "        y = self.y[index]\n",
    "        return x, y\n",
    "\n",
    "############################################# If shuffle true ##############################################\n",
    "dataset = PeptideDataset(embeddings_tensor, binary_positions_tensor, y)\n",
    "\n",
    "train_size = int(0.6 * len(dataset))\n",
    "val_size = int(0.2 * len(dataset))\n",
    "test_size = len(dataset) - train_size - val_size\n",
    "\n",
    "train_dataset, val_dataset, test_dataset = random_split(dataset, [train_size, val_size,test_size])\n",
    "############################################################################################################\n",
    "\n",
    "# train_dataset = PeptideDataset(train_embeddings, train_positions, train_y)\n",
    "# val_dataset = PeptideDataset(val_embeddings, val_positions, val_y)\n",
    "# test_dataset = PeptideDataset(test_embeddings, test_positions, test_y)\n"
   ]
  },
  {
   "cell_type": "code",
   "execution_count": 36,
   "metadata": {},
   "outputs": [],
   "source": [
    "batch_size = 16\n",
    "\n",
    "train_loader = DataLoader(train_dataset, batch_size=batch_size, shuffle=True)\n",
    "val_loader = DataLoader(val_dataset, batch_size=batch_size, shuffle=False)\n",
    "test_loader = DataLoader(test_dataset, batch_size=batch_size, shuffle=False)\n",
    "\n",
    "# Model definition\n",
    "class PeptideRegressor(nn.Module):\n",
    "    def __init__(self, input_dim, num_heads, dropout_rate):\n",
    "        super(PeptideRegressor, self).__init__()\n",
    "\n",
    "        self.dropout = nn.Dropout(0.7)\n",
    "        self.fc = torch.nn.Linear(1280, 128)\n",
    "\n",
    "        self.pos_embed = nn.Embedding(2, 1280)\n",
    "        \n",
    "        self.seq_pos_embed = nn.Embedding(1000, 1280)\n",
    "        self.pept_pos_embed = nn.Embedding(2, 1280)\n",
    "        \n",
    "        self.norm = nn.LayerNorm(input_dim)\n",
    "        \n",
    "        encoder_layer = nn.TransformerEncoderLayer(\n",
    "            d_model=input_dim, \n",
    "            nhead=num_heads, \n",
    "            dropout=dropout_rate\n",
    "        )\n",
    "        self.transformer_encoder = nn.TransformerEncoder(encoder_layer, num_layers=1)\n",
    "        \n",
    "        self.pooling = nn.AdaptiveAvgPool1d(1)\n",
    "        self.fc = nn.Linear(input_dim, 1)\n",
    "\n",
    "    def forward(self, x):\n",
    "        positions = x[\"position\"]\n",
    "        x = x[\"embeddings\"] + self.seq_pos_embed(torch.arange(x[\"position\"].size(1), device=device)) + self.pept_pos_embed(x[\"position\"])\n",
    "        x = x.permute(1, 0, 2)\n",
    "\n",
    "        # embed = self. fc(x)\n",
    "        # embed = self.dropout(embed)\n",
    "\n",
    "        transformer_output = self.transformer_encoder(x)\n",
    "        transformer_output = transformer_output.permute(1, 2, 0)\n",
    "        \n",
    "        mask = positions == 1\n",
    "        mask = mask.unsqueeze(1)\n",
    "        peptide_embeddings = transformer_output * mask.float()\n",
    "        pooled = torch.sum(peptide_embeddings, dim=-1)/torch.sum(positions==1,dim=-1).unsqueeze(1)\n",
    "        \n",
    "        \n",
    "        output = self.fc(pooled)\n",
    "        return output"
   ]
  },
  {
   "cell_type": "code",
   "execution_count": 37,
   "metadata": {},
   "outputs": [
    {
     "ename": "AssertionError",
     "evalue": "was expecting embedding dimension of 1280, but got 1",
     "output_type": "error",
     "traceback": [
      "\u001b[0;31m---------------------------------------------------------------------------\u001b[0m",
      "\u001b[0;31mAssertionError\u001b[0m                            Traceback (most recent call last)",
      "\u001b[0;32m/scratch/tmp/l_schewinski/ipykernel_3914723/2655770837.py\u001b[0m in \u001b[0;36m<module>\u001b[0;34m\u001b[0m\n\u001b[1;32m     32\u001b[0m \u001b[0;34m\u001b[0m\u001b[0m\n\u001b[1;32m     33\u001b[0m     \u001b[0;32mwith\u001b[0m \u001b[0mautocast\u001b[0m\u001b[0;34m(\u001b[0m\u001b[0;34m)\u001b[0m\u001b[0;34m:\u001b[0m\u001b[0;34m\u001b[0m\u001b[0;34m\u001b[0m\u001b[0m\n\u001b[0;32m---> 34\u001b[0;31m         \u001b[0my_pred\u001b[0m \u001b[0;34m=\u001b[0m \u001b[0mmodel\u001b[0m\u001b[0;34m(\u001b[0m\u001b[0msingle_batch_X\u001b[0m\u001b[0;34m)\u001b[0m\u001b[0;34m\u001b[0m\u001b[0;34m\u001b[0m\u001b[0m\n\u001b[0m\u001b[1;32m     35\u001b[0m         \u001b[0mloss\u001b[0m \u001b[0;34m=\u001b[0m \u001b[0mloss_fn\u001b[0m\u001b[0;34m(\u001b[0m\u001b[0my_pred\u001b[0m\u001b[0;34m,\u001b[0m \u001b[0msingle_batch_y\u001b[0m\u001b[0;34m.\u001b[0m\u001b[0munsqueeze\u001b[0m\u001b[0;34m(\u001b[0m\u001b[0;36m1\u001b[0m\u001b[0;34m)\u001b[0m\u001b[0;34m)\u001b[0m\u001b[0;34m\u001b[0m\u001b[0;34m\u001b[0m\u001b[0m\n\u001b[1;32m     36\u001b[0m \u001b[0;34m\u001b[0m\u001b[0m\n",
      "\u001b[0;32m~/.conda/envs/l-schewinski-tp-2/lib/python3.7/site-packages/torch/nn/modules/module.py\u001b[0m in \u001b[0;36m_call_impl\u001b[0;34m(self, *input, **kwargs)\u001b[0m\n\u001b[1;32m   1192\u001b[0m         if not (self._backward_hooks or self._forward_hooks or self._forward_pre_hooks or _global_backward_hooks\n\u001b[1;32m   1193\u001b[0m                 or _global_forward_hooks or _global_forward_pre_hooks):\n\u001b[0;32m-> 1194\u001b[0;31m             \u001b[0;32mreturn\u001b[0m \u001b[0mforward_call\u001b[0m\u001b[0;34m(\u001b[0m\u001b[0;34m*\u001b[0m\u001b[0minput\u001b[0m\u001b[0;34m,\u001b[0m \u001b[0;34m**\u001b[0m\u001b[0mkwargs\u001b[0m\u001b[0;34m)\u001b[0m\u001b[0;34m\u001b[0m\u001b[0;34m\u001b[0m\u001b[0m\n\u001b[0m\u001b[1;32m   1195\u001b[0m         \u001b[0;31m# Do not call functions when jit is used\u001b[0m\u001b[0;34m\u001b[0m\u001b[0;34m\u001b[0m\u001b[0;34m\u001b[0m\u001b[0m\n\u001b[1;32m   1196\u001b[0m         \u001b[0mfull_backward_hooks\u001b[0m\u001b[0;34m,\u001b[0m \u001b[0mnon_full_backward_hooks\u001b[0m \u001b[0;34m=\u001b[0m \u001b[0;34m[\u001b[0m\u001b[0;34m]\u001b[0m\u001b[0;34m,\u001b[0m \u001b[0;34m[\u001b[0m\u001b[0;34m]\u001b[0m\u001b[0;34m\u001b[0m\u001b[0;34m\u001b[0m\u001b[0m\n",
      "\u001b[0;32m/scratch/tmp/l_schewinski/ipykernel_3914723/1709495760.py\u001b[0m in \u001b[0;36mforward\u001b[0;34m(self, x)\u001b[0m\n\u001b[1;32m     39\u001b[0m         \u001b[0membed\u001b[0m \u001b[0;34m=\u001b[0m \u001b[0mself\u001b[0m\u001b[0;34m.\u001b[0m\u001b[0mdropout\u001b[0m\u001b[0;34m(\u001b[0m\u001b[0membed\u001b[0m\u001b[0;34m)\u001b[0m\u001b[0;34m\u001b[0m\u001b[0;34m\u001b[0m\u001b[0m\n\u001b[1;32m     40\u001b[0m \u001b[0;34m\u001b[0m\u001b[0m\n\u001b[0;32m---> 41\u001b[0;31m         \u001b[0mtransformer_output\u001b[0m \u001b[0;34m=\u001b[0m \u001b[0mself\u001b[0m\u001b[0;34m.\u001b[0m\u001b[0mtransformer_encoder\u001b[0m\u001b[0;34m(\u001b[0m\u001b[0membed\u001b[0m\u001b[0;34m)\u001b[0m\u001b[0;34m\u001b[0m\u001b[0;34m\u001b[0m\u001b[0m\n\u001b[0m\u001b[1;32m     42\u001b[0m         \u001b[0mtransformer_output\u001b[0m \u001b[0;34m=\u001b[0m \u001b[0mtransformer_output\u001b[0m\u001b[0;34m.\u001b[0m\u001b[0mpermute\u001b[0m\u001b[0;34m(\u001b[0m\u001b[0;36m1\u001b[0m\u001b[0;34m,\u001b[0m \u001b[0;36m2\u001b[0m\u001b[0;34m,\u001b[0m \u001b[0;36m0\u001b[0m\u001b[0;34m)\u001b[0m\u001b[0;34m\u001b[0m\u001b[0;34m\u001b[0m\u001b[0m\n\u001b[1;32m     43\u001b[0m \u001b[0;34m\u001b[0m\u001b[0m\n",
      "\u001b[0;32m~/.conda/envs/l-schewinski-tp-2/lib/python3.7/site-packages/torch/nn/modules/module.py\u001b[0m in \u001b[0;36m_call_impl\u001b[0;34m(self, *input, **kwargs)\u001b[0m\n\u001b[1;32m   1192\u001b[0m         if not (self._backward_hooks or self._forward_hooks or self._forward_pre_hooks or _global_backward_hooks\n\u001b[1;32m   1193\u001b[0m                 or _global_forward_hooks or _global_forward_pre_hooks):\n\u001b[0;32m-> 1194\u001b[0;31m             \u001b[0;32mreturn\u001b[0m \u001b[0mforward_call\u001b[0m\u001b[0;34m(\u001b[0m\u001b[0;34m*\u001b[0m\u001b[0minput\u001b[0m\u001b[0;34m,\u001b[0m \u001b[0;34m**\u001b[0m\u001b[0mkwargs\u001b[0m\u001b[0;34m)\u001b[0m\u001b[0;34m\u001b[0m\u001b[0;34m\u001b[0m\u001b[0m\n\u001b[0m\u001b[1;32m   1195\u001b[0m         \u001b[0;31m# Do not call functions when jit is used\u001b[0m\u001b[0;34m\u001b[0m\u001b[0;34m\u001b[0m\u001b[0;34m\u001b[0m\u001b[0m\n\u001b[1;32m   1196\u001b[0m         \u001b[0mfull_backward_hooks\u001b[0m\u001b[0;34m,\u001b[0m \u001b[0mnon_full_backward_hooks\u001b[0m \u001b[0;34m=\u001b[0m \u001b[0;34m[\u001b[0m\u001b[0;34m]\u001b[0m\u001b[0;34m,\u001b[0m \u001b[0;34m[\u001b[0m\u001b[0;34m]\u001b[0m\u001b[0;34m\u001b[0m\u001b[0;34m\u001b[0m\u001b[0m\n",
      "\u001b[0;32m~/.conda/envs/l-schewinski-tp-2/lib/python3.7/site-packages/torch/nn/modules/transformer.py\u001b[0m in \u001b[0;36mforward\u001b[0;34m(self, src, mask, src_key_padding_mask)\u001b[0m\n\u001b[1;32m    278\u001b[0m \u001b[0;34m\u001b[0m\u001b[0m\n\u001b[1;32m    279\u001b[0m         \u001b[0;32mfor\u001b[0m \u001b[0mmod\u001b[0m \u001b[0;32min\u001b[0m \u001b[0mself\u001b[0m\u001b[0;34m.\u001b[0m\u001b[0mlayers\u001b[0m\u001b[0;34m:\u001b[0m\u001b[0;34m\u001b[0m\u001b[0;34m\u001b[0m\u001b[0m\n\u001b[0;32m--> 280\u001b[0;31m             \u001b[0moutput\u001b[0m \u001b[0;34m=\u001b[0m \u001b[0mmod\u001b[0m\u001b[0;34m(\u001b[0m\u001b[0moutput\u001b[0m\u001b[0;34m,\u001b[0m \u001b[0msrc_mask\u001b[0m\u001b[0;34m=\u001b[0m\u001b[0mmask\u001b[0m\u001b[0;34m,\u001b[0m \u001b[0msrc_key_padding_mask\u001b[0m\u001b[0;34m=\u001b[0m\u001b[0msrc_key_padding_mask_for_layers\u001b[0m\u001b[0;34m)\u001b[0m\u001b[0;34m\u001b[0m\u001b[0;34m\u001b[0m\u001b[0m\n\u001b[0m\u001b[1;32m    281\u001b[0m \u001b[0;34m\u001b[0m\u001b[0m\n\u001b[1;32m    282\u001b[0m         \u001b[0;32mif\u001b[0m \u001b[0mconvert_to_nested\u001b[0m\u001b[0;34m:\u001b[0m\u001b[0;34m\u001b[0m\u001b[0;34m\u001b[0m\u001b[0m\n",
      "\u001b[0;32m~/.conda/envs/l-schewinski-tp-2/lib/python3.7/site-packages/torch/nn/modules/module.py\u001b[0m in \u001b[0;36m_call_impl\u001b[0;34m(self, *input, **kwargs)\u001b[0m\n\u001b[1;32m   1192\u001b[0m         if not (self._backward_hooks or self._forward_hooks or self._forward_pre_hooks or _global_backward_hooks\n\u001b[1;32m   1193\u001b[0m                 or _global_forward_hooks or _global_forward_pre_hooks):\n\u001b[0;32m-> 1194\u001b[0;31m             \u001b[0;32mreturn\u001b[0m \u001b[0mforward_call\u001b[0m\u001b[0;34m(\u001b[0m\u001b[0;34m*\u001b[0m\u001b[0minput\u001b[0m\u001b[0;34m,\u001b[0m \u001b[0;34m**\u001b[0m\u001b[0mkwargs\u001b[0m\u001b[0;34m)\u001b[0m\u001b[0;34m\u001b[0m\u001b[0;34m\u001b[0m\u001b[0m\n\u001b[0m\u001b[1;32m   1195\u001b[0m         \u001b[0;31m# Do not call functions when jit is used\u001b[0m\u001b[0;34m\u001b[0m\u001b[0;34m\u001b[0m\u001b[0;34m\u001b[0m\u001b[0m\n\u001b[1;32m   1196\u001b[0m         \u001b[0mfull_backward_hooks\u001b[0m\u001b[0;34m,\u001b[0m \u001b[0mnon_full_backward_hooks\u001b[0m \u001b[0;34m=\u001b[0m \u001b[0;34m[\u001b[0m\u001b[0;34m]\u001b[0m\u001b[0;34m,\u001b[0m \u001b[0;34m[\u001b[0m\u001b[0;34m]\u001b[0m\u001b[0;34m\u001b[0m\u001b[0;34m\u001b[0m\u001b[0m\n",
      "\u001b[0;32m~/.conda/envs/l-schewinski-tp-2/lib/python3.7/site-packages/torch/nn/modules/transformer.py\u001b[0m in \u001b[0;36mforward\u001b[0;34m(self, src, src_mask, src_key_padding_mask)\u001b[0m\n\u001b[1;32m    536\u001b[0m             \u001b[0mx\u001b[0m \u001b[0;34m=\u001b[0m \u001b[0mx\u001b[0m \u001b[0;34m+\u001b[0m \u001b[0mself\u001b[0m\u001b[0;34m.\u001b[0m\u001b[0m_ff_block\u001b[0m\u001b[0;34m(\u001b[0m\u001b[0mself\u001b[0m\u001b[0;34m.\u001b[0m\u001b[0mnorm2\u001b[0m\u001b[0;34m(\u001b[0m\u001b[0mx\u001b[0m\u001b[0;34m)\u001b[0m\u001b[0;34m)\u001b[0m\u001b[0;34m\u001b[0m\u001b[0;34m\u001b[0m\u001b[0m\n\u001b[1;32m    537\u001b[0m         \u001b[0;32melse\u001b[0m\u001b[0;34m:\u001b[0m\u001b[0;34m\u001b[0m\u001b[0;34m\u001b[0m\u001b[0m\n\u001b[0;32m--> 538\u001b[0;31m             \u001b[0mx\u001b[0m \u001b[0;34m=\u001b[0m \u001b[0mself\u001b[0m\u001b[0;34m.\u001b[0m\u001b[0mnorm1\u001b[0m\u001b[0;34m(\u001b[0m\u001b[0mx\u001b[0m \u001b[0;34m+\u001b[0m \u001b[0mself\u001b[0m\u001b[0;34m.\u001b[0m\u001b[0m_sa_block\u001b[0m\u001b[0;34m(\u001b[0m\u001b[0mx\u001b[0m\u001b[0;34m,\u001b[0m \u001b[0msrc_mask\u001b[0m\u001b[0;34m,\u001b[0m \u001b[0msrc_key_padding_mask\u001b[0m\u001b[0;34m)\u001b[0m\u001b[0;34m)\u001b[0m\u001b[0;34m\u001b[0m\u001b[0;34m\u001b[0m\u001b[0m\n\u001b[0m\u001b[1;32m    539\u001b[0m             \u001b[0mx\u001b[0m \u001b[0;34m=\u001b[0m \u001b[0mself\u001b[0m\u001b[0;34m.\u001b[0m\u001b[0mnorm2\u001b[0m\u001b[0;34m(\u001b[0m\u001b[0mx\u001b[0m \u001b[0;34m+\u001b[0m \u001b[0mself\u001b[0m\u001b[0;34m.\u001b[0m\u001b[0m_ff_block\u001b[0m\u001b[0;34m(\u001b[0m\u001b[0mx\u001b[0m\u001b[0;34m)\u001b[0m\u001b[0;34m)\u001b[0m\u001b[0;34m\u001b[0m\u001b[0;34m\u001b[0m\u001b[0m\n\u001b[1;32m    540\u001b[0m \u001b[0;34m\u001b[0m\u001b[0m\n",
      "\u001b[0;32m~/.conda/envs/l-schewinski-tp-2/lib/python3.7/site-packages/torch/nn/modules/transformer.py\u001b[0m in \u001b[0;36m_sa_block\u001b[0;34m(self, x, attn_mask, key_padding_mask)\u001b[0m\n\u001b[1;32m    547\u001b[0m                            \u001b[0mattn_mask\u001b[0m\u001b[0;34m=\u001b[0m\u001b[0mattn_mask\u001b[0m\u001b[0;34m,\u001b[0m\u001b[0;34m\u001b[0m\u001b[0;34m\u001b[0m\u001b[0m\n\u001b[1;32m    548\u001b[0m                            \u001b[0mkey_padding_mask\u001b[0m\u001b[0;34m=\u001b[0m\u001b[0mkey_padding_mask\u001b[0m\u001b[0;34m,\u001b[0m\u001b[0;34m\u001b[0m\u001b[0;34m\u001b[0m\u001b[0m\n\u001b[0;32m--> 549\u001b[0;31m                            need_weights=False)[0]\n\u001b[0m\u001b[1;32m    550\u001b[0m         \u001b[0;32mreturn\u001b[0m \u001b[0mself\u001b[0m\u001b[0;34m.\u001b[0m\u001b[0mdropout1\u001b[0m\u001b[0;34m(\u001b[0m\u001b[0mx\u001b[0m\u001b[0;34m)\u001b[0m\u001b[0;34m\u001b[0m\u001b[0;34m\u001b[0m\u001b[0m\n\u001b[1;32m    551\u001b[0m \u001b[0;34m\u001b[0m\u001b[0m\n",
      "\u001b[0;32m~/.conda/envs/l-schewinski-tp-2/lib/python3.7/site-packages/torch/nn/modules/module.py\u001b[0m in \u001b[0;36m_call_impl\u001b[0;34m(self, *input, **kwargs)\u001b[0m\n\u001b[1;32m   1192\u001b[0m         if not (self._backward_hooks or self._forward_hooks or self._forward_pre_hooks or _global_backward_hooks\n\u001b[1;32m   1193\u001b[0m                 or _global_forward_hooks or _global_forward_pre_hooks):\n\u001b[0;32m-> 1194\u001b[0;31m             \u001b[0;32mreturn\u001b[0m \u001b[0mforward_call\u001b[0m\u001b[0;34m(\u001b[0m\u001b[0;34m*\u001b[0m\u001b[0minput\u001b[0m\u001b[0;34m,\u001b[0m \u001b[0;34m**\u001b[0m\u001b[0mkwargs\u001b[0m\u001b[0;34m)\u001b[0m\u001b[0;34m\u001b[0m\u001b[0;34m\u001b[0m\u001b[0m\n\u001b[0m\u001b[1;32m   1195\u001b[0m         \u001b[0;31m# Do not call functions when jit is used\u001b[0m\u001b[0;34m\u001b[0m\u001b[0;34m\u001b[0m\u001b[0;34m\u001b[0m\u001b[0m\n\u001b[1;32m   1196\u001b[0m         \u001b[0mfull_backward_hooks\u001b[0m\u001b[0;34m,\u001b[0m \u001b[0mnon_full_backward_hooks\u001b[0m \u001b[0;34m=\u001b[0m \u001b[0;34m[\u001b[0m\u001b[0;34m]\u001b[0m\u001b[0;34m,\u001b[0m \u001b[0;34m[\u001b[0m\u001b[0;34m]\u001b[0m\u001b[0;34m\u001b[0m\u001b[0;34m\u001b[0m\u001b[0m\n",
      "\u001b[0;32m~/.conda/envs/l-schewinski-tp-2/lib/python3.7/site-packages/torch/nn/modules/activation.py\u001b[0m in \u001b[0;36mforward\u001b[0;34m(self, query, key, value, key_padding_mask, need_weights, attn_mask, average_attn_weights)\u001b[0m\n\u001b[1;32m   1172\u001b[0m                 \u001b[0mtraining\u001b[0m\u001b[0;34m=\u001b[0m\u001b[0mself\u001b[0m\u001b[0;34m.\u001b[0m\u001b[0mtraining\u001b[0m\u001b[0;34m,\u001b[0m\u001b[0;34m\u001b[0m\u001b[0;34m\u001b[0m\u001b[0m\n\u001b[1;32m   1173\u001b[0m                 \u001b[0mkey_padding_mask\u001b[0m\u001b[0;34m=\u001b[0m\u001b[0mkey_padding_mask\u001b[0m\u001b[0;34m,\u001b[0m \u001b[0mneed_weights\u001b[0m\u001b[0;34m=\u001b[0m\u001b[0mneed_weights\u001b[0m\u001b[0;34m,\u001b[0m\u001b[0;34m\u001b[0m\u001b[0;34m\u001b[0m\u001b[0m\n\u001b[0;32m-> 1174\u001b[0;31m                 attn_mask=attn_mask, average_attn_weights=average_attn_weights)\n\u001b[0m\u001b[1;32m   1175\u001b[0m         \u001b[0;32mif\u001b[0m \u001b[0mself\u001b[0m\u001b[0;34m.\u001b[0m\u001b[0mbatch_first\u001b[0m \u001b[0;32mand\u001b[0m \u001b[0mis_batched\u001b[0m\u001b[0;34m:\u001b[0m\u001b[0;34m\u001b[0m\u001b[0;34m\u001b[0m\u001b[0m\n\u001b[1;32m   1176\u001b[0m             \u001b[0;32mreturn\u001b[0m \u001b[0mattn_output\u001b[0m\u001b[0;34m.\u001b[0m\u001b[0mtranspose\u001b[0m\u001b[0;34m(\u001b[0m\u001b[0;36m1\u001b[0m\u001b[0;34m,\u001b[0m \u001b[0;36m0\u001b[0m\u001b[0;34m)\u001b[0m\u001b[0;34m,\u001b[0m \u001b[0mattn_output_weights\u001b[0m\u001b[0;34m\u001b[0m\u001b[0;34m\u001b[0m\u001b[0m\n",
      "\u001b[0;32m~/.conda/envs/l-schewinski-tp-2/lib/python3.7/site-packages/torch/nn/functional.py\u001b[0m in \u001b[0;36mmulti_head_attention_forward\u001b[0;34m(query, key, value, embed_dim_to_check, num_heads, in_proj_weight, in_proj_bias, bias_k, bias_v, add_zero_attn, dropout_p, out_proj_weight, out_proj_bias, training, key_padding_mask, need_weights, attn_mask, use_separate_proj_weight, q_proj_weight, k_proj_weight, v_proj_weight, static_k, static_v, average_attn_weights)\u001b[0m\n\u001b[1;32m   5025\u001b[0m                 \"only bool and floating types of key_padding_mask are supported\")\n\u001b[1;32m   5026\u001b[0m     \u001b[0;32massert\u001b[0m \u001b[0membed_dim\u001b[0m \u001b[0;34m==\u001b[0m \u001b[0membed_dim_to_check\u001b[0m\u001b[0;34m,\u001b[0m\u001b[0;31m \u001b[0m\u001b[0;31m\\\u001b[0m\u001b[0;34m\u001b[0m\u001b[0;34m\u001b[0m\u001b[0m\n\u001b[0;32m-> 5027\u001b[0;31m         \u001b[0;34mf\"was expecting embedding dimension of {embed_dim_to_check}, but got {embed_dim}\"\u001b[0m\u001b[0;34m\u001b[0m\u001b[0;34m\u001b[0m\u001b[0m\n\u001b[0m\u001b[1;32m   5028\u001b[0m     \u001b[0;32mif\u001b[0m \u001b[0misinstance\u001b[0m\u001b[0;34m(\u001b[0m\u001b[0membed_dim\u001b[0m\u001b[0;34m,\u001b[0m \u001b[0mtorch\u001b[0m\u001b[0;34m.\u001b[0m\u001b[0mTensor\u001b[0m\u001b[0;34m)\u001b[0m\u001b[0;34m:\u001b[0m\u001b[0;34m\u001b[0m\u001b[0;34m\u001b[0m\u001b[0m\n\u001b[1;32m   5029\u001b[0m         \u001b[0;31m# embed_dim can be a tensor when JIT tracing\u001b[0m\u001b[0;34m\u001b[0m\u001b[0;34m\u001b[0m\u001b[0;34m\u001b[0m\u001b[0m\n",
      "\u001b[0;31mAssertionError\u001b[0m: was expecting embedding dimension of 1280, but got 1"
     ]
    }
   ],
   "source": [
    "import matplotlib.pyplot as plt\n",
    "\n",
    "model = PeptideRegressor(input_dim=1280, num_heads=16, dropout_rate=0)\n",
    "model = model.to(device)\n",
    "\n",
    "loss_fn = nn.MSELoss()\n",
    "# optimizer = optim.Adam(model.parameters(), lr=0.0005) #, weight_decay=1e-3)\n",
    "optimizer = optim.AdamW(model.parameters(), lr=0.0005, weight_decay=1e-5)\n",
    "\n",
    "scaler = GradScaler()\n",
    "\n",
    "# Training settings\n",
    "n_epochs = 150\n",
    "best_val_loss = float('inf')\n",
    "train_losses_avg = []\n",
    "val_losses_avg = []\n",
    "\n",
    "single_batch_X, single_batch_y = next(iter(train_loader))\n",
    "for k, v in single_batch_X.items():\n",
    "    single_batch_X[k] = v.to(device, non_blocking=True)\n",
    "single_batch_y = single_batch_y.to(device, non_blocking=True)\n",
    "\n",
    "predictions = []\n",
    "actuals = []\n",
    "\n",
    "# Training loop using a single batch for overfitting check\n",
    "for epoch in range(n_epochs):\n",
    "    model.train()\n",
    "    train_losses = []\n",
    "\n",
    "    optimizer.zero_grad()\n",
    "\n",
    "    with autocast():\n",
    "        y_pred = model(single_batch_X)\n",
    "        loss = loss_fn(y_pred, single_batch_y.unsqueeze(1))\n",
    "\n",
    "    loss.backward()\n",
    "    optimizer.step()\n",
    "\n",
    "    train_losses.append(loss.item())\n",
    "\n",
    "    train_loss_avg = sum(train_losses) / len(train_losses)\n",
    "\n",
    "    mean_pred = y_pred.detach().cpu().numpy().mean()\n",
    "    mean_actual = single_batch_y.detach().cpu().numpy().mean()\n",
    "    predictions.append(mean_pred)\n",
    "    actuals.append(mean_actual)\n",
    "    print(f'Epoch {epoch+1}, Train Loss: {train_loss_avg}')\n",
    "\n",
    "predictions_plot = predictions[-10:]\n",
    "actuals_plot = actuals[-10:]\n",
    "\n",
    "print(actuals_plot)\n",
    "print(predictions_plot)\n",
    "\n",
    "fig, ax = plt.subplots(figsize=(10, 6))\n",
    "ax.scatter(predictions_plot, actuals_plot, alpha=0.5, color='blue')\n",
    "ax.set_xlabel('Predicted Values')\n",
    "ax.set_ylabel('Actual Values')\n",
    "ax.set_title('Predicted vs Actual Values')\n",
    "\n",
    "plt.show()"
   ]
  },
  {
   "cell_type": "code",
   "execution_count": 34,
   "metadata": {
    "scrolled": true
   },
   "outputs": [
    {
     "name": "stdout",
     "output_type": "stream",
     "text": [
      "Epoch 1, Train Loss: 1.0492496023628306\n",
      "Epoch 1, Val MSE: 0.3582429389158885\n",
      "Epoch 2, Train Loss: 0.3573933866350575\n",
      "Epoch 2, Val MSE: 0.3108140432408878\n",
      "Epoch 3, Train Loss: 0.2824684396742823\n",
      "Epoch 3, Val MSE: 0.30430161704619724\n",
      "Epoch 4, Train Loss: 0.273677241453465\n",
      "Epoch 4, Val MSE: 0.28252140645469936\n",
      "Epoch 5, Train Loss: 0.27750394632049064\n",
      "Epoch 5, Val MSE: 0.221521166463693\n",
      "Epoch 6, Train Loss: 0.23257678715472527\n",
      "Epoch 6, Val MSE: 0.23066192025703097\n",
      "Epoch 7, Train Loss: 0.23332574355237662\n",
      "Epoch 7, Val MSE: 0.23561793672186987\n",
      "Epoch 8, Train Loss: 0.23182401780356118\n",
      "Epoch 8, Val MSE: 0.21206849369974362\n",
      "Epoch 9, Train Loss: 0.22849466164219887\n",
      "Epoch 9, Val MSE: 0.2012019179879673\n",
      "Epoch 10, Train Loss: 0.1972121894161435\n",
      "Epoch 10, Val MSE: 0.21160725545552042\n",
      "Epoch 11, Train Loss: 0.20365998692850165\n",
      "Epoch 11, Val MSE: 0.17431577162018844\n",
      "Epoch 12, Train Loss: 0.19881390990253459\n",
      "Epoch 12, Val MSE: 0.2539652120026331\n",
      "Epoch 13, Train Loss: 0.20010629440955024\n",
      "Epoch 13, Val MSE: 0.17593399192842227\n",
      "Epoch 14, Train Loss: 0.17914552077096194\n",
      "Epoch 14, Val MSE: 0.19267991528151526\n",
      "Epoch 15, Train Loss: 0.1526081320591905\n",
      "Epoch 15, Val MSE: 0.16681780766636606\n",
      "Epoch 16, Train Loss: 0.15544152527334207\n",
      "Epoch 16, Val MSE: 0.12764636459686454\n",
      "Epoch 17, Train Loss: 0.11710423765149205\n",
      "Epoch 17, Val MSE: 0.12135175056755543\n",
      "Epoch 18, Train Loss: 0.10052252583641638\n",
      "Epoch 18, Val MSE: 0.11083563083102779\n",
      "Epoch 19, Train Loss: 0.14399885946012875\n",
      "Epoch 19, Val MSE: 0.168850435032731\n",
      "Epoch 20, Train Loss: 0.13154090670472446\n",
      "Epoch 20, Val MSE: 0.09634116532961054\n",
      "Epoch 21, Train Loss: 0.09496578071860874\n",
      "Epoch 21, Val MSE: 0.1079434369439407\n",
      "Epoch 22, Train Loss: 0.10269358737810337\n",
      "Epoch 22, Val MSE: 0.15386026042203108\n",
      "Epoch 23, Train Loss: 0.09077342543651924\n",
      "Epoch 23, Val MSE: 0.09579833085456538\n",
      "Epoch 24, Train Loss: 0.08069035303878024\n",
      "Epoch 24, Val MSE: 0.1272377652071771\n",
      "Epoch 25, Train Loss: 0.08860287267932708\n",
      "Epoch 25, Val MSE: 0.10767291243823748\n",
      "Epoch 26, Train Loss: 0.07829155482133811\n",
      "Epoch 26, Val MSE: 0.09405867181836612\n",
      "Epoch 27, Train Loss: 0.07595655902665346\n",
      "Epoch 27, Val MSE: 0.07617215464808165\n",
      "Epoch 28, Train Loss: 0.07849289978200451\n",
      "Epoch 28, Val MSE: 0.10250115767121315\n",
      "Epoch 29, Train Loss: 0.07027897321955955\n",
      "Epoch 29, Val MSE: 0.15483818853658343\n",
      "Epoch 30, Train Loss: 0.06901168677599188\n",
      "Epoch 30, Val MSE: 0.07455353552682532\n"
     ]
    }
   ],
   "source": [
    "model = PeptideRegressor(input_dim=1280, num_heads=8, dropout_rate=0.1)\n",
    "model = model.to(device)\n",
    "\n",
    "loss_fn = nn.MSELoss()\n",
    "optimizer = optim.Adam(model.parameters(), lr=0.0005, weight_decay=1e-3)\n",
    "\n",
    "scaler = GradScaler()\n",
    "\n",
    "# Training settings\n",
    "n_epochs = 30\n",
    "best_val_loss = float('inf')\n",
    "train_losses_avg = []\n",
    "val_losses_avg = []\n",
    "\n",
    "# Training loop\n",
    "for epoch in range(n_epochs):\n",
    "    model.train()\n",
    "    train_losses = []\n",
    "    for X_batch, y_batch in train_loader:\n",
    "        for k, v in X_batch.items():\n",
    "            X_batch[k] = v.to(device, non_blocking=True)\n",
    "        y_batch = y_batch.to(device, non_blocking=True)\n",
    "\n",
    "        optimizer.zero_grad()\n",
    "\n",
    "        with autocast():\n",
    "            y_pred = model(X_batch)\n",
    "            loss = loss_fn(y_pred, y_batch.unsqueeze(1))\n",
    "\n",
    "        loss.backward()\n",
    "        optimizer.step()\n",
    "\n",
    "        train_losses.append(loss.item())\n",
    "\n",
    "    train_losses_avg.append(sum(train_losses) / len(train_losses))\n",
    "    print(f'Epoch {epoch+1}, Train Loss: {train_losses_avg[-1]}')\n",
    "\n",
    "    model.eval()\n",
    "    val_losses = []\n",
    "    for X_batch, y_batch in val_loader:\n",
    "        for k, v in X_batch.items():\n",
    "            X_batch[k] = v.to(device, non_blocking=True)\n",
    "        y_batch = y_batch.to(device, non_blocking=True)\n",
    "\n",
    "        with torch.no_grad(), autocast():\n",
    "            y_pred = model(X_batch)\n",
    "            mse = loss_fn(y_pred, y_batch.unsqueeze(1))\n",
    "            val_losses.append(mse.item())\n",
    "\n",
    "    avg_val_loss = sum(val_losses) / len(val_losses)\n",
    "    val_losses_avg.append(avg_val_loss)\n",
    "    print(f'Epoch {epoch+1}, Val MSE: {avg_val_loss}')\n",
    "    if avg_val_loss < best_val_loss:\n",
    "        best_val_loss = avg_val_loss\n",
    "        best_model = copy.deepcopy(model.state_dict())\n",
    "\n",
    "torch.save({\n",
    "    'model_state_dict': best_model,\n",
    "}, 'best_peptide_model.pth')"
   ]
  },
  {
   "cell_type": "code",
   "execution_count": 35,
   "metadata": {},
   "outputs": [
    {
     "data": {
      "image/png": "[encoded data removed]",
      "text/plain": [
       "<Figure size 640x480 with 1 Axes>"
      ]
     },
     "metadata": {},
     "output_type": "display_data"
    }
   ],
   "source": [
    "# # Visualize the training process\n",
    "import matplotlib.pyplot as plt\n",
    "\n",
    "plt.plot(train_losses_avg[1:], label='Train Loss')\n",
    "plt.plot(val_losses_avg[1:], label='Val Loss')\n",
    "plt.legend()\n",
    "plt.show()\n"
   ]
  },
  {
   "cell_type": "code",
   "execution_count": 28,
   "metadata": {},
   "outputs": [
    {
     "name": "stdout",
     "output_type": "stream",
     "text": [
      "Model Summary:\n",
      "Layer Name                                         Shape                          Parameters      Trainable      \n",
      "--------------------------------------------------------------------------------------------------------------\n",
      "pos_embed.weight                                   torch.Size([2, 1280])          2560            2560           \n",
      "seq_pos_embed.weight                               torch.Size([1000, 1280])       1280000         1280000        \n",
      "pept_pos_embed.weight                              torch.Size([2, 1280])          2560            2560           \n",
      "norm.weight                                        torch.Size([1280])             1280            1280           \n",
      "norm.bias                                          torch.Size([1280])             1280            1280           \n",
      "transformer_encoder.layers.0.self_attn.in_proj_weight torch.Size([3840, 1280])       4915200         4915200        \n",
      "transformer_encoder.layers.0.self_attn.in_proj_bias torch.Size([3840])             3840            3840           \n",
      "transformer_encoder.layers.0.self_attn.out_proj.weight torch.Size([1280, 1280])       1638400         1638400        \n",
      "transformer_encoder.layers.0.self_attn.out_proj.bias torch.Size([1280])             1280            1280           \n",
      "transformer_encoder.layers.0.linear1.weight        torch.Size([2048, 1280])       2621440         2621440        \n",
      "transformer_encoder.layers.0.linear1.bias          torch.Size([2048])             2048            2048           \n",
      "transformer_encoder.layers.0.linear2.weight        torch.Size([1280, 2048])       2621440         2621440        \n",
      "transformer_encoder.layers.0.linear2.bias          torch.Size([1280])             1280            1280           \n",
      "transformer_encoder.layers.0.norm1.weight          torch.Size([1280])             1280            1280           \n",
      "transformer_encoder.layers.0.norm1.bias            torch.Size([1280])             1280            1280           \n",
      "transformer_encoder.layers.0.norm2.weight          torch.Size([1280])             1280            1280           \n",
      "transformer_encoder.layers.0.norm2.bias            torch.Size([1280])             1280            1280           \n",
      "fc.weight                                          torch.Size([1, 1280])          1280            1280           \n",
      "fc.bias                                            torch.Size([1])                1               1              \n",
      "--------------------------------------------------------------------------------------------------------------\n",
      "Total Parameters: 13099009\n",
      "Trainable Parameters: 13099009\n"
     ]
    }
   ],
   "source": [
    "def model_summary(model):\n",
    "    print(\"Model Summary:\")\n",
    "    print(\"{:<50} {:<30} {:<15} {:<15}\".format(\"Layer Name\", \"Shape\", \"Parameters\", \"Trainable\"))\n",
    "    print(\"-\" * 110)\n",
    "    total_params = 0\n",
    "    total_trainable_params = 0\n",
    "    lm_params = 0\n",
    "    lm_trainable_params = 0\n",
    "    lm_layers = 0\n",
    "    for name, parameter in model.named_parameters():\n",
    "        param = parameter.numel()\n",
    "        total_params += param\n",
    "        # Check if the parameter is trainable\n",
    "        trainable = parameter.requires_grad\n",
    "        trainable_param = param if trainable else 0\n",
    "        total_trainable_params += trainable_param\n",
    "        print(\"{:<50} {:<30} {:<15} {:<15}\".format(name, str(parameter.size()), param, trainable_param))\n",
    "    print(\"-\" * 110)\n",
    "    print(f\"Total Parameters: {total_params}\")\n",
    "    print(f\"Trainable Parameters: {total_trainable_params}\")\n",
    "\n",
    "model_summary(model)"
   ]
  },
  {
   "cell_type": "code",
   "execution_count": 29,
   "metadata": {},
   "outputs": [
    {
     "name": "stdout",
     "output_type": "stream",
     "text": [
      "Test MSE: 0.06055406422819942\n"
     ]
    }
   ],
   "source": [
    "model.load_state_dict(best_model)\n",
    "model.eval()\n",
    "test_losses = []\n",
    "y_preds = []\n",
    "y_actuals = []\n",
    "\n",
    "for X_batch, y_batch in test_loader:\n",
    "    for k, v in X_batch.items():\n",
    "        X_batch[k] = v.to(device, non_blocking=True)\n",
    "    y_batch = y_batch.to(device, non_blocking=True)\n",
    "    \n",
    "    with torch.no_grad(), autocast():\n",
    "        y_pred = model(X_batch)\n",
    "        mse = loss_fn(y_pred, y_batch.unsqueeze(1))\n",
    "        \n",
    "        y_preds.extend(y_pred.cpu().numpy())\n",
    "        y_actuals.extend(y_batch.cpu().numpy())\n",
    "        test_losses.append(mse.item())\n",
    "\n",
    "avg_test_loss = sum(test_losses) / len(test_losses)\n",
    "print(f'Test MSE: {avg_test_loss}')"
   ]
  },
  {
   "cell_type": "code",
   "execution_count": 30,
   "metadata": {},
   "outputs": [
    {
     "data": {
      "image/png": "[encoded data removed]",
      "text/plain": [
       "<Figure size 1000x600 with 1 Axes>"
      ]
     },
     "metadata": {},
     "output_type": "display_data"
    }
   ],
   "source": [
    "import matplotlib.pyplot as plt\n",
    "\n",
    "plt.figure(figsize=(10, 6))\n",
    "plt.scatter(y_preds, y_actuals, alpha=0.5)\n",
    "plt.title('Predicted vs Actual Values')\n",
    "plt.ylabel('Actual Values')\n",
    "plt.xlabel('Predicted Values')\n",
    "plt.grid(True)\n",
    "plt.show()"
   ]
  },
  {
   "cell_type": "code",
   "execution_count": null,
   "metadata": {},
   "outputs": [],
   "source": []
  }
 ],
 "metadata": {
  "kernelspec": {
   "display_name": "Python [conda env:.conda-l-schewinski-tp-2]",
   "language": "python",
   "name": "conda-env-.conda-l-schewinski-tp-2-py"
  },
  "language_info": {
   "codemirror_mode": {
    "name": "ipython",
    "version": 3
   },
   "file_extension": ".py",
   "mimetype": "text/x-python",
   "name": "python",
   "nbconvert_exporter": "python",
   "pygments_lexer": "ipython3",
   "version": "3.7.12"
  }
 },
 "nbformat": 4,
 "nbformat_minor": 4
}
