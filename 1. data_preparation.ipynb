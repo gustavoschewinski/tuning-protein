{
 "cells": [
  {
   "cell_type": "markdown",
   "metadata": {},
   "source": [
    "# Protein conformational changes between conditions\n"
   ]
  },
  {
   "cell_type": "markdown",
   "metadata": {},
   "source": [
    "## Getting the data"
   ]
  },
  {
   "cell_type": "code",
   "execution_count": 1,
   "metadata": {
    "id": "b2gkjMaEQ5eO"
   },
   "outputs": [],
   "source": [
    "import pandas as pd\n",
    "import numpy as np\n",
    "\n",
    "# OsmitcStress.xlsx is the file that contains the data already filtered for the osmotic stress experiment\n",
    "df = pd.read_excel('data/OsmoticStress.xlsx')"
   ]
  },
  {
   "cell_type": "code",
   "execution_count": 2,
   "metadata": {
    "id": "tif0zHXPTkyh"
   },
   "outputs": [],
   "source": [
    "df = df[['Uniprot_ID', 'Peptide_sequence', 'Log2FC(LiP_norm)', 'Qvalue(LiP)']]"
   ]
  },
  {
   "cell_type": "code",
   "execution_count": 3,
   "metadata": {
    "colab": {
     "base_uri": "https://localhost:8080/",
     "height": 206
    },
    "id": "sqMOUhaFTILF",
    "outputId": "72e19efc-5aab-4eb5-e1f0-a331dfaad718"
   },
   "outputs": [
    {
     "data": {
      "text/html": [
       "<div>\n",
       "<style scoped>\n",
       "    .dataframe tbody tr th:only-of-type {\n",
       "        vertical-align: middle;\n",
       "    }\n",
       "\n",
       "    .dataframe tbody tr th {\n",
       "        vertical-align: top;\n",
       "    }\n",
       "\n",
       "    .dataframe thead th {\n",
       "        text-align: right;\n",
       "    }\n",
       "</style>\n",
       "<table border=\"1\" class=\"dataframe\">\n",
       "  <thead>\n",
       "    <tr style=\"text-align: right;\">\n",
       "      <th></th>\n",
       "      <th>Uniprot_ID</th>\n",
       "      <th>Peptide_sequence</th>\n",
       "      <th>Log2FC(LiP_norm)</th>\n",
       "      <th>Qvalue(LiP)</th>\n",
       "    </tr>\n",
       "  </thead>\n",
       "  <tbody>\n",
       "    <tr>\n",
       "      <th>0</th>\n",
       "      <td>P15703</td>\n",
       "      <td>KPNTSGTSDVEK</td>\n",
       "      <td>-2.176707</td>\n",
       "      <td>0.003686</td>\n",
       "    </tr>\n",
       "    <tr>\n",
       "      <th>1</th>\n",
       "      <td>P15703</td>\n",
       "      <td>SYTSTVK</td>\n",
       "      <td>0.285029</td>\n",
       "      <td>0.034862</td>\n",
       "    </tr>\n",
       "    <tr>\n",
       "      <th>2</th>\n",
       "      <td>P15703</td>\n",
       "      <td>NDLTASQLSDK</td>\n",
       "      <td>-0.498240</td>\n",
       "      <td>0.039093</td>\n",
       "    </tr>\n",
       "    <tr>\n",
       "      <th>3</th>\n",
       "      <td>P15703</td>\n",
       "      <td>EAFDEDWKPNTSGTSDVEK</td>\n",
       "      <td>0.348193</td>\n",
       "      <td>0.042584</td>\n",
       "    </tr>\n",
       "    <tr>\n",
       "      <th>4</th>\n",
       "      <td>P15703</td>\n",
       "      <td>SVVADISDSDGK</td>\n",
       "      <td>-0.434615</td>\n",
       "      <td>0.048552</td>\n",
       "    </tr>\n",
       "  </tbody>\n",
       "</table>\n",
       "</div>"
      ],
      "text/plain": [
       "  Uniprot_ID     Peptide_sequence  Log2FC(LiP_norm)  Qvalue(LiP)\n",
       "0     P15703         KPNTSGTSDVEK         -2.176707     0.003686\n",
       "1     P15703              SYTSTVK          0.285029     0.034862\n",
       "2     P15703          NDLTASQLSDK         -0.498240     0.039093\n",
       "3     P15703  EAFDEDWKPNTSGTSDVEK          0.348193     0.042584\n",
       "4     P15703         SVVADISDSDGK         -0.434615     0.048552"
      ]
     },
     "execution_count": 3,
     "metadata": {},
     "output_type": "execute_result"
    }
   ],
   "source": [
    "df.head()"
   ]
  },
  {
   "cell_type": "code",
   "execution_count": 4,
   "metadata": {
    "id": "cuEPZVtCUbQ2"
   },
   "outputs": [],
   "source": [
    "# Reads data from the .Fasta file\n",
    "\n",
    "from Bio import SeqIO\n",
    "\n",
    "def read_fasta_to_dict(file_path):\n",
    "    sequences = {}\n",
    "    for record in SeqIO.parse(file_path, \"fasta\"):\n",
    "        uniprot_id = record.id.split('|')[1]\n",
    "        sequences[uniprot_id] = str(record.seq)\n",
    "    return sequences\n",
    "\n",
    "fasta_file_path = 'data/UP000002311_559292.fasta'\n",
    "sequences = read_fasta_to_dict(fasta_file_path)"
   ]
  },
  {
   "cell_type": "code",
   "execution_count": 5,
   "metadata": {
    "id": "wpp4BI2MVFxG"
   },
   "outputs": [],
   "source": [
    "df[\"full_sequence\"] = df['Uniprot_ID'].map(sequences)"
   ]
  },
  {
   "cell_type": "code",
   "execution_count": 6,
   "metadata": {},
   "outputs": [],
   "source": [
    "df[\"full_sequence\"]= df[\"full_sequence\"].astype(str)\n",
    "df[\"Peptide_sequence\"]= df[\"Peptide_sequence\"]. astype(str)"
   ]
  },
  {
   "cell_type": "code",
   "execution_count": 7,
   "metadata": {},
   "outputs": [
    {
     "data": {
      "text/plain": [
       "(32709, 5)"
      ]
     },
     "execution_count": 7,
     "metadata": {},
     "output_type": "execute_result"
    }
   ],
   "source": [
    "df.shape"
   ]
  },
  {
   "cell_type": "code",
   "execution_count": 8,
   "metadata": {},
   "outputs": [],
   "source": [
    "# Just get the sequences bellow length of 1000 to ease out memory usage\n",
    "\n",
    "trimmed_df = df[df['full_sequence'].apply(lambda x: len(x)) < 1000]"
   ]
  },
  {
   "cell_type": "code",
   "execution_count": 9,
   "metadata": {},
   "outputs": [
    {
     "data": {
      "text/plain": [
       "(28008, 5)"
      ]
     },
     "execution_count": 9,
     "metadata": {},
     "output_type": "execute_result"
    }
   ],
   "source": [
    "trimmed_df.shape"
   ]
  },
  {
   "cell_type": "code",
   "execution_count": 10,
   "metadata": {},
   "outputs": [
    {
     "name": "stderr",
     "output_type": "stream",
     "text": [
      "/opt/modules/i12g/anaconda/envs/l-schewinski-tp/lib/python3.7/site-packages/ipykernel_launcher.py:13: SettingWithCopyWarning: \n",
      "A value is trying to be set on a copy of a slice from a DataFrame.\n",
      "Try using .loc[row_indexer,col_indexer] = value instead\n",
      "\n",
      "See the caveats in the documentation: https://pandas.pydata.org/pandas-docs/stable/user_guide/indexing.html#returning-a-view-versus-a-copy\n",
      "  del sys.path[0]\n"
     ]
    }
   ],
   "source": [
    "def binary_position(row):\n",
    "    full_len = len(row['full_sequence'])\n",
    "    short_len = len(row['Peptide_sequence'])\n",
    "    start_index = row['full_sequence'].find(row['Peptide_sequence'])\n",
    "\n",
    "    positions = np.zeros(full_len, dtype=int)\n",
    "\n",
    "    if start_index != -1:\n",
    "        positions[start_index:start_index + short_len] = 1\n",
    "    return positions.tolist()\n",
    "\n",
    "# Creation of the binary positions\n",
    "trimmed_df['Binary_Positions'] = trimmed_df.apply(binary_position, axis=1)"
   ]
  },
  {
   "cell_type": "code",
   "execution_count": 11,
   "metadata": {},
   "outputs": [
    {
     "data": {
      "text/html": [
       "<div>\n",
       "<style scoped>\n",
       "    .dataframe tbody tr th:only-of-type {\n",
       "        vertical-align: middle;\n",
       "    }\n",
       "\n",
       "    .dataframe tbody tr th {\n",
       "        vertical-align: top;\n",
       "    }\n",
       "\n",
       "    .dataframe thead th {\n",
       "        text-align: right;\n",
       "    }\n",
       "</style>\n",
       "<table border=\"1\" class=\"dataframe\">\n",
       "  <thead>\n",
       "    <tr style=\"text-align: right;\">\n",
       "      <th></th>\n",
       "      <th>Uniprot_ID</th>\n",
       "      <th>Peptide_sequence</th>\n",
       "      <th>Log2FC(LiP_norm)</th>\n",
       "      <th>Qvalue(LiP)</th>\n",
       "      <th>full_sequence</th>\n",
       "      <th>Binary_Positions</th>\n",
       "    </tr>\n",
       "  </thead>\n",
       "  <tbody>\n",
       "    <tr>\n",
       "      <th>0</th>\n",
       "      <td>P15703</td>\n",
       "      <td>KPNTSGTSDVEK</td>\n",
       "      <td>-2.176707</td>\n",
       "      <td>0.003686</td>\n",
       "      <td>MRFSTTLATAATALFFTASQVSAIGELAFNLGVKNNDGTCKSTSDY...</td>\n",
       "      <td>[0, 0, 0, 0, 0, 0, 0, 0, 0, 0, 0, 0, 0, 0, 0, ...</td>\n",
       "    </tr>\n",
       "    <tr>\n",
       "      <th>1</th>\n",
       "      <td>P15703</td>\n",
       "      <td>SYTSTVK</td>\n",
       "      <td>0.285029</td>\n",
       "      <td>0.034862</td>\n",
       "      <td>MRFSTTLATAATALFFTASQVSAIGELAFNLGVKNNDGTCKSTSDY...</td>\n",
       "      <td>[0, 0, 0, 0, 0, 0, 0, 0, 0, 0, 0, 0, 0, 0, 0, ...</td>\n",
       "    </tr>\n",
       "    <tr>\n",
       "      <th>2</th>\n",
       "      <td>P15703</td>\n",
       "      <td>NDLTASQLSDK</td>\n",
       "      <td>-0.498240</td>\n",
       "      <td>0.039093</td>\n",
       "      <td>MRFSTTLATAATALFFTASQVSAIGELAFNLGVKNNDGTCKSTSDY...</td>\n",
       "      <td>[0, 0, 0, 0, 0, 0, 0, 0, 0, 0, 0, 0, 0, 0, 0, ...</td>\n",
       "    </tr>\n",
       "    <tr>\n",
       "      <th>3</th>\n",
       "      <td>P15703</td>\n",
       "      <td>EAFDEDWKPNTSGTSDVEK</td>\n",
       "      <td>0.348193</td>\n",
       "      <td>0.042584</td>\n",
       "      <td>MRFSTTLATAATALFFTASQVSAIGELAFNLGVKNNDGTCKSTSDY...</td>\n",
       "      <td>[0, 0, 0, 0, 0, 0, 0, 0, 0, 0, 0, 0, 0, 0, 0, ...</td>\n",
       "    </tr>\n",
       "    <tr>\n",
       "      <th>4</th>\n",
       "      <td>P15703</td>\n",
       "      <td>SVVADISDSDGK</td>\n",
       "      <td>-0.434615</td>\n",
       "      <td>0.048552</td>\n",
       "      <td>MRFSTTLATAATALFFTASQVSAIGELAFNLGVKNNDGTCKSTSDY...</td>\n",
       "      <td>[0, 0, 0, 0, 0, 0, 0, 0, 0, 0, 0, 0, 0, 0, 0, ...</td>\n",
       "    </tr>\n",
       "    <tr>\n",
       "      <th>...</th>\n",
       "      <td>...</td>\n",
       "      <td>...</td>\n",
       "      <td>...</td>\n",
       "      <td>...</td>\n",
       "      <td>...</td>\n",
       "      <td>...</td>\n",
       "    </tr>\n",
       "    <tr>\n",
       "      <th>32704</th>\n",
       "      <td>P38887</td>\n",
       "      <td>FITVPLVVASR</td>\n",
       "      <td>-0.008441</td>\n",
       "      <td>0.376924</td>\n",
       "      <td>MILKLVHCLVALTGLIFAKPYQQQQAVLAPSQDVPLRDIHIGDINF...</td>\n",
       "      <td>[0, 0, 0, 0, 0, 0, 0, 0, 0, 0, 0, 0, 0, 0, 0, ...</td>\n",
       "    </tr>\n",
       "    <tr>\n",
       "      <th>32705</th>\n",
       "      <td>P53093</td>\n",
       "      <td>GTLDETVLQTLK</td>\n",
       "      <td>0.006678</td>\n",
       "      <td>0.381210</td>\n",
       "      <td>MSYGREDTTIEPDFIEPDAPLAASGGVADNIGGTMQNSGSRGTLDE...</td>\n",
       "      <td>[0, 0, 0, 0, 0, 0, 0, 0, 0, 0, 0, 0, 0, 0, 0, ...</td>\n",
       "    </tr>\n",
       "    <tr>\n",
       "      <th>32706</th>\n",
       "      <td>Q04772</td>\n",
       "      <td>DVSNSKPNVR</td>\n",
       "      <td>-0.015149</td>\n",
       "      <td>0.381696</td>\n",
       "      <td>MSSDGMNRDVSNSKPNVRFAAPQRLSVAHPAISSPLHMPMSKSSRK...</td>\n",
       "      <td>[0, 0, 0, 0, 0, 0, 0, 0, 1, 1, 1, 1, 1, 1, 1, ...</td>\n",
       "    </tr>\n",
       "    <tr>\n",
       "      <th>32707</th>\n",
       "      <td>P21192</td>\n",
       "      <td>VLEEQEEVAQK</td>\n",
       "      <td>-0.010109</td>\n",
       "      <td>0.382355</td>\n",
       "      <td>MDNVVDPWYINPSGFAKDTQDEEYVQHHDNVNPTIPPPDNYILNNE...</td>\n",
       "      <td>[0, 0, 0, 0, 0, 0, 0, 0, 0, 0, 0, 0, 0, 0, 0, ...</td>\n",
       "    </tr>\n",
       "    <tr>\n",
       "      <th>32708</th>\n",
       "      <td>Q03687</td>\n",
       "      <td>DSNDTSDSPQDDQVGK</td>\n",
       "      <td>-0.192194</td>\n",
       "      <td>0.388780</td>\n",
       "      <td>MSTTGPLDATLIRDVAVATATKASYDMSDTLYSYLPKVDQFYIPEW...</td>\n",
       "      <td>[0, 0, 0, 0, 0, 0, 0, 0, 0, 0, 0, 0, 0, 0, 0, ...</td>\n",
       "    </tr>\n",
       "  </tbody>\n",
       "</table>\n",
       "<p>28008 rows × 6 columns</p>\n",
       "</div>"
      ],
      "text/plain": [
       "      Uniprot_ID     Peptide_sequence  Log2FC(LiP_norm)  Qvalue(LiP)  \\\n",
       "0         P15703         KPNTSGTSDVEK         -2.176707     0.003686   \n",
       "1         P15703              SYTSTVK          0.285029     0.034862   \n",
       "2         P15703          NDLTASQLSDK         -0.498240     0.039093   \n",
       "3         P15703  EAFDEDWKPNTSGTSDVEK          0.348193     0.042584   \n",
       "4         P15703         SVVADISDSDGK         -0.434615     0.048552   \n",
       "...          ...                  ...               ...          ...   \n",
       "32704     P38887          FITVPLVVASR         -0.008441     0.376924   \n",
       "32705     P53093         GTLDETVLQTLK          0.006678     0.381210   \n",
       "32706     Q04772           DVSNSKPNVR         -0.015149     0.381696   \n",
       "32707     P21192          VLEEQEEVAQK         -0.010109     0.382355   \n",
       "32708     Q03687     DSNDTSDSPQDDQVGK         -0.192194     0.388780   \n",
       "\n",
       "                                           full_sequence  \\\n",
       "0      MRFSTTLATAATALFFTASQVSAIGELAFNLGVKNNDGTCKSTSDY...   \n",
       "1      MRFSTTLATAATALFFTASQVSAIGELAFNLGVKNNDGTCKSTSDY...   \n",
       "2      MRFSTTLATAATALFFTASQVSAIGELAFNLGVKNNDGTCKSTSDY...   \n",
       "3      MRFSTTLATAATALFFTASQVSAIGELAFNLGVKNNDGTCKSTSDY...   \n",
       "4      MRFSTTLATAATALFFTASQVSAIGELAFNLGVKNNDGTCKSTSDY...   \n",
       "...                                                  ...   \n",
       "32704  MILKLVHCLVALTGLIFAKPYQQQQAVLAPSQDVPLRDIHIGDINF...   \n",
       "32705  MSYGREDTTIEPDFIEPDAPLAASGGVADNIGGTMQNSGSRGTLDE...   \n",
       "32706  MSSDGMNRDVSNSKPNVRFAAPQRLSVAHPAISSPLHMPMSKSSRK...   \n",
       "32707  MDNVVDPWYINPSGFAKDTQDEEYVQHHDNVNPTIPPPDNYILNNE...   \n",
       "32708  MSTTGPLDATLIRDVAVATATKASYDMSDTLYSYLPKVDQFYIPEW...   \n",
       "\n",
       "                                        Binary_Positions  \n",
       "0      [0, 0, 0, 0, 0, 0, 0, 0, 0, 0, 0, 0, 0, 0, 0, ...  \n",
       "1      [0, 0, 0, 0, 0, 0, 0, 0, 0, 0, 0, 0, 0, 0, 0, ...  \n",
       "2      [0, 0, 0, 0, 0, 0, 0, 0, 0, 0, 0, 0, 0, 0, 0, ...  \n",
       "3      [0, 0, 0, 0, 0, 0, 0, 0, 0, 0, 0, 0, 0, 0, 0, ...  \n",
       "4      [0, 0, 0, 0, 0, 0, 0, 0, 0, 0, 0, 0, 0, 0, 0, ...  \n",
       "...                                                  ...  \n",
       "32704  [0, 0, 0, 0, 0, 0, 0, 0, 0, 0, 0, 0, 0, 0, 0, ...  \n",
       "32705  [0, 0, 0, 0, 0, 0, 0, 0, 0, 0, 0, 0, 0, 0, 0, ...  \n",
       "32706  [0, 0, 0, 0, 0, 0, 0, 0, 1, 1, 1, 1, 1, 1, 1, ...  \n",
       "32707  [0, 0, 0, 0, 0, 0, 0, 0, 0, 0, 0, 0, 0, 0, 0, ...  \n",
       "32708  [0, 0, 0, 0, 0, 0, 0, 0, 0, 0, 0, 0, 0, 0, 0, ...  \n",
       "\n",
       "[28008 rows x 6 columns]"
      ]
     },
     "execution_count": 11,
     "metadata": {},
     "output_type": "execute_result"
    }
   ],
   "source": [
    "trimmed_df"
   ]
  },
  {
   "cell_type": "code",
   "execution_count": 12,
   "metadata": {},
   "outputs": [
    {
     "name": "stderr",
     "output_type": "stream",
     "text": [
      "/opt/modules/i12g/anaconda/envs/l-schewinski-tp/lib/python3.7/site-packages/ipykernel_launcher.py:4: SettingWithCopyWarning: \n",
      "A value is trying to be set on a copy of a slice from a DataFrame.\n",
      "Try using .loc[row_indexer,col_indexer] = value instead\n",
      "\n",
      "See the caveats in the documentation: https://pandas.pydata.org/pandas-docs/stable/user_guide/indexing.html#returning-a-view-versus-a-copy\n",
      "  after removing the cwd from sys.path.\n"
     ]
    }
   ],
   "source": [
    "max_length = 1000\n",
    "\n",
    "# Padding binary position to length of 1000\n",
    "trimmed_df['Padded_Binary_Positions'] = trimmed_df['Binary_Positions'].apply(lambda x: np.pad(x, (0, max_length - len(x)), 'constant'))"
   ]
  },
  {
   "cell_type": "code",
   "execution_count": 13,
   "metadata": {},
   "outputs": [
    {
     "data": {
      "text/html": [
       "<div>\n",
       "<style scoped>\n",
       "    .dataframe tbody tr th:only-of-type {\n",
       "        vertical-align: middle;\n",
       "    }\n",
       "\n",
       "    .dataframe tbody tr th {\n",
       "        vertical-align: top;\n",
       "    }\n",
       "\n",
       "    .dataframe thead th {\n",
       "        text-align: right;\n",
       "    }\n",
       "</style>\n",
       "<table border=\"1\" class=\"dataframe\">\n",
       "  <thead>\n",
       "    <tr style=\"text-align: right;\">\n",
       "      <th></th>\n",
       "      <th>Uniprot_ID</th>\n",
       "      <th>Peptide_sequence</th>\n",
       "      <th>Log2FC(LiP_norm)</th>\n",
       "      <th>Qvalue(LiP)</th>\n",
       "      <th>full_sequence</th>\n",
       "      <th>Binary_Positions</th>\n",
       "      <th>Padded_Binary_Positions</th>\n",
       "    </tr>\n",
       "  </thead>\n",
       "  <tbody>\n",
       "    <tr>\n",
       "      <th>0</th>\n",
       "      <td>P15703</td>\n",
       "      <td>KPNTSGTSDVEK</td>\n",
       "      <td>-2.176707</td>\n",
       "      <td>0.003686</td>\n",
       "      <td>MRFSTTLATAATALFFTASQVSAIGELAFNLGVKNNDGTCKSTSDY...</td>\n",
       "      <td>[0, 0, 0, 0, 0, 0, 0, 0, 0, 0, 0, 0, 0, 0, 0, ...</td>\n",
       "      <td>[0, 0, 0, 0, 0, 0, 0, 0, 0, 0, 0, 0, 0, 0, 0, ...</td>\n",
       "    </tr>\n",
       "    <tr>\n",
       "      <th>1</th>\n",
       "      <td>P15703</td>\n",
       "      <td>SYTSTVK</td>\n",
       "      <td>0.285029</td>\n",
       "      <td>0.034862</td>\n",
       "      <td>MRFSTTLATAATALFFTASQVSAIGELAFNLGVKNNDGTCKSTSDY...</td>\n",
       "      <td>[0, 0, 0, 0, 0, 0, 0, 0, 0, 0, 0, 0, 0, 0, 0, ...</td>\n",
       "      <td>[0, 0, 0, 0, 0, 0, 0, 0, 0, 0, 0, 0, 0, 0, 0, ...</td>\n",
       "    </tr>\n",
       "    <tr>\n",
       "      <th>2</th>\n",
       "      <td>P15703</td>\n",
       "      <td>NDLTASQLSDK</td>\n",
       "      <td>-0.498240</td>\n",
       "      <td>0.039093</td>\n",
       "      <td>MRFSTTLATAATALFFTASQVSAIGELAFNLGVKNNDGTCKSTSDY...</td>\n",
       "      <td>[0, 0, 0, 0, 0, 0, 0, 0, 0, 0, 0, 0, 0, 0, 0, ...</td>\n",
       "      <td>[0, 0, 0, 0, 0, 0, 0, 0, 0, 0, 0, 0, 0, 0, 0, ...</td>\n",
       "    </tr>\n",
       "    <tr>\n",
       "      <th>3</th>\n",
       "      <td>P15703</td>\n",
       "      <td>EAFDEDWKPNTSGTSDVEK</td>\n",
       "      <td>0.348193</td>\n",
       "      <td>0.042584</td>\n",
       "      <td>MRFSTTLATAATALFFTASQVSAIGELAFNLGVKNNDGTCKSTSDY...</td>\n",
       "      <td>[0, 0, 0, 0, 0, 0, 0, 0, 0, 0, 0, 0, 0, 0, 0, ...</td>\n",
       "      <td>[0, 0, 0, 0, 0, 0, 0, 0, 0, 0, 0, 0, 0, 0, 0, ...</td>\n",
       "    </tr>\n",
       "    <tr>\n",
       "      <th>4</th>\n",
       "      <td>P15703</td>\n",
       "      <td>SVVADISDSDGK</td>\n",
       "      <td>-0.434615</td>\n",
       "      <td>0.048552</td>\n",
       "      <td>MRFSTTLATAATALFFTASQVSAIGELAFNLGVKNNDGTCKSTSDY...</td>\n",
       "      <td>[0, 0, 0, 0, 0, 0, 0, 0, 0, 0, 0, 0, 0, 0, 0, ...</td>\n",
       "      <td>[0, 0, 0, 0, 0, 0, 0, 0, 0, 0, 0, 0, 0, 0, 0, ...</td>\n",
       "    </tr>\n",
       "  </tbody>\n",
       "</table>\n",
       "</div>"
      ],
      "text/plain": [
       "  Uniprot_ID     Peptide_sequence  Log2FC(LiP_norm)  Qvalue(LiP)  \\\n",
       "0     P15703         KPNTSGTSDVEK         -2.176707     0.003686   \n",
       "1     P15703              SYTSTVK          0.285029     0.034862   \n",
       "2     P15703          NDLTASQLSDK         -0.498240     0.039093   \n",
       "3     P15703  EAFDEDWKPNTSGTSDVEK          0.348193     0.042584   \n",
       "4     P15703         SVVADISDSDGK         -0.434615     0.048552   \n",
       "\n",
       "                                       full_sequence  \\\n",
       "0  MRFSTTLATAATALFFTASQVSAIGELAFNLGVKNNDGTCKSTSDY...   \n",
       "1  MRFSTTLATAATALFFTASQVSAIGELAFNLGVKNNDGTCKSTSDY...   \n",
       "2  MRFSTTLATAATALFFTASQVSAIGELAFNLGVKNNDGTCKSTSDY...   \n",
       "3  MRFSTTLATAATALFFTASQVSAIGELAFNLGVKNNDGTCKSTSDY...   \n",
       "4  MRFSTTLATAATALFFTASQVSAIGELAFNLGVKNNDGTCKSTSDY...   \n",
       "\n",
       "                                    Binary_Positions  \\\n",
       "0  [0, 0, 0, 0, 0, 0, 0, 0, 0, 0, 0, 0, 0, 0, 0, ...   \n",
       "1  [0, 0, 0, 0, 0, 0, 0, 0, 0, 0, 0, 0, 0, 0, 0, ...   \n",
       "2  [0, 0, 0, 0, 0, 0, 0, 0, 0, 0, 0, 0, 0, 0, 0, ...   \n",
       "3  [0, 0, 0, 0, 0, 0, 0, 0, 0, 0, 0, 0, 0, 0, 0, ...   \n",
       "4  [0, 0, 0, 0, 0, 0, 0, 0, 0, 0, 0, 0, 0, 0, 0, ...   \n",
       "\n",
       "                             Padded_Binary_Positions  \n",
       "0  [0, 0, 0, 0, 0, 0, 0, 0, 0, 0, 0, 0, 0, 0, 0, ...  \n",
       "1  [0, 0, 0, 0, 0, 0, 0, 0, 0, 0, 0, 0, 0, 0, 0, ...  \n",
       "2  [0, 0, 0, 0, 0, 0, 0, 0, 0, 0, 0, 0, 0, 0, 0, ...  \n",
       "3  [0, 0, 0, 0, 0, 0, 0, 0, 0, 0, 0, 0, 0, 0, 0, ...  \n",
       "4  [0, 0, 0, 0, 0, 0, 0, 0, 0, 0, 0, 0, 0, 0, 0, ...  "
      ]
     },
     "execution_count": 13,
     "metadata": {},
     "output_type": "execute_result"
    }
   ],
   "source": [
    "trimmed_df.head()"
   ]
  },
  {
   "cell_type": "code",
   "execution_count": 14,
   "metadata": {},
   "outputs": [
    {
     "data": {
      "text/html": [
       "<div>\n",
       "<style scoped>\n",
       "    .dataframe tbody tr th:only-of-type {\n",
       "        vertical-align: middle;\n",
       "    }\n",
       "\n",
       "    .dataframe tbody tr th {\n",
       "        vertical-align: top;\n",
       "    }\n",
       "\n",
       "    .dataframe thead th {\n",
       "        text-align: right;\n",
       "    }\n",
       "</style>\n",
       "<table border=\"1\" class=\"dataframe\">\n",
       "  <thead>\n",
       "    <tr style=\"text-align: right;\">\n",
       "      <th></th>\n",
       "      <th>Uniprot_ID</th>\n",
       "      <th>Peptide_sequence</th>\n",
       "      <th>Log2FC(LiP_norm)</th>\n",
       "      <th>Qvalue(LiP)</th>\n",
       "      <th>full_sequence</th>\n",
       "      <th>Binary_Positions</th>\n",
       "      <th>Padded_Binary_Positions</th>\n",
       "    </tr>\n",
       "  </thead>\n",
       "  <tbody>\n",
       "    <tr>\n",
       "      <th>0</th>\n",
       "      <td>P15703</td>\n",
       "      <td>KPNTSGTSDVEK</td>\n",
       "      <td>-2.176707</td>\n",
       "      <td>0.003686</td>\n",
       "      <td>MRFSTTLATAATALFFTASQVSAIGELAFNLGVKNNDGTCKSTSDY...</td>\n",
       "      <td>[0, 0, 0, 0, 0, 0, 0, 0, 0, 0, 0, 0, 0, 0, 0, ...</td>\n",
       "      <td>[0, 0, 0, 0, 0, 0, 0, 0, 0, 0, 0, 0, 0, 0, 0, ...</td>\n",
       "    </tr>\n",
       "    <tr>\n",
       "      <th>101</th>\n",
       "      <td>P06169</td>\n",
       "      <td>TTYVTQRPVYLGLPANLVDLNVPAK</td>\n",
       "      <td>2.264383</td>\n",
       "      <td>0.003686</td>\n",
       "      <td>MSEITLGKYLFERLKQVNVNTVFGLPGDFNLSLLDKIYEVEGMRWA...</td>\n",
       "      <td>[0, 0, 0, 0, 0, 0, 0, 0, 0, 0, 0, 0, 0, 0, 0, ...</td>\n",
       "      <td>[0, 0, 0, 0, 0, 0, 0, 0, 0, 0, 0, 0, 0, 0, 0, ...</td>\n",
       "    </tr>\n",
       "    <tr>\n",
       "      <th>18</th>\n",
       "      <td>P38174</td>\n",
       "      <td>NLCGHSIAPYR</td>\n",
       "      <td>1.216913</td>\n",
       "      <td>0.003686</td>\n",
       "      <td>MTDAEIENSPASDLKELNLENEGVEQQDQAKADESDPVESKKKKNK...</td>\n",
       "      <td>[0, 0, 0, 0, 0, 0, 0, 0, 0, 0, 0, 0, 0, 0, 0, ...</td>\n",
       "      <td>[0, 0, 0, 0, 0, 0, 0, 0, 0, 0, 0, 0, 0, 0, 0, ...</td>\n",
       "    </tr>\n",
       "    <tr>\n",
       "      <th>280</th>\n",
       "      <td>P00359</td>\n",
       "      <td>VINDAFGIEEGLMTTVHSLTATQK</td>\n",
       "      <td>2.790874</td>\n",
       "      <td>0.003686</td>\n",
       "      <td>MVRVAINGFGRIGRLVMRIALSRPNVEVVALNDPFITNDYAAYMFK...</td>\n",
       "      <td>[0, 0, 0, 0, 0, 0, 0, 0, 0, 0, 0, 0, 0, 0, 0, ...</td>\n",
       "      <td>[0, 0, 0, 0, 0, 0, 0, 0, 0, 0, 0, 0, 0, 0, 0, ...</td>\n",
       "    </tr>\n",
       "    <tr>\n",
       "      <th>331</th>\n",
       "      <td>P0CH08;P0CH09</td>\n",
       "      <td>TITLEVESSDTIDNVK</td>\n",
       "      <td>-0.647026</td>\n",
       "      <td>0.004177</td>\n",
       "      <td>nan</td>\n",
       "      <td>[0, 0, 0]</td>\n",
       "      <td>[0, 0, 0, 0, 0, 0, 0, 0, 0, 0, 0, 0, 0, 0, 0, ...</td>\n",
       "    </tr>\n",
       "  </tbody>\n",
       "</table>\n",
       "</div>"
      ],
      "text/plain": [
       "        Uniprot_ID           Peptide_sequence  Log2FC(LiP_norm)  Qvalue(LiP)  \\\n",
       "0           P15703               KPNTSGTSDVEK         -2.176707     0.003686   \n",
       "101         P06169  TTYVTQRPVYLGLPANLVDLNVPAK          2.264383     0.003686   \n",
       "18          P38174                NLCGHSIAPYR          1.216913     0.003686   \n",
       "280         P00359   VINDAFGIEEGLMTTVHSLTATQK          2.790874     0.003686   \n",
       "331  P0CH08;P0CH09           TITLEVESSDTIDNVK         -0.647026     0.004177   \n",
       "\n",
       "                                         full_sequence  \\\n",
       "0    MRFSTTLATAATALFFTASQVSAIGELAFNLGVKNNDGTCKSTSDY...   \n",
       "101  MSEITLGKYLFERLKQVNVNTVFGLPGDFNLSLLDKIYEVEGMRWA...   \n",
       "18   MTDAEIENSPASDLKELNLENEGVEQQDQAKADESDPVESKKKKNK...   \n",
       "280  MVRVAINGFGRIGRLVMRIALSRPNVEVVALNDPFITNDYAAYMFK...   \n",
       "331                                                nan   \n",
       "\n",
       "                                      Binary_Positions  \\\n",
       "0    [0, 0, 0, 0, 0, 0, 0, 0, 0, 0, 0, 0, 0, 0, 0, ...   \n",
       "101  [0, 0, 0, 0, 0, 0, 0, 0, 0, 0, 0, 0, 0, 0, 0, ...   \n",
       "18   [0, 0, 0, 0, 0, 0, 0, 0, 0, 0, 0, 0, 0, 0, 0, ...   \n",
       "280  [0, 0, 0, 0, 0, 0, 0, 0, 0, 0, 0, 0, 0, 0, 0, ...   \n",
       "331                                          [0, 0, 0]   \n",
       "\n",
       "                               Padded_Binary_Positions  \n",
       "0    [0, 0, 0, 0, 0, 0, 0, 0, 0, 0, 0, 0, 0, 0, 0, ...  \n",
       "101  [0, 0, 0, 0, 0, 0, 0, 0, 0, 0, 0, 0, 0, 0, 0, ...  \n",
       "18   [0, 0, 0, 0, 0, 0, 0, 0, 0, 0, 0, 0, 0, 0, 0, ...  \n",
       "280  [0, 0, 0, 0, 0, 0, 0, 0, 0, 0, 0, 0, 0, 0, 0, ...  \n",
       "331  [0, 0, 0, 0, 0, 0, 0, 0, 0, 0, 0, 0, 0, 0, 0, ...  "
      ]
     },
     "execution_count": 14,
     "metadata": {},
     "output_type": "execute_result"
    }
   ],
   "source": [
    "trimmed_df = trimmed_df.sort_values(by='Qvalue(LiP)', ascending=True)\n",
    "trimmed_df.head()"
   ]
  },
  {
   "cell_type": "code",
   "execution_count": 15,
   "metadata": {},
   "outputs": [],
   "source": [
    "trimmed_df = trimmed_df.head(5000)\n",
    "trimmed_df.reset_index(inplace=True)"
   ]
  },
  {
   "cell_type": "code",
   "execution_count": 16,
   "metadata": {},
   "outputs": [
    {
     "name": "stdout",
     "output_type": "stream",
     "text": [
      "(5000, 8)\n"
     ]
    }
   ],
   "source": [
    "print(trimmed_df.shape)"
   ]
  },
  {
   "cell_type": "code",
   "execution_count": 17,
   "metadata": {},
   "outputs": [],
   "source": [
    "# Prevent formating problem\n",
    "import json\n",
    "trimmed_df['Padded_Binary_Positions'] = trimmed_df['Padded_Binary_Positions'].apply(lambda x: json.dumps(x.tolist()))"
   ]
  },
  {
   "cell_type": "code",
   "execution_count": 18,
   "metadata": {},
   "outputs": [],
   "source": [
    "trimmed_df.to_csv('data/OsmoticStress_with_binary_positions_padded_5000.csv', index=False)"
   ]
  },
  {
   "cell_type": "code",
   "execution_count": null,
   "metadata": {},
   "outputs": [],
   "source": []
  }
 ],
 "metadata": {
  "colab": {
   "provenance": [],
   "toc_visible": true
  },
  "kernelspec": {
   "display_name": "Python [conda env:anaconda-l-schewinski-tp]",
   "language": "python",
   "name": "conda-env-anaconda-l-schewinski-tp-py"
  },
  "language_info": {
   "codemirror_mode": {
    "name": "ipython",
    "version": 3
   },
   "file_extension": ".py",
   "mimetype": "text/x-python",
   "name": "python",
   "nbconvert_exporter": "python",
   "pygments_lexer": "ipython3",
   "version": "3.7.12"
  }
 },
 "nbformat": 4,
 "nbformat_minor": 4
}
