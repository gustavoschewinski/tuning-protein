{
 "cells": [
  {
   "cell_type": "markdown",
   "metadata": {},
   "source": [
    "# Protein conformational changes between conditions\n"
   ]
  },
  {
   "cell_type": "markdown",
   "metadata": {},
   "source": [
    "## Getting the data"
   ]
  },
  {
   "cell_type": "code",
   "execution_count": 13,
   "metadata": {
    "id": "b2gkjMaEQ5eO"
   },
   "outputs": [],
   "source": [
    "import pandas as pd\n",
    "import numpy as np\n",
    "\n",
    "# OsmitcStress.xlsx is the file that contains the data already filtered for the osmotic stress experiment\n",
    "# Source: TODO add source\n",
    "df = pd.read_excel('data/OsmoticStress.xlsx')"
   ]
  },
  {
   "cell_type": "code",
   "execution_count": 14,
   "metadata": {},
   "outputs": [
    {
     "name": "stdout",
     "output_type": "stream",
     "text": [
      "Number of NaN values in each column:\n",
      " Uniprot_ID                0\n",
      "Gene_name                 8\n",
      "Systematic_gene_name    864\n",
      "Protein_Description       0\n",
      "Peptide_sequence          0\n",
      "Log2FC(LiP_raw)           0\n",
      "Log2FC(LiP_norm)          0\n",
      "Pvalue(LiP)               0\n",
      "Qvalue(LiP)               0\n",
      "Log2FC(P.Abundance)     864\n",
      "Pvalue(P.Abundance)       0\n",
      "Qvalue(P.Abundance)       0\n",
      "dtype: int64\n"
     ]
    }
   ],
   "source": [
    "# Check for NaN values in each column\n",
    "nan_per_column = df.isna().sum()\n",
    "print(\"Number of NaN values in each column:\\n\", nan_per_column)\n"
   ]
  },
  {
   "cell_type": "code",
   "execution_count": 15,
   "metadata": {},
   "outputs": [],
   "source": [
    "# Remove rows with any missing values\n",
    "df = df.dropna()"
   ]
  },
  {
   "cell_type": "code",
   "execution_count": 16,
   "metadata": {},
   "outputs": [
    {
     "name": "stdout",
     "output_type": "stream",
     "text": [
      "Number of NaN values in each column:\n",
      " Uniprot_ID              0\n",
      "Gene_name               0\n",
      "Systematic_gene_name    0\n",
      "Protein_Description     0\n",
      "Peptide_sequence        0\n",
      "Log2FC(LiP_raw)         0\n",
      "Log2FC(LiP_norm)        0\n",
      "Pvalue(LiP)             0\n",
      "Qvalue(LiP)             0\n",
      "Log2FC(P.Abundance)     0\n",
      "Pvalue(P.Abundance)     0\n",
      "Qvalue(P.Abundance)     0\n",
      "dtype: int64\n"
     ]
    }
   ],
   "source": [
    "# Check for NaN values in each column after dropping nan valus\n",
    "nan_per_column = df.isna().sum()\n",
    "print(\"Number of NaN values in each column:\\n\", nan_per_column)"
   ]
  },
  {
   "cell_type": "code",
   "execution_count": 17,
   "metadata": {
    "id": "tif0zHXPTkyh"
   },
   "outputs": [],
   "source": [
    "df = df[['Uniprot_ID', 'Peptide_sequence', 'Log2FC(LiP_norm)']]"
   ]
  },
  {
   "cell_type": "code",
   "execution_count": 18,
   "metadata": {
    "colab": {
     "base_uri": "https://localhost:8080/",
     "height": 206
    },
    "id": "sqMOUhaFTILF",
    "outputId": "72e19efc-5aab-4eb5-e1f0-a331dfaad718"
   },
   "outputs": [
    {
     "data": {
      "text/html": [
       "<div>\n",
       "<style scoped>\n",
       "    .dataframe tbody tr th:only-of-type {\n",
       "        vertical-align: middle;\n",
       "    }\n",
       "\n",
       "    .dataframe tbody tr th {\n",
       "        vertical-align: top;\n",
       "    }\n",
       "\n",
       "    .dataframe thead th {\n",
       "        text-align: right;\n",
       "    }\n",
       "</style>\n",
       "<table border=\"1\" class=\"dataframe\">\n",
       "  <thead>\n",
       "    <tr style=\"text-align: right;\">\n",
       "      <th></th>\n",
       "      <th>Uniprot_ID</th>\n",
       "      <th>Peptide_sequence</th>\n",
       "      <th>Log2FC(LiP_norm)</th>\n",
       "    </tr>\n",
       "  </thead>\n",
       "  <tbody>\n",
       "    <tr>\n",
       "      <th>0</th>\n",
       "      <td>P15703</td>\n",
       "      <td>KPNTSGTSDVEK</td>\n",
       "      <td>-2.176707</td>\n",
       "    </tr>\n",
       "    <tr>\n",
       "      <th>1</th>\n",
       "      <td>P15703</td>\n",
       "      <td>SYTSTVK</td>\n",
       "      <td>0.285029</td>\n",
       "    </tr>\n",
       "    <tr>\n",
       "      <th>2</th>\n",
       "      <td>P15703</td>\n",
       "      <td>NDLTASQLSDK</td>\n",
       "      <td>-0.498240</td>\n",
       "    </tr>\n",
       "    <tr>\n",
       "      <th>3</th>\n",
       "      <td>P15703</td>\n",
       "      <td>EAFDEDWKPNTSGTSDVEK</td>\n",
       "      <td>0.348193</td>\n",
       "    </tr>\n",
       "    <tr>\n",
       "      <th>4</th>\n",
       "      <td>P15703</td>\n",
       "      <td>SVVADISDSDGK</td>\n",
       "      <td>-0.434615</td>\n",
       "    </tr>\n",
       "  </tbody>\n",
       "</table>\n",
       "</div>"
      ],
      "text/plain": [
       "  Uniprot_ID     Peptide_sequence  Log2FC(LiP_norm)\n",
       "0     P15703         KPNTSGTSDVEK         -2.176707\n",
       "1     P15703              SYTSTVK          0.285029\n",
       "2     P15703          NDLTASQLSDK         -0.498240\n",
       "3     P15703  EAFDEDWKPNTSGTSDVEK          0.348193\n",
       "4     P15703         SVVADISDSDGK         -0.434615"
      ]
     },
     "execution_count": 18,
     "metadata": {},
     "output_type": "execute_result"
    }
   ],
   "source": [
    "df.head()"
   ]
  },
  {
   "cell_type": "code",
   "execution_count": 8,
   "metadata": {
    "id": "cuEPZVtCUbQ2"
   },
   "outputs": [],
   "source": [
    "from Bio import SeqIO\n",
    "\n",
    "def read_fasta_to_dict(file_path):\n",
    "    sequences = {}\n",
    "    for record in SeqIO.parse(file_path, \"fasta\"):\n",
    "        uniprot_id = record.id.split('|')[1]\n",
    "        sequences[uniprot_id] = str(record.seq)\n",
    "    return sequences\n",
    "\n",
    "fasta_file_path = 'data/UP000002311_559292.fasta'\n",
    "sequences = read_fasta_to_dict(fasta_file_path)"
   ]
  },
  {
   "cell_type": "code",
   "execution_count": 9,
   "metadata": {
    "id": "wpp4BI2MVFxG"
   },
   "outputs": [],
   "source": [
    "df[\"full_sequence\"] = df['Uniprot_ID'].map(sequences)"
   ]
  },
  {
   "cell_type": "code",
   "execution_count": 10,
   "metadata": {},
   "outputs": [],
   "source": [
    "df[\"full_sequence\"]= df[\"full_sequence\"].astype(str)\n",
    "df[\"Peptide_sequence\"]= df[\"Peptide_sequence\"]. astype(str)\n",
    "\n",
    "def binary_position(row):\n",
    "    full_len = len(row['full_sequence'])\n",
    "    short_len = len(row['Peptide_sequence'])\n",
    "    start_index = row['full_sequence'].find(row['Peptide_sequence'])\n",
    "\n",
    "    positions = np.zeros(full_len, dtype=int)\n",
    "\n",
    "    if start_index != -1:\n",
    "        positions[start_index:start_index + short_len] = 1\n",
    "    return positions.tolist()\n",
    "\n",
    "df['Binary_Positions'] = df.apply(binary_position, axis=1)\n",
    "\n",
    "# TODO: what other poistion encoding can be used?"
   ]
  },
  {
   "cell_type": "code",
   "execution_count": 11,
   "metadata": {},
   "outputs": [
    {
     "data": {
      "text/html": [
       "<div>\n",
       "<style scoped>\n",
       "    .dataframe tbody tr th:only-of-type {\n",
       "        vertical-align: middle;\n",
       "    }\n",
       "\n",
       "    .dataframe tbody tr th {\n",
       "        vertical-align: top;\n",
       "    }\n",
       "\n",
       "    .dataframe thead th {\n",
       "        text-align: right;\n",
       "    }\n",
       "</style>\n",
       "<table border=\"1\" class=\"dataframe\">\n",
       "  <thead>\n",
       "    <tr style=\"text-align: right;\">\n",
       "      <th></th>\n",
       "      <th>Uniprot_ID</th>\n",
       "      <th>Peptide_sequence</th>\n",
       "      <th>Log2FC(LiP_norm)</th>\n",
       "      <th>full_sequence</th>\n",
       "      <th>Binary_Positions</th>\n",
       "    </tr>\n",
       "  </thead>\n",
       "  <tbody>\n",
       "    <tr>\n",
       "      <th>0</th>\n",
       "      <td>P15703</td>\n",
       "      <td>KPNTSGTSDVEK</td>\n",
       "      <td>-2.176707</td>\n",
       "      <td>MRFSTTLATAATALFFTASQVSAIGELAFNLGVKNNDGTCKSTSDY...</td>\n",
       "      <td>[0, 0, 0, 0, 0, 0, 0, 0, 0, 0, 0, 0, 0, 0, 0, ...</td>\n",
       "    </tr>\n",
       "    <tr>\n",
       "      <th>1</th>\n",
       "      <td>P15703</td>\n",
       "      <td>SYTSTVK</td>\n",
       "      <td>0.285029</td>\n",
       "      <td>MRFSTTLATAATALFFTASQVSAIGELAFNLGVKNNDGTCKSTSDY...</td>\n",
       "      <td>[0, 0, 0, 0, 0, 0, 0, 0, 0, 0, 0, 0, 0, 0, 0, ...</td>\n",
       "    </tr>\n",
       "    <tr>\n",
       "      <th>2</th>\n",
       "      <td>P15703</td>\n",
       "      <td>NDLTASQLSDK</td>\n",
       "      <td>-0.498240</td>\n",
       "      <td>MRFSTTLATAATALFFTASQVSAIGELAFNLGVKNNDGTCKSTSDY...</td>\n",
       "      <td>[0, 0, 0, 0, 0, 0, 0, 0, 0, 0, 0, 0, 0, 0, 0, ...</td>\n",
       "    </tr>\n",
       "    <tr>\n",
       "      <th>3</th>\n",
       "      <td>P15703</td>\n",
       "      <td>EAFDEDWKPNTSGTSDVEK</td>\n",
       "      <td>0.348193</td>\n",
       "      <td>MRFSTTLATAATALFFTASQVSAIGELAFNLGVKNNDGTCKSTSDY...</td>\n",
       "      <td>[0, 0, 0, 0, 0, 0, 0, 0, 0, 0, 0, 0, 0, 0, 0, ...</td>\n",
       "    </tr>\n",
       "    <tr>\n",
       "      <th>4</th>\n",
       "      <td>P15703</td>\n",
       "      <td>SVVADISDSDGK</td>\n",
       "      <td>-0.434615</td>\n",
       "      <td>MRFSTTLATAATALFFTASQVSAIGELAFNLGVKNNDGTCKSTSDY...</td>\n",
       "      <td>[0, 0, 0, 0, 0, 0, 0, 0, 0, 0, 0, 0, 0, 0, 0, ...</td>\n",
       "    </tr>\n",
       "  </tbody>\n",
       "</table>\n",
       "</div>"
      ],
      "text/plain": [
       "  Uniprot_ID     Peptide_sequence  Log2FC(LiP_norm)  \\\n",
       "0     P15703         KPNTSGTSDVEK         -2.176707   \n",
       "1     P15703              SYTSTVK          0.285029   \n",
       "2     P15703          NDLTASQLSDK         -0.498240   \n",
       "3     P15703  EAFDEDWKPNTSGTSDVEK          0.348193   \n",
       "4     P15703         SVVADISDSDGK         -0.434615   \n",
       "\n",
       "                                       full_sequence  \\\n",
       "0  MRFSTTLATAATALFFTASQVSAIGELAFNLGVKNNDGTCKSTSDY...   \n",
       "1  MRFSTTLATAATALFFTASQVSAIGELAFNLGVKNNDGTCKSTSDY...   \n",
       "2  MRFSTTLATAATALFFTASQVSAIGELAFNLGVKNNDGTCKSTSDY...   \n",
       "3  MRFSTTLATAATALFFTASQVSAIGELAFNLGVKNNDGTCKSTSDY...   \n",
       "4  MRFSTTLATAATALFFTASQVSAIGELAFNLGVKNNDGTCKSTSDY...   \n",
       "\n",
       "                                    Binary_Positions  \n",
       "0  [0, 0, 0, 0, 0, 0, 0, 0, 0, 0, 0, 0, 0, 0, 0, ...  \n",
       "1  [0, 0, 0, 0, 0, 0, 0, 0, 0, 0, 0, 0, 0, 0, 0, ...  \n",
       "2  [0, 0, 0, 0, 0, 0, 0, 0, 0, 0, 0, 0, 0, 0, 0, ...  \n",
       "3  [0, 0, 0, 0, 0, 0, 0, 0, 0, 0, 0, 0, 0, 0, 0, ...  \n",
       "4  [0, 0, 0, 0, 0, 0, 0, 0, 0, 0, 0, 0, 0, 0, 0, ...  "
      ]
     },
     "execution_count": 11,
     "metadata": {},
     "output_type": "execute_result"
    }
   ],
   "source": [
    "df.head()"
   ]
  },
  {
   "cell_type": "code",
   "execution_count": 12,
   "metadata": {},
   "outputs": [],
   "source": [
    "df.to_csv('data/OsmoticStress_with_binary_positions.csv', index=False)"
   ]
  }
 ],
 "metadata": {
  "colab": {
   "provenance": [],
   "toc_visible": true
  },
  "kernelspec": {
   "display_name": "Python 3 (ipykernel)",
   "language": "python",
   "name": "python3"
  },
  "language_info": {
   "codemirror_mode": {
    "name": "ipython",
    "version": 3
   },
   "file_extension": ".py",
   "mimetype": "text/x-python",
   "name": "python",
   "nbconvert_exporter": "python",
   "pygments_lexer": "ipython3",
   "version": "3.12.3"
  }
 },
 "nbformat": 4,
 "nbformat_minor": 1
}
