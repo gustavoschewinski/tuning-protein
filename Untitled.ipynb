{
 "cells": [
  {
   "cell_type": "code",
   "execution_count": null,
   "id": "17ee1f4f",
   "metadata": {},
   "outputs": [],
   "source": [
    "import pandas as pd"
   ]
  },
  {
   "cell_type": "code",
   "execution_count": null,
   "id": "960b21dc",
   "metadata": {},
   "outputs": [],
   "source": [
    "# Get the embeddings\n",
    "embeddings = pd.read_csv(\"data/OsmoticStress_with_binary_positions_and_embeddings.csv\", index_col=0)\n",
    "embeddings = embeddings.drop(columns=[\"full_sequence\"])\n",
    "\n",
    "# Get the dataset\n",
    "df = pd.read_csv('data/OsmoticStress_with_binary_positions.csv')\n",
    "df.drop(columns=['full_sequence', 'Peptide_sequence'], inplace=True)\n",
    "df.set_index('Uniprot_ID', inplace=True)\n",
    "\n",
    "# Merge the two and get the final dataset\n",
    "dataset = df.merge(embeddings, left_index=True, right_index=True)"
   ]
  },
  {
   "cell_type": "code",
   "execution_count": null,
   "id": "4abc9b3f",
   "metadata": {},
   "outputs": [],
   "source": [
    "dataset.head()"
   ]
  },
  {
   "cell_type": "code",
   "execution_count": null,
   "id": "c63c0e5c",
   "metadata": {},
   "outputs": [],
   "source": [
    "import re\n",
    "\n",
    "def convert_to_list(number_string):\n",
    "    cleaned_string = re.sub(r\"[^\\d,\\s]\", \"\", number_string)\n",
    "    return list(map(int, cleaned_string.split(',')))\n",
    "\n",
    "dataset['full_embedding'] = dataset['full_embedding'].apply(convert_to_list)\n",
    "dataset['Binary_Positions'] = dataset['Binary_Positions'].apply(convert_to_list)"
   ]
  },
  {
   "cell_type": "code",
   "execution_count": null,
   "id": "08239907",
   "metadata": {},
   "outputs": [],
   "source": [
    "pip install torch torchvision torchaudio"
   ]
  },
  {
   "cell_type": "code",
   "execution_count": null,
   "id": "e0a61088",
   "metadata": {},
   "outputs": [],
   "source": [
    "import torch\n",
    "import torch.nn as nn\n",
    "import numpy as np\n",
    "\n",
    "embedding_array = np.array(dataset['full_embedding'].tolist(), dtype=np.float32)\n",
    "full_embedding = torch.tensor(embedding_array)\n",
    "\n",
    "position_embedding_dim = len(dataset.iloc[0, 2]) \n",
    "num_positions = 20\n",
    "position_embedding = nn.Embedding(num_embeddings=num_positions, embedding_dim=position_embedding_dim)\n",
    "\n",
    "position_indices = torch.tensor([x[0] for x in dataset['Binary_Positions']])\n",
    "\n",
    "position_embed = position_embedding(position_indices)\n",
    "\n",
    "combined_embeddings = position_embed + full_embedding\n",
    "\n",
    "combined_embeddings_list = combined_embeddings.tolist()"
   ]
  },
  {
   "cell_type": "code",
   "execution_count": null,
   "id": "78399079",
   "metadata": {},
   "outputs": [],
   "source": [
    "# Create a new DataFrame using the original DataFrame's index\n",
    "X = pd.DataFrame(combined_embeddings_list, index=dataset.index)"
   ]
  },
  {
   "cell_type": "code",
   "execution_count": null,
   "id": "143b06ed",
   "metadata": {},
   "outputs": [],
   "source": [
    "X.head()"
   ]
  },
  {
   "cell_type": "code",
   "execution_count": null,
   "id": "0a092a8d",
   "metadata": {},
   "outputs": [],
   "source": [
    "y = dataset['Log2FC(LiP_norm)']"
   ]
  },
  {
   "cell_type": "code",
   "execution_count": null,
   "id": "43a4c920",
   "metadata": {},
   "outputs": [],
   "source": [
    "y.head()"
   ]
  },
  {
   "cell_type": "code",
   "execution_count": null,
   "id": "8343279e",
   "metadata": {},
   "outputs": [],
   "source": [
    "y.describe()"
   ]
  },
  {
   "cell_type": "code",
   "execution_count": null,
   "id": "6d3b5743",
   "metadata": {},
   "outputs": [],
   "source": [
    "pip install lazypredict"
   ]
  },
  {
   "cell_type": "code",
   "execution_count": null,
   "id": "af7208a8",
   "metadata": {},
   "outputs": [],
   "source": [
    "import numpy as np\n",
    "from sklearn.model_selection import train_test_split"
   ]
  },
  {
   "cell_type": "code",
   "execution_count": null,
   "id": "2d65db13",
   "metadata": {},
   "outputs": [],
   "source": [
    "X_train_raw, X_test_raw, y_train, y_test = train_test_split(X, y, train_size=0.7, shuffle=True)"
   ]
  },
  {
   "cell_type": "code",
   "execution_count": null,
   "id": "2aafa803",
   "metadata": {},
   "outputs": [],
   "source": [
    "from lazypredict.Supervised import LazyRegressor\n",
    "\n",
    "reg = LazyRegressor(verbose = 0, ignore_warning = True, custom_metric = None)"
   ]
  },
  {
   "cell_type": "code",
   "execution_count": null,
   "id": "727a703e",
   "metadata": {},
   "outputs": [],
   "source": [
    "models, predictions = reg.fit(X_train_raw, X_test, y_train_raw, y_test)"
   ]
  }
 ],
 "metadata": {
  "kernelspec": {
   "display_name": "Python 3 (ipykernel)",
   "language": "python",
   "name": "python3"
  },
  "language_info": {
   "codemirror_mode": {
    "name": "ipython",
    "version": 3
   },
   "file_extension": ".py",
   "mimetype": "text/x-python",
   "name": "python",
   "nbconvert_exporter": "python",
   "pygments_lexer": "ipython3",
   "version": "3.8.8"
  }
 },
 "nbformat": 4,
 "nbformat_minor": 5
}
