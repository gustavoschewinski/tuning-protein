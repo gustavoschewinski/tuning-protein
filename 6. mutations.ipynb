{
 "cells": [
  {
   "cell_type": "code",
   "execution_count": 6,
   "id": "8623192c-0b08-4533-bea7-f59d28d4e7fd",
   "metadata": {},
   "outputs": [
    {
     "data": {
      "text/html": [
       "<div>\n",
       "<style scoped>\n",
       "    .dataframe tbody tr th:only-of-type {\n",
       "        vertical-align: middle;\n",
       "    }\n",
       "\n",
       "    .dataframe tbody tr th {\n",
       "        vertical-align: top;\n",
       "    }\n",
       "\n",
       "    .dataframe thead th {\n",
       "        text-align: right;\n",
       "    }\n",
       "</style>\n",
       "<table border=\"1\" class=\"dataframe\">\n",
       "  <thead>\n",
       "    <tr style=\"text-align: right;\">\n",
       "      <th></th>\n",
       "      <th>Position</th>\n",
       "      <th>Substituted_AA</th>\n",
       "      <th>Mutant_Sequence</th>\n",
       "      <th>embeddings</th>\n",
       "    </tr>\n",
       "  </thead>\n",
       "  <tbody>\n",
       "    <tr>\n",
       "      <th>0</th>\n",
       "      <td>0</td>\n",
       "      <td>A</td>\n",
       "      <td>ALRGLKYVHSAGVIHRDLKPSNILINENCDLKICDFGLARIQDPQM...</td>\n",
       "      <td>[[0.03488211706280708, 0.10758719593286514, -0...</td>\n",
       "    </tr>\n",
       "    <tr>\n",
       "      <th>1</th>\n",
       "      <td>0</td>\n",
       "      <td>C</td>\n",
       "      <td>CLRGLKYVHSAGVIHRDLKPSNILINENCDLKICDFGLARIQDPQM...</td>\n",
       "      <td>[[0.040158264338970184, 0.10817589610815048, -...</td>\n",
       "    </tr>\n",
       "    <tr>\n",
       "      <th>2</th>\n",
       "      <td>0</td>\n",
       "      <td>D</td>\n",
       "      <td>DLRGLKYVHSAGVIHRDLKPSNILINENCDLKICDFGLARIQDPQM...</td>\n",
       "      <td>[[0.03663261607289314, 0.10296299308538437, -0...</td>\n",
       "    </tr>\n",
       "  </tbody>\n",
       "</table>\n",
       "</div>"
      ],
      "text/plain": [
       "   Position Substituted_AA                                    Mutant_Sequence  \\\n",
       "0         0              A  ALRGLKYVHSAGVIHRDLKPSNILINENCDLKICDFGLARIQDPQM...   \n",
       "1         0              C  CLRGLKYVHSAGVIHRDLKPSNILINENCDLKICDFGLARIQDPQM...   \n",
       "2         0              D  DLRGLKYVHSAGVIHRDLKPSNILINENCDLKICDFGLARIQDPQM...   \n",
       "\n",
       "                                          embeddings  \n",
       "0  [[0.03488211706280708, 0.10758719593286514, -0...  \n",
       "1  [[0.040158264338970184, 0.10817589610815048, -...  \n",
       "2  [[0.03663261607289314, 0.10296299308538437, -0...  "
      ]
     },
     "execution_count": 6,
     "metadata": {},
     "output_type": "execute_result"
    }
   ],
   "source": [
    "import pickle\n",
    "import pandas as pd\n",
    "import numpy as np\n",
    "\n",
    "file_path = 'data/mutant_sequences.pkl'\n",
    "\n",
    "with open(file_path, 'rb') as file:\n",
    "        mutant_embeddings = pickle.load(file)\n",
    "        mutant_embeddings = pd.DataFrame(mutant_embeddings)\n",
    "\n",
    "mutant_embeddings.head()"
   ]
  },
  {
   "cell_type": "code",
   "execution_count": 7,
   "id": "4b8d69b2-4f02-4341-a1a2-50acb016acd7",
   "metadata": {},
   "outputs": [],
   "source": [
    "trim_mutant_embeddings = [np.array(embedding)[1:-1, :] for embedding in mutant_embeddings['embeddings']]\n",
    "mutant_embeddings['trim_embeddings'] = trim_mutant_embeddings"
   ]
  }
 ],
 "metadata": {
  "kernelspec": {
   "display_name": "Python [conda env:.conda-l-schewinski-tp-4]",
   "language": "python",
   "name": "conda-env-.conda-l-schewinski-tp-4-py"
  },
  "language_info": {
   "codemirror_mode": {
    "name": "ipython",
    "version": 3
   },
   "file_extension": ".py",
   "mimetype": "text/x-python",
   "name": "python",
   "nbconvert_exporter": "python",
   "pygments_lexer": "ipython3",
   "version": "3.7.12"
  }
 },
 "nbformat": 4,
 "nbformat_minor": 5
}
