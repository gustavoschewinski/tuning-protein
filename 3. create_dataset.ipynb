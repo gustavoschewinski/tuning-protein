{
 "cells": [
  {
   "cell_type": "code",
   "execution_count": 2,
   "metadata": {},
   "outputs": [],
   "source": [
    "import pandas as pd"
   ]
  },
  {
   "cell_type": "code",
   "execution_count": 3,
   "metadata": {},
   "outputs": [
    {
     "data": {
      "text/html": [
       "<div>\n",
       "<style scoped>\n",
       "    .dataframe tbody tr th:only-of-type {\n",
       "        vertical-align: middle;\n",
       "    }\n",
       "\n",
       "    .dataframe tbody tr th {\n",
       "        vertical-align: top;\n",
       "    }\n",
       "\n",
       "    .dataframe thead th {\n",
       "        text-align: right;\n",
       "    }\n",
       "</style>\n",
       "<table border=\"1\" class=\"dataframe\">\n",
       "  <thead>\n",
       "    <tr style=\"text-align: right;\">\n",
       "      <th></th>\n",
       "      <th>full_embedding</th>\n",
       "    </tr>\n",
       "    <tr>\n",
       "      <th>Uniprot_ID</th>\n",
       "      <th></th>\n",
       "    </tr>\n",
       "  </thead>\n",
       "  <tbody>\n",
       "    <tr>\n",
       "      <th>P15703</th>\n",
       "      <td>[-0.012820357456803322, -0.04501103237271309, ...</td>\n",
       "    </tr>\n",
       "    <tr>\n",
       "      <th>P38174</th>\n",
       "      <td>[0.008805758319795132, -0.023113509640097618, ...</td>\n",
       "    </tr>\n",
       "    <tr>\n",
       "      <th>P26637</th>\n",
       "      <td>[-0.01857873983681202, -0.028059637174010277, ...</td>\n",
       "    </tr>\n",
       "    <tr>\n",
       "      <th>P06169</th>\n",
       "      <td>[-0.01287546381354332, -0.06968149542808533, -...</td>\n",
       "    </tr>\n",
       "    <tr>\n",
       "      <th>P00359</th>\n",
       "      <td>[0.028180647641420364, -0.010579398833215237, ...</td>\n",
       "    </tr>\n",
       "  </tbody>\n",
       "</table>\n",
       "</div>"
      ],
      "text/plain": [
       "                                               full_embedding\n",
       "Uniprot_ID                                                   \n",
       "P15703      [-0.012820357456803322, -0.04501103237271309, ...\n",
       "P38174      [0.008805758319795132, -0.023113509640097618, ...\n",
       "P26637      [-0.01857873983681202, -0.028059637174010277, ...\n",
       "P06169      [-0.01287546381354332, -0.06968149542808533, -...\n",
       "P00359      [0.028180647641420364, -0.010579398833215237, ..."
      ]
     },
     "execution_count": 3,
     "metadata": {},
     "output_type": "execute_result"
    }
   ],
   "source": [
    "embeddings = pd.read_csv(\"data/OsmoticStress_with_binary_positions_and_embeddings.csv\", index_col=0)\n",
    "embeddings = embeddings.drop(columns=[\"full_sequence\"])\n",
    "embeddings.head()"
   ]
  },
  {
   "cell_type": "code",
   "execution_count": 4,
   "metadata": {},
   "outputs": [
    {
     "data": {
      "text/html": [
       "<div>\n",
       "<style scoped>\n",
       "    .dataframe tbody tr th:only-of-type {\n",
       "        vertical-align: middle;\n",
       "    }\n",
       "\n",
       "    .dataframe tbody tr th {\n",
       "        vertical-align: top;\n",
       "    }\n",
       "\n",
       "    .dataframe thead th {\n",
       "        text-align: right;\n",
       "    }\n",
       "</style>\n",
       "<table border=\"1\" class=\"dataframe\">\n",
       "  <thead>\n",
       "    <tr style=\"text-align: right;\">\n",
       "      <th></th>\n",
       "      <th>Log2FC(LiP_norm)</th>\n",
       "      <th>Binary_Positions</th>\n",
       "    </tr>\n",
       "    <tr>\n",
       "      <th>Uniprot_ID</th>\n",
       "      <th></th>\n",
       "      <th></th>\n",
       "    </tr>\n",
       "  </thead>\n",
       "  <tbody>\n",
       "    <tr>\n",
       "      <th>P15703</th>\n",
       "      <td>-2.176707</td>\n",
       "      <td>[0, 0, 0, 0, 0, 0, 0, 0, 0, 0, 0, 0, 0, 0, 0, ...</td>\n",
       "    </tr>\n",
       "    <tr>\n",
       "      <th>P15703</th>\n",
       "      <td>0.285029</td>\n",
       "      <td>[0, 0, 0, 0, 0, 0, 0, 0, 0, 0, 0, 0, 0, 0, 0, ...</td>\n",
       "    </tr>\n",
       "    <tr>\n",
       "      <th>P15703</th>\n",
       "      <td>-0.498240</td>\n",
       "      <td>[0, 0, 0, 0, 0, 0, 0, 0, 0, 0, 0, 0, 0, 0, 0, ...</td>\n",
       "    </tr>\n",
       "    <tr>\n",
       "      <th>P15703</th>\n",
       "      <td>0.348193</td>\n",
       "      <td>[0, 0, 0, 0, 0, 0, 0, 0, 0, 0, 0, 0, 0, 0, 0, ...</td>\n",
       "    </tr>\n",
       "    <tr>\n",
       "      <th>P15703</th>\n",
       "      <td>-0.434615</td>\n",
       "      <td>[0, 0, 0, 0, 0, 0, 0, 0, 0, 0, 0, 0, 0, 0, 0, ...</td>\n",
       "    </tr>\n",
       "  </tbody>\n",
       "</table>\n",
       "</div>"
      ],
      "text/plain": [
       "            Log2FC(LiP_norm)  \\\n",
       "Uniprot_ID                     \n",
       "P15703             -2.176707   \n",
       "P15703              0.285029   \n",
       "P15703             -0.498240   \n",
       "P15703              0.348193   \n",
       "P15703             -0.434615   \n",
       "\n",
       "                                             Binary_Positions  \n",
       "Uniprot_ID                                                     \n",
       "P15703      [0, 0, 0, 0, 0, 0, 0, 0, 0, 0, 0, 0, 0, 0, 0, ...  \n",
       "P15703      [0, 0, 0, 0, 0, 0, 0, 0, 0, 0, 0, 0, 0, 0, 0, ...  \n",
       "P15703      [0, 0, 0, 0, 0, 0, 0, 0, 0, 0, 0, 0, 0, 0, 0, ...  \n",
       "P15703      [0, 0, 0, 0, 0, 0, 0, 0, 0, 0, 0, 0, 0, 0, 0, ...  \n",
       "P15703      [0, 0, 0, 0, 0, 0, 0, 0, 0, 0, 0, 0, 0, 0, 0, ...  "
      ]
     },
     "execution_count": 4,
     "metadata": {},
     "output_type": "execute_result"
    }
   ],
   "source": [
    "df = pd.read_csv('data/OsmoticStress_with_binary_positions.csv')\n",
    "df.drop(columns=['full_sequence', 'Peptide_sequence'], inplace=True)\n",
    "df.set_index('Uniprot_ID', inplace=True)\n",
    "df.head()"
   ]
  },
  {
   "cell_type": "code",
   "execution_count": 5,
   "metadata": {},
   "outputs": [],
   "source": [
    "dataset = df.merge(embeddings, left_index=True, right_index=True)"
   ]
  },
  {
   "cell_type": "code",
   "execution_count": 8,
   "metadata": {},
   "outputs": [
    {
     "data": {
      "text/plain": [
       "(31845, 3)"
      ]
     },
     "execution_count": 8,
     "metadata": {},
     "output_type": "execute_result"
    }
   ],
   "source": [
    "dataset.shape"
   ]
  },
  {
   "cell_type": "code",
   "execution_count": 6,
   "metadata": {},
   "outputs": [
    {
     "data": {
      "text/html": [
       "<div>\n",
       "<style scoped>\n",
       "    .dataframe tbody tr th:only-of-type {\n",
       "        vertical-align: middle;\n",
       "    }\n",
       "\n",
       "    .dataframe tbody tr th {\n",
       "        vertical-align: top;\n",
       "    }\n",
       "\n",
       "    .dataframe thead th {\n",
       "        text-align: right;\n",
       "    }\n",
       "</style>\n",
       "<table border=\"1\" class=\"dataframe\">\n",
       "  <thead>\n",
       "    <tr style=\"text-align: right;\">\n",
       "      <th></th>\n",
       "      <th>Log2FC(LiP_norm)</th>\n",
       "      <th>Binary_Positions</th>\n",
       "      <th>full_embedding</th>\n",
       "    </tr>\n",
       "    <tr>\n",
       "      <th>Uniprot_ID</th>\n",
       "      <th></th>\n",
       "      <th></th>\n",
       "      <th></th>\n",
       "    </tr>\n",
       "  </thead>\n",
       "  <tbody>\n",
       "    <tr>\n",
       "      <th>A5Z2X5</th>\n",
       "      <td>-0.153604</td>\n",
       "      <td>[0, 0, 0, 0, 0, 0, 0, 0, 0, 0, 0, 0, 0, 0, 0, ...</td>\n",
       "      <td>[0.08848178386688232, 0.07881519943475723, -0....</td>\n",
       "    </tr>\n",
       "    <tr>\n",
       "      <th>A5Z2X5</th>\n",
       "      <td>-1.869623</td>\n",
       "      <td>[0, 0, 0, 0, 0, 0, 0, 0, 0, 0, 0, 0, 0, 0, 0, ...</td>\n",
       "      <td>[0.08848178386688232, 0.07881519943475723, -0....</td>\n",
       "    </tr>\n",
       "    <tr>\n",
       "      <th>D6VTK4</th>\n",
       "      <td>-0.008114</td>\n",
       "      <td>[0, 0, 0, 0, 0, 0, 0, 0, 0, 0, 0, 0, 0, 0, 0, ...</td>\n",
       "      <td>[-0.047565970569849014, -0.007273535244166851,...</td>\n",
       "    </tr>\n",
       "    <tr>\n",
       "      <th>O13297</th>\n",
       "      <td>-0.374875</td>\n",
       "      <td>[0, 0, 0, 0, 0, 0, 0, 0, 0, 0, 0, 0, 0, 0, 0, ...</td>\n",
       "      <td>[-0.0021353999618440866, -0.015769580379128456...</td>\n",
       "    </tr>\n",
       "    <tr>\n",
       "      <th>O13297</th>\n",
       "      <td>-0.207803</td>\n",
       "      <td>[0, 0, 0, 0, 0, 0, 0, 0, 0, 0, 0, 0, 0, 0, 0, ...</td>\n",
       "      <td>[-0.0021353999618440866, -0.015769580379128456...</td>\n",
       "    </tr>\n",
       "  </tbody>\n",
       "</table>\n",
       "</div>"
      ],
      "text/plain": [
       "            Log2FC(LiP_norm)  \\\n",
       "Uniprot_ID                     \n",
       "A5Z2X5             -0.153604   \n",
       "A5Z2X5             -1.869623   \n",
       "D6VTK4             -0.008114   \n",
       "O13297             -0.374875   \n",
       "O13297             -0.207803   \n",
       "\n",
       "                                             Binary_Positions  \\\n",
       "Uniprot_ID                                                      \n",
       "A5Z2X5      [0, 0, 0, 0, 0, 0, 0, 0, 0, 0, 0, 0, 0, 0, 0, ...   \n",
       "A5Z2X5      [0, 0, 0, 0, 0, 0, 0, 0, 0, 0, 0, 0, 0, 0, 0, ...   \n",
       "D6VTK4      [0, 0, 0, 0, 0, 0, 0, 0, 0, 0, 0, 0, 0, 0, 0, ...   \n",
       "O13297      [0, 0, 0, 0, 0, 0, 0, 0, 0, 0, 0, 0, 0, 0, 0, ...   \n",
       "O13297      [0, 0, 0, 0, 0, 0, 0, 0, 0, 0, 0, 0, 0, 0, 0, ...   \n",
       "\n",
       "                                               full_embedding  \n",
       "Uniprot_ID                                                     \n",
       "A5Z2X5      [0.08848178386688232, 0.07881519943475723, -0....  \n",
       "A5Z2X5      [0.08848178386688232, 0.07881519943475723, -0....  \n",
       "D6VTK4      [-0.047565970569849014, -0.007273535244166851,...  \n",
       "O13297      [-0.0021353999618440866, -0.015769580379128456...  \n",
       "O13297      [-0.0021353999618440866, -0.015769580379128456...  "
      ]
     },
     "execution_count": 6,
     "metadata": {},
     "output_type": "execute_result"
    }
   ],
   "source": [
    "dataset.head()"
   ]
  },
  {
   "cell_type": "code",
   "execution_count": 9,
   "metadata": {},
   "outputs": [],
   "source": [
    "# dataset.to_csv(\"data/dataset.csv\")"
   ]
  }
 ],
 "metadata": {
  "kernelspec": {
   "display_name": "tp",
   "language": "python",
   "name": "python3"
  },
  "language_info": {
   "codemirror_mode": {
    "name": "ipython",
    "version": 3
   },
   "file_extension": ".py",
   "mimetype": "text/x-python",
   "name": "python",
   "nbconvert_exporter": "python",
   "pygments_lexer": "ipython3",
   "version": "3.7.16"
  }
 },
 "nbformat": 4,
 "nbformat_minor": 2
}
