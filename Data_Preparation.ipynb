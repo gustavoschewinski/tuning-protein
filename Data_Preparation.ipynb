{
 "cells": [
  {
   "cell_type": "markdown",
   "metadata": {},
   "source": [
    "# Protein conformational changes between conditions\n"
   ]
  },
  {
   "cell_type": "markdown",
   "metadata": {},
   "source": [
    "## Getting the data"
   ]
  },
  {
   "cell_type": "code",
   "execution_count": 29,
   "metadata": {
    "id": "b2gkjMaEQ5eO"
   },
   "outputs": [],
   "source": [
    "import pandas as pd\n",
    "import numpy as np\n",
    "\n",
    "df = pd.read_excel('OsmoticStress.xlsx')"
   ]
  },
  {
   "cell_type": "code",
   "execution_count": 30,
   "metadata": {
    "id": "tif0zHXPTkyh"
   },
   "outputs": [],
   "source": [
    "df = df[['Uniprot_ID', 'Peptide_sequence', 'Log2FC(LiP_norm)']]"
   ]
  },
  {
   "cell_type": "code",
   "execution_count": 31,
   "metadata": {
    "colab": {
     "base_uri": "https://localhost:8080/",
     "height": 206
    },
    "id": "sqMOUhaFTILF",
    "outputId": "72e19efc-5aab-4eb5-e1f0-a331dfaad718"
   },
   "outputs": [
    {
     "data": {
      "text/html": [
       "<div>\n",
       "<style scoped>\n",
       "    .dataframe tbody tr th:only-of-type {\n",
       "        vertical-align: middle;\n",
       "    }\n",
       "\n",
       "    .dataframe tbody tr th {\n",
       "        vertical-align: top;\n",
       "    }\n",
       "\n",
       "    .dataframe thead th {\n",
       "        text-align: right;\n",
       "    }\n",
       "</style>\n",
       "<table border=\"1\" class=\"dataframe\">\n",
       "  <thead>\n",
       "    <tr style=\"text-align: right;\">\n",
       "      <th></th>\n",
       "      <th>Uniprot_ID</th>\n",
       "      <th>Peptide_sequence</th>\n",
       "      <th>Log2FC(LiP_norm)</th>\n",
       "    </tr>\n",
       "  </thead>\n",
       "  <tbody>\n",
       "    <tr>\n",
       "      <th>0</th>\n",
       "      <td>P15703</td>\n",
       "      <td>KPNTSGTSDVEK</td>\n",
       "      <td>-2.176707</td>\n",
       "    </tr>\n",
       "    <tr>\n",
       "      <th>1</th>\n",
       "      <td>P15703</td>\n",
       "      <td>SYTSTVK</td>\n",
       "      <td>0.285029</td>\n",
       "    </tr>\n",
       "    <tr>\n",
       "      <th>2</th>\n",
       "      <td>P15703</td>\n",
       "      <td>NDLTASQLSDK</td>\n",
       "      <td>-0.498240</td>\n",
       "    </tr>\n",
       "    <tr>\n",
       "      <th>3</th>\n",
       "      <td>P15703</td>\n",
       "      <td>EAFDEDWKPNTSGTSDVEK</td>\n",
       "      <td>0.348193</td>\n",
       "    </tr>\n",
       "    <tr>\n",
       "      <th>4</th>\n",
       "      <td>P15703</td>\n",
       "      <td>SVVADISDSDGK</td>\n",
       "      <td>-0.434615</td>\n",
       "    </tr>\n",
       "  </tbody>\n",
       "</table>\n",
       "</div>"
      ],
      "text/plain": [
       "  Uniprot_ID     Peptide_sequence  Log2FC(LiP_norm)\n",
       "0     P15703         KPNTSGTSDVEK         -2.176707\n",
       "1     P15703              SYTSTVK          0.285029\n",
       "2     P15703          NDLTASQLSDK         -0.498240\n",
       "3     P15703  EAFDEDWKPNTSGTSDVEK          0.348193\n",
       "4     P15703         SVVADISDSDGK         -0.434615"
      ]
     },
     "execution_count": 31,
     "metadata": {},
     "output_type": "execute_result"
    }
   ],
   "source": [
    "df.head()"
   ]
  },
  {
   "cell_type": "code",
   "execution_count": 32,
   "metadata": {
    "id": "cuEPZVtCUbQ2"
   },
   "outputs": [],
   "source": [
    "from Bio import SeqIO\n",
    "\n",
    "def read_fasta_to_dict(file_path):\n",
    "    sequences = {}\n",
    "    for record in SeqIO.parse(file_path, \"fasta\"):\n",
    "        # Splitting the record.id to extract the UniProt ID if necessary\n",
    "        uniprot_id = record.id.split('|')[1]  # Adjust this as per your FASTA file's format\n",
    "        sequences[uniprot_id] = str(record.seq)\n",
    "    return sequences\n",
    "\n",
    "# Provide the path to your FASTA file\n",
    "fasta_file_path = 'UP000002311_559292.fasta'\n",
    "sequences = read_fasta_to_dict(fasta_file_path)"
   ]
  },
  {
   "cell_type": "code",
   "execution_count": 33,
   "metadata": {
    "id": "wpp4BI2MVFxG"
   },
   "outputs": [],
   "source": [
    "df[\"full_sequence\"] = df['Uniprot_ID'].map(sequences)"
   ]
  },
  {
   "cell_type": "code",
   "execution_count": 37,
   "metadata": {},
   "outputs": [
    {
     "name": "stdout",
     "output_type": "stream",
     "text": [
      "      Uniprot_ID     Peptide_sequence  Log2FC(LiP_norm)  \\\n",
      "0         P15703         KPNTSGTSDVEK         -2.176707   \n",
      "1         P15703              SYTSTVK          0.285029   \n",
      "2         P15703          NDLTASQLSDK         -0.498240   \n",
      "3         P15703  EAFDEDWKPNTSGTSDVEK          0.348193   \n",
      "4         P15703         SVVADISDSDGK         -0.434615   \n",
      "...          ...                  ...               ...   \n",
      "32704     P38887          FITVPLVVASR         -0.008441   \n",
      "32705     P53093         GTLDETVLQTLK          0.006678   \n",
      "32706     Q04772           DVSNSKPNVR         -0.015149   \n",
      "32707     P21192          VLEEQEEVAQK         -0.010109   \n",
      "32708     Q03687     DSNDTSDSPQDDQVGK         -0.192194   \n",
      "\n",
      "                                           full_sequence  \\\n",
      "0      MRFSTTLATAATALFFTASQVSAIGELAFNLGVKNNDGTCKSTSDY...   \n",
      "1      MRFSTTLATAATALFFTASQVSAIGELAFNLGVKNNDGTCKSTSDY...   \n",
      "2      MRFSTTLATAATALFFTASQVSAIGELAFNLGVKNNDGTCKSTSDY...   \n",
      "3      MRFSTTLATAATALFFTASQVSAIGELAFNLGVKNNDGTCKSTSDY...   \n",
      "4      MRFSTTLATAATALFFTASQVSAIGELAFNLGVKNNDGTCKSTSDY...   \n",
      "...                                                  ...   \n",
      "32704  MILKLVHCLVALTGLIFAKPYQQQQAVLAPSQDVPLRDIHIGDINF...   \n",
      "32705  MSYGREDTTIEPDFIEPDAPLAASGGVADNIGGTMQNSGSRGTLDE...   \n",
      "32706  MSSDGMNRDVSNSKPNVRFAAPQRLSVAHPAISSPLHMPMSKSSRK...   \n",
      "32707  MDNVVDPWYINPSGFAKDTQDEEYVQHHDNVNPTIPPPDNYILNNE...   \n",
      "32708  MSTTGPLDATLIRDVAVATATKASYDMSDTLYSYLPKVDQFYIPEW...   \n",
      "\n",
      "                                        Binary_Positions  \n",
      "0      [0, 0, 0, 0, 0, 0, 0, 0, 0, 0, 0, 0, 0, 0, 0, ...  \n",
      "1      [0, 0, 0, 0, 0, 0, 0, 0, 0, 0, 0, 0, 0, 0, 0, ...  \n",
      "2      [0, 0, 0, 0, 0, 0, 0, 0, 0, 0, 0, 0, 0, 0, 0, ...  \n",
      "3      [0, 0, 0, 0, 0, 0, 0, 0, 0, 0, 0, 0, 0, 0, 0, ...  \n",
      "4      [0, 0, 0, 0, 0, 0, 0, 0, 0, 0, 0, 0, 0, 0, 0, ...  \n",
      "...                                                  ...  \n",
      "32704  [0, 0, 0, 0, 0, 0, 0, 0, 0, 0, 0, 0, 0, 0, 0, ...  \n",
      "32705  [0, 0, 0, 0, 0, 0, 0, 0, 0, 0, 0, 0, 0, 0, 0, ...  \n",
      "32706  [0, 0, 0, 0, 0, 0, 0, 0, 1, 1, 1, 1, 1, 1, 1, ...  \n",
      "32707  [0, 0, 0, 0, 0, 0, 0, 0, 0, 0, 0, 0, 0, 0, 0, ...  \n",
      "32708  [0, 0, 0, 0, 0, 0, 0, 0, 0, 0, 0, 0, 0, 0, 0, ...  \n",
      "\n",
      "[32709 rows x 5 columns]\n"
     ]
    }
   ],
   "source": [
    "# Function to create a binary array for the short peptide's position within the full peptide\n",
    "df[\"full_sequence\"]= df[\"full_sequence\"].astype(str)\n",
    "df[\"Peptide_sequence\"]= df[\"Peptide_sequence\"]. astype(str)\n",
    "\n",
    "def binary_position(row):\n",
    "    full_len = len(row['full_sequence'])\n",
    "    short_len = len(row['Peptide_sequence'])\n",
    "    start_index = row['full_sequence'].find(row['Peptide_sequence'])\n",
    "    # Create an array of zeros with length equal to the full peptide\n",
    "    positions = np.zeros(full_len, dtype=int)\n",
    "    # If the short peptide is found, set positions to 1 for its length from the start index\n",
    "    if start_index != -1:\n",
    "        positions[start_index:start_index + short_len] = 1\n",
    "    return positions.tolist()\n",
    "# Apply the function to each row and create a new column for the binary positions\n",
    "df['Binary_Positions'] = df.apply(binary_position, axis=1)\n",
    "print(df)\n"
   ]
  },
  {
   "cell_type": "code",
   "execution_count": 43,
   "metadata": {
    "colab": {
     "base_uri": "https://localhost:8080/",
     "height": 206
    },
    "id": "fYnXCETCVpqB",
    "outputId": "23517f27-a782-432c-eb38-d495c6bf3b0e"
   },
   "outputs": [
    {
     "data": {
      "text/plain": [
       "Uniprot_ID                                                     P15703\n",
       "Peptide_sequence                                         KPNTSGTSDVEK\n",
       "Log2FC(LiP_norm)                                             -2.17671\n",
       "full_sequence       MRFSTTLATAATALFFTASQVSAIGELAFNLGVKNNDGTCKSTSDY...\n",
       "Binary_Positions    [0, 0, 0, 0, 0, 0, 0, 0, 0, 0, 0, 0, 0, 0, 0, ...\n",
       "Name: 0, dtype: object"
      ]
     },
     "execution_count": 43,
     "metadata": {},
     "output_type": "execute_result"
    }
   ],
   "source": [
    "df.iloc[0,:]"
   ]
  },
  {
   "cell_type": "code",
   "execution_count": null,
   "metadata": {
    "id": "E0awHysFVvF2"
   },
   "outputs": [],
   "source": [
    "df.to_csv(gdrive_path + \"/processed_yeast_df.csv\")"
   ]
  },
  {
   "cell_type": "code",
   "execution_count": null,
   "metadata": {},
   "outputs": [],
   "source": [
    "#TODO Split training and testing data"
   ]
  },
  {
   "cell_type": "markdown",
   "metadata": {},
   "source": [
    "## Getting the model from hugging face\n"
   ]
  },
  {
   "cell_type": "code",
   "execution_count": null,
   "metadata": {},
   "outputs": [],
   "source": [
    "from huggingface_hub import notebook_login\n",
    "\n",
    "notebook_login()\n"
   ]
  },
  {
   "cell_type": "markdown",
   "metadata": {},
   "source": [
    "Choose one of the following checkpoints:\n",
    "\n",
    "\n",
    "| Checkpoint name | Num layers | Num parameters |\n",
    "|------------------------------|----|----------|\n",
    "| `esm2_t48_15B_UR50D`         | 48 | 15B     |\n",
    "| `esm2_t36_3B_UR50D`          | 36 | 3B      |\n",
    "| `esm2_t33_650M_UR50D`        | 33 | 650M    |\n",
    "| `esm2_t30_150M_UR50D`        | 30 | 150M    |\n",
    "| `esm2_t12_35M_UR50D`         | 12 | 35M     |\n",
    "| `esm2_t6_8M_UR50D`           | 6  | 8M      |"
   ]
  },
  {
   "cell_type": "code",
   "execution_count": null,
   "metadata": {},
   "outputs": [],
   "source": [
    "model_checkpoint = \"facebook/esm2_t6_8M_UR50D\""
   ]
  },
  {
   "cell_type": "code",
   "execution_count": null,
   "metadata": {},
   "outputs": [],
   "source": [
    "from transformers import AutoTokenizer\n",
    "\n",
    "tokenizer = AutoTokenizer.from_pretrained(model_checkpoint)"
   ]
  }
 ],
 "metadata": {
  "colab": {
   "provenance": [],
   "toc_visible": true
  },
  "kernelspec": {
   "display_name": "Python 3 (ipykernel)",
   "language": "python",
   "name": "python3"
  },
  "language_info": {
   "codemirror_mode": {
    "name": "ipython",
    "version": 3
   },
   "file_extension": ".py",
   "mimetype": "text/x-python",
   "name": "python",
   "nbconvert_exporter": "python",
   "pygments_lexer": "ipython3",
   "version": "3.8.3"
  }
 },
 "nbformat": 4,
 "nbformat_minor": 1
}
